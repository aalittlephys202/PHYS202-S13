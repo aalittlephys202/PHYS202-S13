{
 "metadata": {
  "name": "ProjectEuler 19"
 },
 "nbformat": 3,
 "nbformat_minor": 0,
 "worksheets": [
  {
   "cells": [
    {
     "cell_type": "code",
     "collapsed": false,
     "input": [],
     "language": "python",
     "metadata": {},
     "outputs": [],
     "prompt_number": 32
    },
    {
     "cell_type": "code",
     "collapsed": false,
     "input": [
      "def find_days(month, yr):\n",
      "    \"\"\"Finds the number of days the month has\"\"\"\n",
      "    if (month == 1) or (month == 3) or (month == 5) or (month == 7) \\\n",
      "       or (month == 8) or (month == 10) or (month == 12):\n",
      "        d = 31\n",
      "        return d\n",
      "    elif (month == 4) or (month == 6) or (month == 9) or (month == 11):\n",
      "        d = 30\n",
      "        return d\n",
      "    elif (month == 2):\n",
      "        if yr % 4 == 0:\n",
      "            if yr % 100 == 0:\n",
      "                if yr % 400 == 0:\n",
      "                    d = 29\n",
      "                    return d\n",
      "                else:\n",
      "                    d = 28\n",
      "                    return d\n",
      "            d = 29\n",
      "            return d\n",
      "        else:\n",
      "            d = 28\n",
      "            return d\n",
      "         \n",
      "    else:\n",
      "        print \"There has been an error\"\n",
      "         \n",
      "L = {1:'Sun', 2:'Mon', 3:'Tue', 4:'Wed', 5:'Thurs', 6:'Fri', 7:'Sat'}\n",
      " \n",
      "def main():\n",
      "    \"\"\"Main Program\"\"\"\n",
      "    counter = 1 # Start at Monday, 1st, 1900\n",
      "    tally = 0\n",
      "    for yr in range(1900, 2001):\n",
      "    # Year\n",
      "        \"\\nYear = \", yr\n",
      "         \n",
      "        for month in range(1, 13):\n",
      "        # Month\n",
      "            y = find_days(month, yr)\n",
      "             \n",
      "            for month_days in range(1, (y + 1)):\n",
      "            # Number of month days\n",
      "                counter = counter + 1       \n",
      "                if (month_days == 1) and L[counter] == \"Sun\":\n",
      "                    \"month_days = %s [counter]= %s \" \\\n",
      "                          % (month_days, [counter])\n",
      "                    tally = tally + 1\n",
      "                if counter >= 7: # Days of the week\n",
      "                    counter = 0\n",
      "    print \"\\nTally = \", (tally - 2)\n",
      "    # subtract 2 for the year 1900                \n",
      " \n",
      "if __name__ == '__main__':\n",
      "    main()"
     ],
     "language": "python",
     "metadata": {},
     "outputs": [
      {
       "output_type": "stream",
       "stream": "stdout",
       "text": [
        "\n",
        "Tally =  171\n"
       ]
      }
     ],
     "prompt_number": 32
    },
    {
     "cell_type": "code",
     "collapsed": false,
     "input": [],
     "language": "python",
     "metadata": {},
     "outputs": []
    }
   ],
   "metadata": {}
  }
 ]
}