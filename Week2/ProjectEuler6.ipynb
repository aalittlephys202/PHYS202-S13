{
 "metadata": {
  "name": "ProjectEuler6"
 },
 "nbformat": 3,
 "nbformat_minor": 0,
 "worksheets": [
  {
   "cells": [
    {
     "cell_type": "markdown",
     "metadata": {},
     "source": [
      "Sum square difference\n",
      "Problem 6\n",
      "The sum of the squares of the first ten natural numbers is,\n",
      "\n",
      "12 + 22 + ... + 102 = 385\n",
      "The square of the sum of the first ten natural numbers is,\n",
      "\n",
      "(1 + 2 + ... + 10)2 = 552 = 3025\n",
      "Hence the difference between the sum of the squares of the first ten natural numbers and the square of the sum is 3025  385 = 2640.\n",
      "\n",
      "Find the difference between the sum of the squares of the first one hundred natural numbers and the square of the sum."
     ]
    },
    {
     "cell_type": "markdown",
     "metadata": {},
     "source": []
    },
    {
     "cell_type": "code",
     "collapsed": false,
     "input": [
      "sum_square=0\n",
      "square_sum=0\n",
      "for x in range(100):\n",
      "    sum_square +=(x+1)**2\n",
      "    square_sum += x+1\n",
      "print (square_sum**2)-sum_square"
     ],
     "language": "python",
     "metadata": {},
     "outputs": [
      {
       "output_type": "stream",
       "stream": "stdout",
       "text": [
        "25164150\n"
       ]
      }
     ],
     "prompt_number": 2
    },
    {
     "cell_type": "code",
     "collapsed": false,
     "input": [],
     "language": "python",
     "metadata": {},
     "outputs": []
    }
   ],
   "metadata": {}
  }
 ]
}