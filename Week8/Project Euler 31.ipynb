{
 "metadata": {
  "name": "Project Euler 31"
 },
 "nbformat": 3,
 "nbformat_minor": 0,
 "worksheets": [
  {
   "cells": [
    {
     "cell_type": "markdown",
     "metadata": {},
     "source": [
      "Coin sums\n",
      "Problem 31\n",
      "=\n",
      "In England the currency is made up of pound, \u00a3, and pence, p, and there are eight coins in general circulation:\n",
      "\n",
      "1p, 2p, 5p, 10p, 20p, 50p, \u00a31 (100p) and \u00a32 (200p).\n",
      "It is possible to make \u00a32 in the following way:\n",
      "\n",
      "1x\u00a31 + 1x50p + 2x20p + 1x5p + 1x2p + 3x1p\n",
      "How many different ways can \u00a32 be made using any number of coins?"
     ]
    },
    {
     "cell_type": "code",
     "collapsed": false,
     "input": [
      "#how many ways to make 200 using the numbers 1,2,5,10,20,50,100,and 200\n",
      "L2=200\n",
      "coins = [1,2,5,10,20,50,100,200]"
     ],
     "language": "python",
     "metadata": {},
     "outputs": [],
     "prompt_number": 32
    },
    {
     "cell_type": "code",
     "collapsed": false,
     "input": [
      "def ways(amount):\n",
      "    ways = [1]+[0]*amount\n",
      "    for coin in coins:\n",
      "        for i in range(coin, amount+1):\n",
      "            ways[i] += ways[i-coin]\n",
      "    return str(ways[amount])\n",
      "    \n",
      "print \"Number of combinations is\", ways[L2]#i dont understand why this doesnt work but the below code does"
     ],
     "language": "python",
     "metadata": {},
     "outputs": [
      {
       "ename": "TypeError",
       "evalue": "'function' object has no attribute '__getitem__'",
       "output_type": "pyerr",
       "traceback": [
        "\u001b[1;31m---------------------------------------------------------------------------\u001b[0m\n\u001b[1;31mTypeError\u001b[0m                                 Traceback (most recent call last)",
        "\u001b[1;32m<ipython-input-37-c80e1dfbf512>\u001b[0m in \u001b[0;36m<module>\u001b[1;34m()\u001b[0m\n\u001b[0;32m      6\u001b[0m     \u001b[1;32mreturn\u001b[0m \u001b[0mstr\u001b[0m\u001b[1;33m(\u001b[0m\u001b[0mways\u001b[0m\u001b[1;33m[\u001b[0m\u001b[0mamount\u001b[0m\u001b[1;33m]\u001b[0m\u001b[1;33m)\u001b[0m\u001b[1;33m\u001b[0m\u001b[0m\n\u001b[0;32m      7\u001b[0m \u001b[1;33m\u001b[0m\u001b[0m\n\u001b[1;32m----> 8\u001b[1;33m \u001b[1;32mprint\u001b[0m \u001b[1;34m\"Number of combinations is\"\u001b[0m\u001b[1;33m,\u001b[0m \u001b[0mways\u001b[0m\u001b[1;33m[\u001b[0m\u001b[0mL2\u001b[0m\u001b[1;33m]\u001b[0m\u001b[1;31m#i dont understand why this doesnt work but the below code does\u001b[0m\u001b[1;33m\u001b[0m\u001b[0m\n\u001b[0m",
        "\u001b[1;31mTypeError\u001b[0m: 'function' object has no attribute '__getitem__'"
       ]
      },
      {
       "output_type": "stream",
       "stream": "stdout",
       "text": [
        " Number of combinations is"
       ]
      }
     ],
     "prompt_number": 37
    },
    {
     "cell_type": "code",
     "collapsed": false,
     "input": [
      "#Test case 1\n",
      "# number of ways to make 1 is 1\n",
      "L2=1\n",
      "ways = [1]+[0]*L2 \n",
      "for coin in coins:\n",
      "  for i in range(coin, L2+1):\n",
      "    ways[i] += ways[i-coin]\n",
      " \n",
      "print \"Number of combinations is\", ways[L2]"
     ],
     "language": "python",
     "metadata": {},
     "outputs": [
      {
       "output_type": "stream",
       "stream": "stdout",
       "text": [
        "Number of combinations is 1\n"
       ]
      }
     ],
     "prompt_number": 43
    },
    {
     "cell_type": "code",
     "collapsed": false,
     "input": [
      "#Test case 2 \n",
      "# number of ways to make 2 is 2\n",
      "L2=2\n",
      "ways = [1]+[0]*L2 \n",
      "for coin in coins:\n",
      "  for i in range(coin, L2+1):\n",
      "    ways[i] += ways[i-coin]\n",
      " \n",
      "print \"Number of combinations is\", ways[L2]"
     ],
     "language": "python",
     "metadata": {},
     "outputs": [
      {
       "output_type": "stream",
       "stream": "stdout",
       "text": [
        "Number of combinations is 2\n"
       ]
      }
     ],
     "prompt_number": 44
    },
    {
     "cell_type": "code",
     "collapsed": false,
     "input": [
      "#Answer\n",
      "L2=200\n",
      "ways = [1]+[0]*L2 \n",
      "for coin in coins:\n",
      "  for i in range(coin, L2+1):\n",
      "    ways[i] += ways[i-coin]\n",
      " \n",
      "print \"Number of combinations is\", ways[L2]"
     ],
     "language": "python",
     "metadata": {},
     "outputs": [
      {
       "output_type": "stream",
       "stream": "stdout",
       "text": [
        "Number of combinations is 73682\n"
       ]
      }
     ],
     "prompt_number": 46
    },
    {
     "cell_type": "code",
     "collapsed": false,
     "input": [],
     "language": "python",
     "metadata": {},
     "outputs": []
    }
   ],
   "metadata": {}
  }
 ]
}