{
 "metadata": {
  "name": "More Linear Regression and Generic Curve Fitting"
 },
 "nbformat": 3,
 "nbformat_minor": 0,
 "worksheets": [
  {
   "cells": [
    {
     "cell_type": "markdown",
     "metadata": {},
     "source": [
      "Exercise 1\n",
      "="
     ]
    },
    {
     "cell_type": "markdown",
     "metadata": {},
     "source": [
      "(a)"
     ]
    },
    {
     "cell_type": "code",
     "collapsed": false,
     "input": [
      "DataIn = loadtxt('radioactivedecay.dat',unpack=True,usecols=[0,1])"
     ],
     "language": "python",
     "metadata": {},
     "outputs": [],
     "prompt_number": 1
    },
    {
     "cell_type": "code",
     "collapsed": false,
     "input": [
      "print DataIn"
     ],
     "language": "python",
     "metadata": {},
     "outputs": [
      {
       "output_type": "stream",
       "stream": "stdout",
       "text": [
        "[[  0.     1.     2.     3.     4.     5.     6.     7.     8.     9.    10.\n",
        "   11.    12.    13.    14.    15.  ]\n",
        " [ 10.48   7.54   5.49   4.02   2.74   2.02   1.5    1.09   0.68   0.57\n",
        "    0.37   0.31   0.19   0.15   0.13   0.11]]\n"
       ]
      }
     ],
     "prompt_number": 2
    },
    {
     "cell_type": "code",
     "collapsed": false,
     "input": [
      "plot(DataIn[0],DataIn[1],'b*')"
     ],
     "language": "python",
     "metadata": {},
     "outputs": [
      {
       "output_type": "pyout",
       "prompt_number": 3,
       "text": [
        "[<matplotlib.lines.Line2D at 0x83e3b00>]"
       ]
      },
      {
       "output_type": "display_data",
       "png": "[encoded data removed]"
      }
     ],
     "prompt_number": 3
    },
    {
     "cell_type": "markdown",
     "metadata": {},
     "source": [
      "(b)"
     ]
    },
    {
     "cell_type": "code",
     "collapsed": false,
     "input": [
      "y = log(DataIn[1])\n",
      "t = DataIn[0]\n",
      "print y"
     ],
     "language": "python",
     "metadata": {},
     "outputs": [
      {
       "output_type": "stream",
       "stream": "stdout",
       "text": [
        "[ 2.34946868  2.02022218  1.70292826  1.3912819   1.00795792  0.70309751\n",
        "  0.40546511  0.0861777  -0.38566248 -0.56211892 -0.99425227 -1.17118298\n",
        " -1.66073121 -1.89711998 -2.04022083 -2.20727491]\n"
       ]
      }
     ],
     "prompt_number": 4
    },
    {
     "cell_type": "code",
     "collapsed": false,
     "input": [
      "plot(t,y,'b*')"
     ],
     "language": "python",
     "metadata": {},
     "outputs": [
      {
       "output_type": "pyout",
       "prompt_number": 5,
       "text": [
        "[<matplotlib.lines.Line2D at 0x86846d8>]"
       ]
      },
      {
       "output_type": "display_data",
       "png": "[encoded data removed]"
      }
     ],
     "prompt_number": 5
    },
    {
     "cell_type": "markdown",
     "metadata": {},
     "source": [
      "(c) "
     ]
    },
    {
     "cell_type": "code",
     "collapsed": false,
     "input": [
      "#done"
     ],
     "language": "python",
     "metadata": {},
     "outputs": [],
     "prompt_number": 6
    },
    {
     "cell_type": "markdown",
     "metadata": {},
     "source": [
      "(d)"
     ]
    },
    {
     "cell_type": "code",
     "collapsed": false,
     "input": [
      "from CurveFitting import *\n",
      "import numpy as np\n",
      "from math import *"
     ],
     "language": "python",
     "metadata": {},
     "outputs": [],
     "prompt_number": 7
    },
    {
     "cell_type": "code",
     "collapsed": false,
     "input": [
      "m = LinearLeastSquaresFit(t,y)[0]\n",
      "print m\n",
      "b = LinearLeastSquaresFit(t,y)[1]\n",
      "print b\n",
      "slerr = LinearLeastSquaresFit(t,y)[2]\n",
      "print slerr\n",
      "interr = LinearLeastSquaresFit(t,y)[3]\n",
      "print interr"
     ],
     "language": "python",
     "metadata": {},
     "outputs": [
      {
       "output_type": "stream",
       "stream": "stdout",
       "text": [
        "-0.316648366384\n",
        "2.29661497713\n",
        "0.00556084684482\n",
        "0.0489544059962\n"
       ]
      }
     ],
     "prompt_number": 8
    },
    {
     "cell_type": "code",
     "collapsed": false,
     "input": [
      "#not sure why this doesnt work. i dont even have the word average anywhere and it doesnt like it"
     ],
     "language": "python",
     "metadata": {},
     "outputs": [],
     "prompt_number": 9
    },
    {
     "cell_type": "code",
     "collapsed": false,
     "input": [
      "plot(t,y,'m*', label='Radioactive Decay')\n",
      "plot(t,m*t+b, color='g',label ='fit')\n",
      "legend(loc=0)\n",
      "show()"
     ],
     "language": "python",
     "metadata": {},
     "outputs": [
      {
       "output_type": "display_data",
       "png": "[encoded data removed]"
      }
     ],
     "prompt_number": 16
    },
    {
     "cell_type": "markdown",
     "metadata": {},
     "source": [
      "Generic Curve Fitting\n",
      "="
     ]
    },
    {
     "cell_type": "markdown",
     "metadata": {},
     "source": [
      "Curve fitting example 1"
     ]
    },
    {
     "cell_type": "code",
     "collapsed": false,
     "input": [
      "#Import the curve fitter from the scipy optimize package\n",
      "from scipy.optimize import curve_fit"
     ],
     "language": "python",
     "metadata": {},
     "outputs": [],
     "prompt_number": 102
    },
    {
     "cell_type": "code",
     "collapsed": false,
     "input": [
      "#Define the fit function\n",
      "def func(x, a, b, c):\n",
      "    return (a*x**2 + b*x + c)"
     ],
     "language": "python",
     "metadata": {},
     "outputs": [],
     "prompt_number": 103
    },
    {
     "cell_type": "code",
     "collapsed": false,
     "input": [
      "#Define some data (including uncertainties)\n",
      "x = array([0.0, 1.0 ,2.0, 3.0, 4.0, 5.0])\n",
      "y = array([-1.78, 4.09, 8.85, 17.9, 26.1, 35.2])\n",
      "yerr = array([0.460, 0.658, 0.528, 1.34, 1.09, 0.786])"
     ],
     "language": "python",
     "metadata": {},
     "outputs": [],
     "prompt_number": 104
    },
    {
     "cell_type": "code",
     "collapsed": false,
     "input": [
      "#Make initial guess at parameters\n",
      "p0 = [1.0, 3.0, -2.0]\n",
      "\n",
      "#Call the curve fitter and have it return the optimized parameters (popt)\n",
      "popt, pcov = curve_fit(func, x, y, p0, yerr)"
     ],
     "language": "python",
     "metadata": {},
     "outputs": [],
     "prompt_number": 118
    },
    {
     "cell_type": "code",
     "collapsed": false,
     "input": [
      "print pcov"
     ],
     "language": "python",
     "metadata": {},
     "outputs": [
      {
       "output_type": "stream",
       "stream": "stdout",
       "text": [
        "[[ 0.01395531 -0.0647774   0.03004709]\n",
        " [-0.0647774   0.33429278 -0.1951975 ]\n",
        " [ 0.03004709 -0.1951975   0.25099317]]\n"
       ]
      }
     ],
     "prompt_number": 119
    },
    {
     "cell_type": "code",
     "collapsed": false,
     "input": [
      "#Compute the parameter uncertainites from the ovariance matrix\n",
      "punc = zeros(len(popt))\n",
      "for i in arange(0,len(popt)):\n",
      "    punc[i] = sqrt(pcov[i,i])\n",
      "\n",
      "#print the result\n",
      "print \"optimal parameters: \", popt\n",
      "print \"uncertainties of parameters: \", punc"
     ],
     "language": "python",
     "metadata": {},
     "outputs": [
      {
       "output_type": "stream",
       "stream": "stdout",
       "text": [
        "optimal parameters:  [ 0.61500361  4.33082898 -1.66737444]\n",
        "uncertainties of parameters:  [ 0.11813261  0.57818057  0.50099218]\n"
       ]
      }
     ],
     "prompt_number": 106
    },
    {
     "cell_type": "code",
     "collapsed": false,
     "input": [
      "errorbar(x,y,yerr,fmt='r*')\n",
      "fitresult = func(x,popt[0],popt[1],popt[2])\n",
      "plot(x,fitresult,'b-')\n",
      "show()"
     ],
     "language": "python",
     "metadata": {},
     "outputs": [
      {
       "output_type": "display_data",
       "png": "[encoded data removed]"
      }
     ],
     "prompt_number": 50
    },
    {
     "cell_type": "markdown",
     "metadata": {},
     "source": [
      "Curve fitting example 2"
     ]
    },
    {
     "cell_type": "code",
     "collapsed": false,
     "input": [
      "waveform_1 = load('waveform_1.npy')\n",
      "t = np.arange(len(waveform_1))"
     ],
     "language": "python",
     "metadata": {},
     "outputs": [],
     "prompt_number": 51
    },
    {
     "cell_type": "code",
     "collapsed": false,
     "input": [
      "plot(t, waveform_1)\n",
      "xlabel(\"Time (ns)\")\n",
      "ylabel(\"Intensity (bins)\")\n",
      "show()"
     ],
     "language": "python",
     "metadata": {},
     "outputs": [
      {
       "output_type": "display_data",
       "png": "[encoded data removed]"
      }
     ],
     "prompt_number": 52
    },
    {
     "cell_type": "code",
     "collapsed": false,
     "input": [
      "def model(t, B, A, mu, sigma):\n",
      "    return B + A * exp(-((t-mu)/sigma)**2)"
     ],
     "language": "python",
     "metadata": {},
     "outputs": [],
     "prompt_number": 53
    },
    {
     "cell_type": "code",
     "collapsed": false,
     "input": [
      "x0 = array([3.,30.,15.,1.])"
     ],
     "language": "python",
     "metadata": {},
     "outputs": [],
     "prompt_number": 54
    },
    {
     "cell_type": "code",
     "collapsed": false,
     "input": [
      "popt, pcov = curve_fit(model,t,waveform_1,x0)\n",
      "plot(t, waveform_1, label=\"data\")\n",
      "plot(t, model(t,popt[0],popt[1],popt[2],popt[3]),label=\"fit\",linewidth=2)\n",
      "legend(loc=\"best\")\n",
      "show()"
     ],
     "language": "python",
     "metadata": {},
     "outputs": [
      {
       "output_type": "display_data",
       "png": "[encoded data removed]"
      }
     ],
     "prompt_number": 55
    },
    {
     "cell_type": "markdown",
     "metadata": {},
     "source": [
      "Exercise 2\n",
      "="
     ]
    },
    {
     "cell_type": "markdown",
     "metadata": {},
     "source": [
      "(a)"
     ]
    },
    {
     "cell_type": "code",
     "collapsed": false,
     "input": [
      "waveform_2 = load('waveform_2.npy')\n",
      "t = np.arange(len(waveform_2))\n",
      "print waveform_2\n",
      "print t"
     ],
     "language": "python",
     "metadata": {},
     "outputs": [
      {
       "output_type": "stream",
       "stream": "stdout",
       "text": [
        "[ 3  2  2  2  2  2  1  2  2  2  2  2  2  5 10 18 25 25 20 13  9  9 11 12 12\n",
        " 10  8  8  8  8  7  6  5  3  3  3  3  2  2  3  3  4  3  3  4  2  3  4  3  3\n",
        "  3  3  3  3  2  3  3  3  2  2  2  1  2  3  3  3  2  2  2  3  2  2  2  3  3\n",
        "  3  3  2  2  1]\n",
        "[ 0  1  2  3  4  5  6  7  8  9 10 11 12 13 14 15 16 17 18 19 20 21 22 23 24\n",
        " 25 26 27 28 29 30 31 32 33 34 35 36 37 38 39 40 41 42 43 44 45 46 47 48 49\n",
        " 50 51 52 53 54 55 56 57 58 59 60 61 62 63 64 65 66 67 68 69 70 71 72 73 74\n",
        " 75 76 77 78 79]\n"
       ]
      }
     ],
     "prompt_number": 120
    },
    {
     "cell_type": "code",
     "collapsed": false,
     "input": [
      "plot(t, waveform_2)\n",
      "xlabel(\"Time (ns)\")\n",
      "ylabel(\"Intensity (bins)\")\n",
      "show()"
     ],
     "language": "python",
     "metadata": {},
     "outputs": [
      {
       "output_type": "display_data",
       "png": "[encoded data removed]"
      }
     ],
     "prompt_number": 121
    },
    {
     "cell_type": "markdown",
     "metadata": {},
     "source": [
      "(b)"
     ]
    },
    {
     "cell_type": "code",
     "collapsed": false,
     "input": [
      "def model(t1, t2, t3, B, A1, A2, A3, mu1, mu2, mu3, sigma1, sigma2, sigma3):\n",
      "    return B + A1 * exp(-((t1-mu1)/sigma1)**2) + A2 * exp(-((t2-mu2)/sigma2)**2) + A3 * exp(-((t3-mu3)/sigma3)**2)"
     ],
     "language": "python",
     "metadata": {},
     "outputs": [],
     "prompt_number": 122
    },
    {
     "cell_type": "markdown",
     "metadata": {},
     "source": [
      "(c)"
     ]
    },
    {
     "cell_type": "code",
     "collapsed": false,
     "input": [
      "x0 = array([10.,20.,24.,38.,42.,46.,55.,59.,60.,69.,72.,78.])"
     ],
     "language": "python",
     "metadata": {},
     "outputs": [],
     "prompt_number": 123
    },
    {
     "cell_type": "code",
     "collapsed": false,
     "input": [
      "popt,pcov = curve_fit(model,t,waveform_2,x0)\n",
      "punc = zeros(len(popt))\n",
      "for i in arange(0,len(popt)):\n",
      "    punc[i] = sqrt(pcov[i,i])\n",
      "\n",
      "#print the result\n",
      "print \"optimal parameters: \", popt\n",
      "print \"uncertainties of parameters: \", punc"
     ],
     "language": "python",
     "metadata": {},
     "outputs": [
      {
       "output_type": "stream",
       "stream": "stdout",
       "text": [
        "optimal parameters:  [-24.65284219 -14.96479114   3.42237008  21.51683746  13.21397321\n",
        "  24.85107583  16.81034464  91.43058376  94.96460544   2.75870505\n",
        "  12.02810758   9.81865728]\n",
        "uncertainties of parameters:  [ 0.  0.  0.  0.  0.  0.  0.  0.  0.  0.  0.  0.]\n"
       ]
      }
     ],
     "prompt_number": 135
    },
    {
     "cell_type": "markdown",
     "metadata": {},
     "source": [
      "(d)"
     ]
    },
    {
     "cell_type": "code",
     "collapsed": false,
     "input": [
      "popt,pcov = curve_fit(model,t,waveform_2,x0)\n",
      "plot(t, waveform_2, label=\"data\")\n",
      "plot(t, model(t,popt[0],popt[1],popt[2],popt[3],popt[4],popt[5],popt[6],popt[7],popt[8],popt[9],popt[10],popt[11]),label=\"fit\",linewidth=2)\n",
      "legend(loc=\"best\")\n",
      "show()"
     ],
     "language": "python",
     "metadata": {},
     "outputs": [
      {
       "output_type": "display_data",
       "png": "[encoded data removed]"
      }
     ],
     "prompt_number": 125
    },
    {
     "cell_type": "code",
     "collapsed": false,
     "input": [
      "print popt\n",
      "curve_fit(model,t,waveform_2,x0)"
     ],
     "language": "python",
     "metadata": {},
     "outputs": [
      {
       "output_type": "stream",
       "stream": "stdout",
       "text": [
        "[-24.65284219 -14.96479114   3.42237008  21.51683746  13.21397321\n",
        "  24.85107583  16.81034464  91.43058376  94.96460544   2.75870505\n",
        "  12.02810758   9.81865728]\n"
       ]
      },
      {
       "output_type": "pyout",
       "prompt_number": 126,
       "text": [
        "(array([-24.65284219, -14.96479114,   3.42237008,  21.51683746,\n",
        "        13.21397321,  24.85107583,  16.81034464,  91.43058376,\n",
        "        94.96460544,   2.75870505,  12.02810758,   9.81865728]),\n",
        " inf)"
       ]
      }
     ],
     "prompt_number": 126
    },
    {
     "cell_type": "code",
     "collapsed": false,
     "input": [
      "print pcov"
     ],
     "language": "python",
     "metadata": {},
     "outputs": [
      {
       "output_type": "stream",
       "stream": "stdout",
       "text": [
        "inf\n"
       ]
      }
     ],
     "prompt_number": 127
    },
    {
     "cell_type": "code",
     "collapsed": false,
     "input": [
      "print punc"
     ],
     "language": "python",
     "metadata": {},
     "outputs": [
      {
       "output_type": "stream",
       "stream": "stdout",
       "text": [
        "[ 0.  0.  0.  0.  0.  0.  0.  0.  0.  0.  0.  0.]\n"
       ]
      }
     ],
     "prompt_number": 128
    },
    {
     "cell_type": "code",
     "collapsed": false,
     "input": [],
     "language": "python",
     "metadata": {},
     "outputs": []
    }
   ],
   "metadata": {}
  }
 ]
}