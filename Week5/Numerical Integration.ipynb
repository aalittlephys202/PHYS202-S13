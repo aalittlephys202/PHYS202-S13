{
 "metadata": {
  "name": "Numerical Integration"
 },
 "nbformat": 3,
 "nbformat_minor": 0,
 "worksheets": [
  {
   "cells": [
    {
     "cell_type": "markdown",
     "metadata": {},
     "source": [
      "Question 1\n",
      "=========="
     ]
    },
    {
     "cell_type": "markdown",
     "metadata": {},
     "source": [
      "(a) Solved using the Trapezoidal Rule\n",
      "==="
     ]
    },
    {
     "cell_type": "code",
     "collapsed": false,
     "input": [
      "import math"
     ],
     "language": "python",
     "metadata": {},
     "outputs": [],
     "prompt_number": 6
    },
    {
     "cell_type": "code",
     "collapsed": false,
     "input": [
      "f = lambda x: exp(-x**2)"
     ],
     "language": "python",
     "metadata": {},
     "outputs": [],
     "prompt_number": 7
    },
    {
     "cell_type": "code",
     "collapsed": false,
     "input": [
      "def TrapInter():\n",
      "    f = lambda x: exp(-x**2)\n",
      "    N = 10\n",
      "    a = 0.0\n",
      "    b = 3.0\n",
      "    h = (b-a)/N\n",
      "    s = 0.5*f(a) + 0.5*f(b)\n",
      "    for k in range(1,N):\n",
      "        s += f(a+k*h)\n",
      "    print(h*s)\n",
      "TrapInter()"
     ],
     "language": "python",
     "metadata": {},
     "outputs": [
      {
       "output_type": "stream",
       "stream": "stdout",
       "text": [
        "0.886202033637\n"
       ]
      }
     ],
     "prompt_number": 10
    },
    {
     "cell_type": "markdown",
     "metadata": {},
     "source": [
      "(b)\n",
      "==="
     ]
    },
    {
     "cell_type": "code",
     "collapsed": false,
     "input": [
      "plot(b,f(b))"
     ],
     "language": "python",
     "metadata": {},
     "outputs": [
      {
       "output_type": "pyout",
       "prompt_number": 13,
       "text": [
        "[<matplotlib.lines.Line2D at 0x8362be0>]"
       ]
      },
      {
       "output_type": "display_data",
       "png": "[encoded data removed]"
      }
     ],
     "prompt_number": 13
    },
    {
     "cell_type": "markdown",
     "metadata": {},
     "source": [
      "Question 2\n",
      "=========="
     ]
    },
    {
     "cell_type": "markdown",
     "metadata": {},
     "source": [
      "(a)\n",
      "==="
     ]
    },
    {
     "cell_type": "code",
     "collapsed": false,
     "input": [
      "from scipy.integrate import trapz, quad\n",
      "import math\n"
     ],
     "language": "python",
     "metadata": {},
     "outputs": [],
     "prompt_number": 41
    },
    {
     "cell_type": "code",
     "collapsed": false,
     "input": [
      "f = lambda x: (2.)*(sin(pi*x))**2\n",
      "# L=1 for all problems"
     ],
     "language": "python",
     "metadata": {},
     "outputs": [],
     "prompt_number": 73
    },
    {
     "cell_type": "code",
     "collapsed": false,
     "input": [
      "def trapinter():\n",
      "    L = 1\n",
      "    N = 100\n",
      "    a = (1/3)\n",
      "    b = (1/2)\n",
      "    h = ((b-a)/N)\n",
      "    s = 0.5*f(a) + 0.5*f(b)\n",
      "    for k in range(1,N):\n",
      "        s += f(a+k*h)\n",
      "    print(h*s)\n",
      "trapinter()"
     ],
     "language": "python",
     "metadata": {},
     "outputs": [
      {
       "output_type": "stream",
       "stream": "stdout",
       "text": [
        "0.0\n"
       ]
      }
     ],
     "prompt_number": 62
    },
    {
     "cell_type": "code",
     "collapsed": false,
     "input": [
      "#trap rule for ground state\n",
      "def trapinter():\n",
      "    N = 150\n",
      "    a = (0.3333)\n",
      "    b = (0.5)\n",
      "    h = (b-a)/N\n",
      "    s = 0.5*f(a) + 0.5*f(b)\n",
      "    for k in range(1,N):\n",
      "        s += f(a+k*h)\n",
      "    print(h*s)\n",
      "trapinter()"
     ],
     "language": "python",
     "metadata": {},
     "outputs": [
      {
       "output_type": "stream",
       "stream": "stdout",
       "text": [
        "0.304548327392\n"
       ]
      }
     ],
     "prompt_number": 72
    },
    {
     "cell_type": "code",
     "collapsed": false,
     "input": [
      "#trap rule for 1st excited state\n",
      "def Trapinter():\n",
      "    n = 2\n",
      "    f = lambda x: (2.)*(sin(pi*n*x))**2\n",
      "    N = 10\n",
      "    a = (0.3333)\n",
      "    b = (0.5)\n",
      "    h = (b-a)/N\n",
      "    s = 0.5*f(a) + 0.5*f(b)\n",
      "    for k in range(1,N):\n",
      "        s += f(a+k*h)\n",
      "    print(h*s)\n",
      "Trapinter()"
     ],
     "language": "python",
     "metadata": {},
     "outputs": [
      {
       "output_type": "stream",
       "stream": "stdout",
       "text": [
        "0.0980527016367\n"
       ]
      }
     ],
     "prompt_number": 45
    },
    {
     "cell_type": "code",
     "collapsed": false,
     "input": [
      "#quad rule in ground state\n",
      "L = 1.\n",
      "N = 10\n",
      "a = 0.3333\n",
      "b = 0.5\n",
      "h = (b-a)/N\n",
      "f = lambda x: (2.)*(sin(pi*x))**2\n",
      "\n",
      "print quad(f,a,b)"
     ],
     "language": "python",
     "metadata": {},
     "outputs": [
      {
       "output_type": "stream",
       "stream": "stdout",
       "text": [
        "(0.30454888749899384, 3.3811718702535945e-15)\n"
       ]
      }
     ],
     "prompt_number": 68
    },
    {
     "cell_type": "code",
     "collapsed": false,
     "input": [
      "#quad rule in 1st excited state\n",
      "L = 1.\n",
      "N = 10\n",
      "a = 0.3333\n",
      "b = 0.5\n",
      "h = (b-a)/N\n",
      "q = lambda x: (2.)*(sin(2*pi*x))**2\n",
      "\n",
      "print quad(q,a,b)"
     ],
     "language": "python",
     "metadata": {},
     "outputs": [
      {
       "output_type": "stream",
       "stream": "stdout",
       "text": [
        "(0.09780056078445315, 1.0858043440415204e-15)\n"
       ]
      }
     ],
     "prompt_number": 67
    },
    {
     "cell_type": "markdown",
     "metadata": {},
     "source": [
      "(b)\n",
      "==="
     ]
    },
    {
     "cell_type": "code",
     "collapsed": false,
     "input": [
      "#plot for ground state\n",
      "x = arange(0.0,3.0,0.1)\n",
      "f = lambda x: (2)*(sin(pi*x))**2\n",
      "plot(x,f(x))"
     ],
     "language": "python",
     "metadata": {},
     "outputs": [
      {
       "output_type": "pyout",
       "prompt_number": 88,
       "text": [
        "[<matplotlib.lines.Line2D at 0xc047a20>]"
       ]
      },
      {
       "output_type": "display_data",
       "png": "[encoded data removed]"
      }
     ],
     "prompt_number": 88
    },
    {
     "cell_type": "code",
     "collapsed": false,
     "input": [
      "#plot for 1st excited state\n",
      "x = arange(0.0,3.0,0.1)\n",
      "f = lambda x: (2)*(sin(2*pi*x))**2\n",
      "plot(x,f(x))"
     ],
     "language": "python",
     "metadata": {},
     "outputs": [
      {
       "output_type": "pyout",
       "prompt_number": 87,
       "text": [
        "[<matplotlib.lines.Line2D at 0xbc29a20>]"
       ]
      },
      {
       "output_type": "display_data",
       "png": "[encoded data removed]"
      }
     ],
     "prompt_number": 87
    },
    {
     "cell_type": "markdown",
     "metadata": {},
     "source": [
      "Question 3\n",
      "=========="
     ]
    },
    {
     "cell_type": "code",
     "collapsed": false,
     "input": [],
     "language": "python",
     "metadata": {},
     "outputs": []
    }
   ],
   "metadata": {}
  }
 ]
}