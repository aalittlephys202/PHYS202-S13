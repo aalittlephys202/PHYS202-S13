{
 "metadata": {
  "name": "Project Euler 4"
 },
 "nbformat": 3,
 "nbformat_minor": 0,
 "worksheets": [
  {
   "cells": [
    {
     "cell_type": "code",
     "collapsed": false,
     "input": [
      "def pal():\n",
      "    n = 0\n",
      "    pal_list=[]\n",
      "    for x in range(100,1000):\n",
      "        for y in range(100,1000):\n",
      "            if str(x*y) == str(x*y)[::-1]:\n",
      "                pal_list.append(str(x*y))\n",
      "    for i in pal_list:\n",
      "        if n < int(i):\n",
      "            n = int(i)\n",
      "    return n"
     ],
     "language": "python",
     "metadata": {},
     "outputs": [],
     "prompt_number": 5
    },
    {
     "cell_type": "code",
     "collapsed": false,
     "input": [
      "print pal()"
     ],
     "language": "python",
     "metadata": {},
     "outputs": [
      {
       "output_type": "stream",
       "stream": "stdout",
       "text": [
        "906609\n"
       ]
      }
     ],
     "prompt_number": 6
    },
    {
     "cell_type": "code",
     "collapsed": false,
     "input": [],
     "language": "python",
     "metadata": {},
     "outputs": []
    }
   ],
   "metadata": {}
  }
 ]
}