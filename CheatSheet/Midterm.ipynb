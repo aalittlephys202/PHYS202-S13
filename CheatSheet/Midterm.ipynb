{
 "metadata": {
  "name": "Midterm"
 },
 "nbformat": 3,
 "nbformat_minor": 0,
 "worksheets": [
  {
   "cells": [
    {
     "cell_type": "code",
     "collapsed": false,
     "input": [
      "# floats are fractional numbers written with a decimal point, like 1.970\n",
      "# int is an integer value like 1, 42, 500\n",
      "# booleans are True or False\n",
      "# never use quotations with booleans and always capitalize the first letter"
     ],
     "language": "python",
     "metadata": {},
     "outputs": [],
     "prompt_number": 27
    },
    {
     "cell_type": "code",
     "collapsed": false,
     "input": [
      "# modulo % returns you the value of the remainder of two numbers\n",
      "# 5 % 2 == 1 because 5/2 is 2 with a remainder of 1\n",
      "print 6 % 4 \n",
      "print 20 % 6 \n",
      "print 20 % 9"
     ],
     "language": "python",
     "metadata": {},
     "outputs": [
      {
       "output_type": "stream",
       "stream": "stdout",
       "text": [
        "2\n",
        "2\n",
        "2\n"
       ]
      }
     ],
     "prompt_number": 26
    },
    {
     "cell_type": "code",
     "collapsed": false,
     "input": [
      "#strings are regualar english phrases\n",
      "# backslash after a single quotation if its an apostrophe or just not starting a string"
     ],
     "language": "python",
     "metadata": {},
     "outputs": [],
     "prompt_number": 4
    },
    {
     "cell_type": "code",
     "collapsed": false,
     "input": [
      "# len() returns length of a string. written len(string_name)\n",
      "# lower() returns the lowercase version of the string. written string_name.lower()\n",
      "# upper() returns the uppercase of version of the string. written string_name.upper()"
     ],
     "language": "python",
     "metadata": {},
     "outputs": [],
     "prompt_number": 6
    },
    {
     "cell_type": "code",
     "collapsed": false,
     "input": [
      "# str() returns a string containing a nicely printable representation of whatever you put between the parentheses. It makes strings out of non-strings\n",
      "# written same as len()\n",
      "# print \"The value of pi is around \" + str(3.14) prints The value of pi is around 3.14\n",
      "# because 3.14 is a float and when printed needs to be a string"
     ],
     "language": "python",
     "metadata": {},
     "outputs": [],
     "prompt_number": 9
    },
    {
     "cell_type": "code",
     "collapsed": false,
     "input": [
      "# len() and str() can work on a bunch of different objects thats why it has things in the paraenthesis\n",
      "# lower and upper use dot notation because they are specific to strings"
     ],
     "language": "python",
     "metadata": {},
     "outputs": [],
     "prompt_number": 11
    },
    {
     "cell_type": "code",
     "collapsed": false,
     "input": [
      "string_1 = \"Camelot\"\n",
      "string_2 = \"place\"\n",
      "print \"Let's not go to %s. 'Tis a silly %s.\" % (string_1, string_2)"
     ],
     "language": "python",
     "metadata": {},
     "outputs": [
      {
       "output_type": "stream",
       "stream": "stdout",
       "text": [
        "Let's not go to Camelot. 'Tis a silly place.\n"
       ]
      }
     ],
     "prompt_number": 24
    },
    {
     "cell_type": "code",
     "collapsed": false,
     "input": [
      "# raw_input asks the coder for something before finishing its code."
     ],
     "language": "python",
     "metadata": {},
     "outputs": [],
     "prompt_number": 13
    },
    {
     "cell_type": "code",
     "collapsed": false,
     "input": [
      "from datetime import datetime\n",
      "now=datetime.now()\n",
      "print datetime.now()"
     ],
     "language": "python",
     "metadata": {},
     "outputs": [
      {
       "output_type": "stream",
       "stream": "stdout",
       "text": [
        "2013-05-07 01:54:22.385000\n"
       ]
      }
     ],
     "prompt_number": 23
    },
    {
     "cell_type": "code",
     "collapsed": false,
     "input": [
      "# == means equals\n",
      "# = assigns new value to variable"
     ],
     "language": "python",
     "metadata": {},
     "outputs": [],
     "prompt_number": 15
    },
    {
     "cell_type": "code",
     "collapsed": false,
     "input": [
      "# boolean operators\n",
      "# and means the same as it does in english\n",
      "# or means one or the other or both\n",
      "# not means the same as it does in english"
     ],
     "language": "python",
     "metadata": {},
     "outputs": [],
     "prompt_number": 16
    },
    {
     "cell_type": "code",
     "collapsed": false,
     "input": [
      "#True and True is True\n",
      "#True and False is False\n",
      "#False and True is False\n",
      "#False and False is False\n",
      "\n",
      "#True or True is True\n",
      "#True or False is True\n",
      "#False or True is True\n",
      "#False or False is False\n",
      "\n",
      "#Not True is False\n",
      "#Not False is True"
     ],
     "language": "python",
     "metadata": {},
     "outputs": [],
     "prompt_number": 17
    },
    {
     "cell_type": "code",
     "collapsed": false,
     "input": [
      "#if,elif,else always followed by an expression, which is followed by a colon :\n",
      "#then the next line is indented and if the expression after the if is true, the program does the code that is indented"
     ],
     "language": "python",
     "metadata": {},
     "outputs": [],
     "prompt_number": 20
    },
    {
     "cell_type": "code",
     "collapsed": false,
     "input": [
      "#if you arent sure how many arguments a def might have, just put a * before a single argument\n",
      "def favorite_actors(*name):\n",
      "    \"\"\"Prints out your favorite actorS (plural!)\"\"\"\n",
      "    print \"Your favorite actors are:\" , name\n",
      "    \n",
      "    \n",
      "favorite_actors(\"Michael Palin\", \"John Cleese\", \"Graham Chapman\")"
     ],
     "language": "python",
     "metadata": {},
     "outputs": [
      {
       "output_type": "stream",
       "stream": "stdout",
       "text": [
        "Your favorite actors are: ('Michael Palin', 'John Cleese', 'Graham Chapman')\n"
       ]
      }
     ],
     "prompt_number": 21
    },
    {
     "cell_type": "code",
     "collapsed": false,
     "input": [
      "# max() takes any number of arguments and returns the largest one. Used on integers and floats not strings\n",
      "# min() does same thing but returns the lowest\n",
      "# abs() takes absolute value\n",
      "# type() returns the type of whatever is in the parentheses"
     ],
     "language": "python",
     "metadata": {},
     "outputs": [],
     "prompt_number": 30
    },
    {
     "cell_type": "code",
     "collapsed": false,
     "input": [
      "print type(42)\n",
      "print type(4.2)\n",
      "print type('spam')"
     ],
     "language": "python",
     "metadata": {},
     "outputs": [
      {
       "output_type": "stream",
       "stream": "stdout",
       "text": [
        "<type 'int'>\n",
        "<type 'float'>\n",
        "<type 'str'>\n"
       ]
      }
     ],
     "prompt_number": 31
    },
    {
     "cell_type": "code",
     "collapsed": false,
     "input": [
      "#Lists are a datatype you can use to store a collection of different pieces of information as a sequence under a single variable name\n",
      "#You can assign items to a list with an expression of the form list_name = [item_1, item_2], with the items in between brackets"
     ],
     "language": "python",
     "metadata": {},
     "outputs": [],
     "prompt_number": 32
    },
    {
     "cell_type": "code",
     "collapsed": false,
     "input": [
      "#you can add items to lists with the built-in list function append()\n",
      "# like this list_name.append(item)"
     ],
     "language": "python",
     "metadata": {},
     "outputs": [],
     "prompt_number": 33
    },
    {
     "cell_type": "code",
     "collapsed": false,
     "input": [
      "#You can get the number of items in a list with the len()"
     ],
     "language": "python",
     "metadata": {},
     "outputs": [],
     "prompt_number": 36
    },
    {
     "cell_type": "code",
     "collapsed": false,
     "input": [
      "# list_name[a:b] will return a portion of list_name starting with the index a and ending before the index b."
     ],
     "language": "python",
     "metadata": {},
     "outputs": [],
     "prompt_number": 35
    },
    {
     "cell_type": "code",
     "collapsed": false,
     "input": [
      "#my_list[:2] Grabs the first two items\n",
      "#my_list[3:] Grabs the fourth through last items"
     ],
     "language": "python",
     "metadata": {},
     "outputs": [],
     "prompt_number": 38
    },
    {
     "cell_type": "code",
     "collapsed": false,
     "input": [
      "# my_list.index(\"dog\") will return the first index that contains the string \"dog\"\n",
      "# my_list.insert(4,\"cat\") adds the item \"cat\" at index 4 of my_list\n",
      "#and moves the item previously at index 4 and all items following it to the next index"
     ],
     "language": "python",
     "metadata": {},
     "outputs": [],
     "prompt_number": 39
    },
    {
     "cell_type": "code",
     "collapsed": false,
     "input": [
      "#my_list.sort() will sort the items in my_list in increasing numerical/alphabetical order."
     ],
     "language": "python",
     "metadata": {},
     "outputs": [],
     "prompt_number": 40
    },
    {
     "cell_type": "code",
     "collapsed": false,
     "input": [
      "# A dictionary is similar to a list, but you access values by looking up a key instead of an index\n",
      "#A key can be any string or number\n",
      "#Dictionaries are enclosed in curly braces"
     ],
     "language": "python",
     "metadata": {},
     "outputs": [],
     "prompt_number": 41
    },
    {
     "cell_type": "code",
     "collapsed": false,
     "input": [
      "# .key() prints the keys\n",
      "# .values() prints the values"
     ],
     "language": "python",
     "metadata": {},
     "outputs": []
    },
    {
     "cell_type": "code",
     "collapsed": false,
     "input": [
      "#dict_name[new_key] = new_value"
     ],
     "language": "python",
     "metadata": {},
     "outputs": [],
     "prompt_number": 42
    },
    {
     "cell_type": "code",
     "collapsed": false,
     "input": [
      "#del dict_name[key_name] removes items from a dictionary\n",
      "# dict_name[key] = new_value changes value of a key"
     ],
     "language": "python",
     "metadata": {},
     "outputs": [],
     "prompt_number": 43
    },
    {
     "cell_type": "code",
     "collapsed": false,
     "input": [
      "#my_list.remove(value) will remove the the first item from my_list that has a value equal to value\n",
      "# del is based on key and .remove is based on value"
     ],
     "language": "python",
     "metadata": {},
     "outputs": [],
     "prompt_number": 44
    },
    {
     "cell_type": "code",
     "collapsed": false,
     "input": [
      "# range()\n",
      "#If you use two arguments, the first argument is the start for the range until the size reaches 1 less than the second number\n",
      "# the third argument is how much you should increment by instead of the default increment of 1"
     ],
     "language": "python",
     "metadata": {},
     "outputs": [],
     "prompt_number": 45
    },
    {
     "cell_type": "code",
     "collapsed": false,
     "input": [
      "#while loop will continue to execute as long as the condition is true"
     ],
     "language": "python",
     "metadata": {},
     "outputs": [],
     "prompt_number": 46
    },
    {
     "cell_type": "code",
     "collapsed": false,
     "input": [
      "# for i in range(0,10) means for each number i in the range 0 - 9"
     ],
     "language": "python",
     "metadata": {},
     "outputs": [],
     "prompt_number": 47
    },
    {
     "cell_type": "code",
     "collapsed": false,
     "input": [
      "# list slicing\n",
      "# [start:end:stride]"
     ],
     "language": "python",
     "metadata": {},
     "outputs": [],
     "prompt_number": 48
    },
    {
     "cell_type": "code",
     "collapsed": false,
     "input": [],
     "language": "python",
     "metadata": {},
     "outputs": []
    }
   ],
   "metadata": {}
  }
 ]
}