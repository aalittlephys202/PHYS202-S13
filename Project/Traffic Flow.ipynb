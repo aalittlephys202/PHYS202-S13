{
 "metadata": {
  "name": "Traffic Flow"
 },
 "nbformat": 3,
 "nbformat_minor": 0,
 "worksheets": [
  {
   "cells": [
    {
     "cell_type": "markdown",
     "metadata": {},
     "source": [
      "I chose the One dimensional traffic flow"
     ]
    },
    {
     "cell_type": "code",
     "collapsed": false,
     "input": [
      "def CA184(x,v):\n",
      "    x =[1,2,3,4,5]\n",
      "    v = [1,1,1,1,1]"
     ],
     "language": "python",
     "metadata": {},
     "outputs": []
    }
   ],
   "metadata": {}
  }
 ]
}