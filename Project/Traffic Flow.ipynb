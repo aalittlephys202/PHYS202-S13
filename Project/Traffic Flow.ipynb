{
 "metadata": {
  "name": "Traffic Flow"
 },
 "nbformat": 3,
 "nbformat_minor": 0,
 "worksheets": [
  {
   "cells": [
    {
     "cell_type": "markdown",
     "metadata": {},
     "source": [
      "I chose the One dimensional traffic flow"
     ]
    },
    {
     "cell_type": "code",
     "collapsed": false,
     "input": [
      "import numpy as np\n",
      "import math"
     ],
     "language": "python",
     "metadata": {},
     "outputs": [],
     "prompt_number": 3
    },
    {
     "cell_type": "code",
     "collapsed": false,
     "input": [
      "road = arange(1,40)\n",
      "road"
     ],
     "language": "python",
     "metadata": {},
     "outputs": [
      {
       "output_type": "pyout",
       "prompt_number": 5,
       "text": [
        "array([ 1,  2,  3,  4,  5,  6,  7,  8,  9, 10, 11, 12, 13, 14, 15, 16, 17,\n",
        "       18, 19, 20, 21, 22, 23, 24, 25, 26, 27, 28, 29, 30, 31, 32, 33, 34,\n",
        "       35, 36, 37, 38, 39])"
       ]
      }
     ],
     "prompt_number": 5
    },
    {
     "cell_type": "code",
     "collapsed": false,
     "input": [
      "n = 5 # number of cars\n",
      "x1 = np.random.random(n)*40\n",
      "x = sort(x1.round())#array of positions\n",
      "v1 = np.random.random(n)*65 \n",
      "v = v1.round()#velocity array\n",
      "g = np.zeros(5) #empty spaces in front of car\n",
      "def CA184(l,x,v):\n",
      "    \"\"\"CA184 algothrim\"\"\"\n",
      "    for i in range(n):\n",
      "        if i+1 < n:#if car isnt last car\n",
      "            g[i] = int(x[i+1] - x[i])#calculate distance to the car in front of it\n",
      "        else:\n",
      "            g[i] = l - x[i]#if last car, calculate distance to end of road\n",
      "    for i in range(n):\n",
      "        if g[i] == 0:#if no space in front of car\n",
      "            v[i] = 0#dont go\n",
      "        elif v[i] > g[i]:#if amount of speed greater than space in front of car\n",
      "            v[i] = g[i] #make them equal aka slows down\n",
      "            x[i] += v[i] # move car forward v[i]\n",
      "        elif v[i] < g[i] and v[i] < vmax: # if speed less than space in front of car\n",
      "            v[i] = v[i] + 1 # speed up by 1\n",
      "            x[i] += v[i] # move car forward by v[i]\n",
      "    print \"New car positions: \",x\n",
      "    print \"New Velocities:\", v\n",
      "    print \"Distance Between:\", g"
     ],
     "language": "python",
     "metadata": {},
     "outputs": [],
     "prompt_number": 140
    },
    {
     "cell_type": "code",
     "collapsed": false,
     "input": [
      "print \"Car positions:\", x\n",
      "print \"Car velocities:\",v\n",
      "CA184(40,x,v)"
     ],
     "language": "python",
     "metadata": {},
     "outputs": [
      {
       "output_type": "stream",
       "stream": "stdout",
       "text": [
        "Car positions: [  1.  15.  20.  23.  33.]\n",
        "Car velocities: [  7.   9.   6.  25.  43.]\n",
        "New car positions:  [  9.  20.  23.  33.  40.]\n",
        "New Velocities: [  8.   5.   3.  10.   7.]\n",
        "Distance Between: [ 14.   5.   3.  10.   7.]\n"
       ]
      }
     ],
     "prompt_number": 135
    },
    {
     "cell_type": "markdown",
     "metadata": {},
     "source": [
      "Test code: 2nd time"
     ]
    },
    {
     "cell_type": "code",
     "collapsed": false,
     "input": [
      "print \"Car positions:\", x\n",
      "print \"Car velocities:\",v\n",
      "CA184(40,x,v)"
     ],
     "language": "python",
     "metadata": {},
     "outputs": [
      {
       "output_type": "stream",
       "stream": "stdout",
       "text": [
        "Car positions: [  9.  20.  23.  33.  40.]\n",
        "Car velocities: [  8.   5.   3.  10.   7.]\n",
        "New car positions:  [ 18.  23.  27.  40.  40.]\n",
        "New Velocities: [ 9.  3.  4.  7.  0.]\n",
        "Distance Between: [ 11.   3.  10.   7.   0.]\n"
       ]
      }
     ],
     "prompt_number": 136
    },
    {
     "cell_type": "markdown",
     "metadata": {},
     "source": [
      "Test code: 3rd time"
     ]
    },
    {
     "cell_type": "code",
     "collapsed": false,
     "input": [
      "print \"Car positions:\", x\n",
      "print \"Car velocities:\",v\n",
      "CA184(40,x,v)"
     ],
     "language": "python",
     "metadata": {},
     "outputs": [
      {
       "output_type": "stream",
       "stream": "stdout",
       "text": [
        "Car positions: [ 18.  23.  27.  40.  40.]\n",
        "Car velocities: [ 9.  3.  4.  7.  0.]\n",
        "New car positions:  [ 23.  27.  32.  40.  40.]\n",
        "New Velocities: [ 5.  4.  5.  0.  0.]\n",
        "Distance Between: [  5.   4.  13.   0.   0.]\n"
       ]
      }
     ],
     "prompt_number": 137
    },
    {
     "cell_type": "markdown",
     "metadata": {},
     "source": [
      "Test code: 4th time"
     ]
    },
    {
     "cell_type": "code",
     "collapsed": false,
     "input": [
      "print \"Car positions:\", x\n",
      "print \"Car velocities:\",v\n",
      "CA184(40,x,v)"
     ],
     "language": "python",
     "metadata": {},
     "outputs": [
      {
       "output_type": "stream",
       "stream": "stdout",
       "text": [
        "Car positions: [ 23.  27.  32.  40.  40.]\n",
        "Car velocities: [ 5.  4.  5.  0.  0.]\n",
        "New car positions:  [ 27.  32.  38.  40.  40.]\n",
        "New Velocities: [ 4.  5.  6.  0.  0.]\n",
        "Distance Between: [ 4.  5.  8.  0.  0.]\n"
       ]
      }
     ],
     "prompt_number": 138
    },
    {
     "cell_type": "markdown",
     "metadata": {},
     "source": [
      "Homwork Number 2\n",
      "="
     ]
    },
    {
     "cell_type": "code",
     "collapsed": false,
     "input": [
      "n=10#number of cars\n",
      "x3 = np.random.random(n)*200\n",
      "x2 = sort(x3.round())\n",
      "v3 = np.random.random(n)*65\n",
      "v2 = v3.round()\n",
      "vmax = 65\n",
      "def STCA(x2, v2,l):\n",
      "    l=200#road length\n",
      "    g=np.zeros(10)#number of empty sites in front of each car\n",
      "    for i in range(n):\n",
      "        if g[i] == 0:\n",
      "            v2[i] = 0\n",
      "        elif v2[i] > g[i]:\n",
      "            v2[i] = g[i]\n",
      "            x2[i] += v2[i]\n",
      "        elif v2[i] < g[i] and v2[i] < vmax:\n",
      "            v2[i] += 1\n",
      "            for j in range(n):\n",
      "                if v2[j] < 0:\n",
      "                    p = np.random.random(1)\n",
      "                    v2[j] -= 1*p\n",
      "            x2[i] += v2[i]\n",
      "            if x2[i] > l:\n",
      "                x2[i] = x2[i] - l\n",
      "        for p in range(n):\n",
      "            if p < n - 1:\n",
      "                g[p] = abs(x2[p] - x2[p + 1])\n",
      "            else:\n",
      "                g[p] = l - x2[p] - 1\n",
      "    print \"New car positions: \",x2\n",
      "    print \"New Velocities:\", v2\n",
      "    print \"Distance Between:\", g"
     ],
     "language": "python",
     "metadata": {},
     "outputs": [],
     "prompt_number": 95
    },
    {
     "cell_type": "code",
     "collapsed": false,
     "input": [
      "print \"Car positions:\", x2\n",
      "print \"Car velocities:\",v2\n",
      "STCA(x2,v2,200)"
     ],
     "language": "python",
     "metadata": {},
     "outputs": [
      {
       "output_type": "stream",
       "stream": "stdout",
       "text": [
        "Car positions: [   4.    9.   11.   11.   19.   68.   81.   84.   93.  102.]\n",
        "Car velocities: [ 11.  58.  38.  30.   8.  59.  12.  61.  50.  58.]\n",
        "New car positions:  [   4.   11.   11.   19.   28.   81.   84.   93.  102.  161.]\n",
        "New Velocities: [  0.   2.   0.   8.   9.  13.   3.   9.   9.  59.]\n",
        "Distance Between: [  7.   0.   8.   9.  53.   3.   9.   9.  59.  38.]\n"
       ]
      }
     ],
     "prompt_number": 96
    },
    {
     "cell_type": "markdown",
     "metadata": {},
     "source": [
      "Test code: 2nd time"
     ]
    },
    {
     "cell_type": "code",
     "collapsed": false,
     "input": [
      "print \"Car positions:\", x2\n",
      "print \"Car velocities:\",v2\n",
      "STCA(x2,v2,200)"
     ],
     "language": "python",
     "metadata": {},
     "outputs": [
      {
       "output_type": "stream",
       "stream": "stdout",
       "text": [
        "Car positions: [   4.   11.   11.   19.   28.   81.   84.   93.  102.  161.]\n",
        "Car velocities: [  0.   2.   0.   8.   9.  13.   3.   9.   9.  59.]\n",
        "New car positions:  [   4.   11.   12.   28.   38.   84.   88.   93.  112.  199.]\n",
        "New Velocities: [  0.   0.   1.   9.  10.   3.   4.   9.  10.  38.]\n",
        "Distance Between: [  7.   1.  16.  10.  46.   4.   5.  19.  87.   0.]\n"
       ]
      }
     ],
     "prompt_number": 97
    },
    {
     "cell_type": "markdown",
     "metadata": {},
     "source": [
      "Test code: 3rd time"
     ]
    },
    {
     "cell_type": "code",
     "collapsed": false,
     "input": [
      "print \"Car positions:\", x2\n",
      "print \"Car velocities:\",v2\n",
      "STCA(x2,v2,200)"
     ],
     "language": "python",
     "metadata": {},
     "outputs": [
      {
       "output_type": "stream",
       "stream": "stdout",
       "text": [
        "Car positions: [   4.   11.   12.   28.   38.   84.   88.   93.  112.  199.]\n",
        "Car velocities: [  0.   0.   1.   9.  10.   3.   4.   9.  10.  38.]\n",
        "New car positions:  [   4.   12.   14.   38.   49.   88.   93.  103.  123.  199.]\n",
        "New Velocities: [  0.   1.   2.  10.  11.   4.   5.  10.  11.   0.]\n",
        "Distance Between: [  8.   2.  24.  11.  39.   5.  10.  20.  76.   0.]\n"
       ]
      }
     ],
     "prompt_number": 98
    },
    {
     "cell_type": "markdown",
     "metadata": {},
     "source": [
      "Test code: 4th time"
     ]
    },
    {
     "cell_type": "code",
     "collapsed": false,
     "input": [
      "print \"Car positions:\", x2\n",
      "print \"Car velocities:\",v2\n",
      "STCA(x2,v2,200)"
     ],
     "language": "python",
     "metadata": {},
     "outputs": [
      {
       "output_type": "stream",
       "stream": "stdout",
       "text": [
        "Car positions: [   4.   12.   14.   38.   49.   88.   93.  103.  123.  199.]\n",
        "Car velocities: [  0.   1.   2.  10.  11.   4.   5.  10.  11.   0.]\n",
        "New car positions:  [   4.   14.   17.   49.   61.   93.   99.  114.  135.  199.]\n",
        "New Velocities: [  0.   2.   3.  11.  12.   5.   6.  11.  12.   0.]\n",
        "Distance Between: [ 10.   3.  32.  12.  32.   6.  15.  21.  64.   0.]\n"
       ]
      }
     ],
     "prompt_number": 99
    },
    {
     "cell_type": "code",
     "collapsed": false,
     "input": [
      "n = 1#number of cars\n",
      "x5 = np.random.random(1)*200\n",
      "x4 = sort(x3.round())\n",
      "v5 = np.random.random(1)*65\n",
      "v4 = v3.round()\n",
      "vmax = 65\n",
      "def ASEP(x4, v4,l):\n",
      "    l = 200 #road length\n",
      "    i = random.randint(0, len(x4))\n",
      "    g = np.zeros(10)#number of empty sites in front of each car\n",
      "    if v4[i] > g[i]:\n",
      "        v4[i] = g[i]\n",
      "        x4[i] += v4[i]\n",
      "    elif v4[i] < g[i] and v4 < vmax:\n",
      "        v4[i] += 1\n",
      "        x4[i] += v4[i]\n",
      "    for j in range(n):\n",
      "        if v4[j] < 0:\n",
      "            p = np.random.random(1)\n",
      "            v4[j] -= 1 * p\n",
      "        x4[i] += v4[i]\n",
      "        if x4[i] > l:\n",
      "            x4[i] = x4[i] - l\n",
      "        for p in range(n):\n",
      "            if p < n - 1:\n",
      "                g[p] = abs(x4[p] - x4[p+1])\n",
      "            else:\n",
      "                g[p] = l - x4[p]\n",
      "    print \"New car positions: \",x4\n",
      "    print \"New Velocities:\", v4\n",
      "    print \"Distance Between:\", g"
     ],
     "language": "python",
     "metadata": {},
     "outputs": [],
     "prompt_number": 129
    },
    {
     "cell_type": "code",
     "collapsed": false,
     "input": [
      "print \"Car positions:\", x4\n",
      "print \"Car velocities:\",v4\n",
      "ASEP(x4,v4,200)"
     ],
     "language": "python",
     "metadata": {},
     "outputs": [
      {
       "output_type": "stream",
       "stream": "stdout",
       "text": [
        "Car positions: [   4.    9.   11.   11.   19.   68.   81.   84.   93.  102.]\n",
        "Car velocities: [ 11.  58.  38.  30.   8.  59.  12.  61.  50.  58.]\n",
        "New car positions:  [   4.    9.   11.   11.   19.   68.   81.   84.   93.  102.]\n",
        "New Velocities: [ 11.  58.  38.  30.   0.  59.  12.  61.  50.  58.]\n",
        "Distance Between: [ 196.    0.    0.    0.    0.    0.    0.    0.    0.    0.]\n"
       ]
      }
     ],
     "prompt_number": 130
    },
    {
     "cell_type": "code",
     "collapsed": false,
     "input": [
      "#close to finishing code for ASEP but not there"
     ],
     "language": "python",
     "metadata": {},
     "outputs": [],
     "prompt_number": 120
    },
    {
     "cell_type": "code",
     "collapsed": false,
     "input": [
      "def initial(l,n,vmax):\n",
      "    x = [0] * n\n",
      "    v = [0] * n\n",
      "    g = [0] * n"
     ],
     "language": "python",
     "metadata": {},
     "outputs": [],
     "prompt_number": 121
    },
    {
     "cell_type": "code",
     "collapsed": false,
     "input": [
      "#not sure what initial conditions are or what question is asking"
     ],
     "language": "python",
     "metadata": {},
     "outputs": [],
     "prompt_number": 122
    },
    {
     "cell_type": "code",
     "collapsed": false,
     "input": [],
     "language": "python",
     "metadata": {},
     "outputs": []
    }
   ],
   "metadata": {}
  }
 ]
}