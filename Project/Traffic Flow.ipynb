{
 "metadata": {
  "name": "Traffic Flow"
 },
 "nbformat": 3,
 "nbformat_minor": 0,
 "worksheets": [
  {
   "cells": [
    {
     "cell_type": "markdown",
     "metadata": {},
     "source": [
      "I chose the One dimensional traffic flow"
     ]
    },
    {
     "cell_type": "code",
     "collapsed": false,
     "input": [
      "import numpy as np\n",
      "import math"
     ],
     "language": "python",
     "metadata": {},
     "outputs": [],
     "prompt_number": 3
    },
    {
     "cell_type": "code",
     "collapsed": false,
     "input": [
      "road = arange(1,40)\n",
      "road"
     ],
     "language": "python",
     "metadata": {},
     "outputs": [
      {
       "output_type": "pyout",
       "prompt_number": 4,
       "text": [
        "array([ 1,  2,  3,  4,  5,  6,  7,  8,  9, 10, 11, 12, 13, 14, 15, 16, 17,\n",
        "       18, 19, 20, 21, 22, 23, 24, 25, 26, 27, 28, 29, 30, 31, 32, 33, 34,\n",
        "       35, 36, 37, 38, 39])"
       ]
      }
     ],
     "prompt_number": 4
    },
    {
     "cell_type": "code",
     "collapsed": false,
     "input": [
      "n = 5 # number of cars\n",
      "x1 = np.random.random(n)*40\n",
      "x = sort(x1.round())#array of positions\n",
      "v1 = np.random.random(n)*65 \n",
      "v = v1.round()#velocity array\n",
      "g = np.zeros(5) #empty spaces in front of car\n",
      "vmax = 65\n",
      "def CA184(l,x,v):\n",
      "    \"\"\"CA184 algothrim\"\"\"\n",
      "    for i in range(n):\n",
      "        if i+1 < n:#if car isnt last car\n",
      "            g[i] = int(x[i+1] - x[i])#calculate distance to the car in front of it\n",
      "        else:\n",
      "            g[i] = l - x[i]#if last car, calculate distance to end of road\n",
      "    for i in range(n):\n",
      "        if g[i] == 0:#if no space in front of car\n",
      "            v[i] = 0#dont go\n",
      "        elif v[i] > g[i]:#if amount of speed greater than space in front of car\n",
      "            v[i] = g[i] #make them equal aka slows down\n",
      "            x[i] += v[i] # move car forward v[i]\n",
      "        elif v[i] < g[i] and v[i] < vmax: # if speed less than space in front of car\n",
      "            v[i] = v[i] + 1 # speed up by 1\n",
      "            x[i] += v[i] # move car forward by v[i]\n",
      "    print \"New car positions: \",x\n",
      "    print \"New Velocities:\", v\n",
      "    print \"Distance Between:\", g"
     ],
     "language": "python",
     "metadata": {},
     "outputs": [],
     "prompt_number": 53
    },
    {
     "cell_type": "code",
     "collapsed": false,
     "input": [
      "print \"Car positions:\", x\n",
      "print \"Car velocities:\",v\n",
      "CA184(40,x,v)"
     ],
     "language": "python",
     "metadata": {},
     "outputs": [
      {
       "output_type": "stream",
       "stream": "stdout",
       "text": [
        "Car positions: [  6.  15.  22.  25.  39.]\n",
        "Car velocities: [ 60.  34.  20.  14.   2.]\n",
        "New car positions:  [ 15.  22.  25.  25.  40.]\n",
        "New Velocities: [  9.   7.   3.  14.   1.]\n",
        "Distance Between: [  9.   7.   3.  14.   1.]\n"
       ]
      }
     ],
     "prompt_number": 54
    },
    {
     "cell_type": "markdown",
     "metadata": {},
     "source": [
      "Test code: 2nd time"
     ]
    },
    {
     "cell_type": "code",
     "collapsed": false,
     "input": [
      "print \"Car positions:\", x\n",
      "print \"Car velocities:\",v\n",
      "CA184(40,x,v)"
     ],
     "language": "python",
     "metadata": {},
     "outputs": [
      {
       "output_type": "stream",
       "stream": "stdout",
       "text": [
        "Car positions: [ 15.  22.  25.  25.  40.]\n",
        "Car velocities: [  9.   7.   3.  14.   1.]\n",
        "New car positions:  [ 22.  25.  25.  40.  40.]\n",
        "New Velocities: [  7.   3.   0.  15.   0.]\n",
        "Distance Between: [  7.   3.   0.  15.   0.]\n"
       ]
      }
     ],
     "prompt_number": 55
    },
    {
     "cell_type": "markdown",
     "metadata": {},
     "source": [
      "Test code: 3rd time"
     ]
    },
    {
     "cell_type": "code",
     "collapsed": false,
     "input": [
      "print \"Car positions:\", x\n",
      "print \"Car velocities:\",v\n",
      "CA184(40,x,v)"
     ],
     "language": "python",
     "metadata": {},
     "outputs": [
      {
       "output_type": "stream",
       "stream": "stdout",
       "text": [
        "Car positions: [ 22.  25.  25.  40.  40.]\n",
        "Car velocities: [  7.   3.   0.  15.   0.]\n",
        "New car positions:  [ 25.  25.  26.  40.  40.]\n",
        "New Velocities: [ 3.  0.  1.  0.  0.]\n",
        "Distance Between: [  3.   0.  15.   0.   0.]\n"
       ]
      }
     ],
     "prompt_number": 56
    },
    {
     "cell_type": "markdown",
     "metadata": {},
     "source": [
      "Test code: 4th time"
     ]
    },
    {
     "cell_type": "code",
     "collapsed": false,
     "input": [
      "print \"Car positions:\", x\n",
      "print \"Car velocities:\",v\n",
      "CA184(40,x,v)"
     ],
     "language": "python",
     "metadata": {},
     "outputs": [
      {
       "output_type": "stream",
       "stream": "stdout",
       "text": [
        "Car positions: [ 25.  25.  26.  40.  40.]\n",
        "Car velocities: [ 3.  0.  1.  0.  0.]\n",
        "New car positions:  [ 25.  26.  28.  40.  40.]\n",
        "New Velocities: [ 0.  1.  2.  0.  0.]\n",
        "Distance Between: [  0.   1.  14.   0.   0.]\n"
       ]
      }
     ],
     "prompt_number": 57
    },
    {
     "cell_type": "markdown",
     "metadata": {},
     "source": [
      "Homwork Number 2\n",
      "="
     ]
    },
    {
     "cell_type": "code",
     "collapsed": false,
     "input": [
      "n=10#number of cars\n",
      "x3 = np.random.random(n)*200\n",
      "x2 = sort(x3.round())\n",
      "v3 = np.random.random(n)*65\n",
      "v2 = v3.round()\n",
      "vmax = 65\n",
      "def STCA(x2, v2,l):\n",
      "    l=200#road length\n",
      "    g=np.zeros(10)#number of empty sites in front of each car\n",
      "    for i in range(n):\n",
      "        if g[i] == 0:\n",
      "            v2[i] = 0\n",
      "        elif v2[i] > g[i]:\n",
      "            v2[i] = g[i]\n",
      "            x2[i] += v2[i]\n",
      "        elif v2[i] < g[i] and v2[i] < vmax:\n",
      "            v2[i] += 1\n",
      "            for j in range(n):\n",
      "                if v2[j] < 0:\n",
      "                    p = np.random.random(1)\n",
      "                    v2[j] -= 1*p\n",
      "            x2[i] += v2[i]\n",
      "            if x2[i] > l:\n",
      "                x2[i] = x2[i] - l\n",
      "        for p in range(n):\n",
      "            if p < n - 1:\n",
      "                g[p] = abs(x2[p] - x2[p + 1])\n",
      "            else:\n",
      "                g[p] = l - x2[p] - 1\n",
      "    print \"New car positions: \",x2\n",
      "    print \"New Velocities:\", v2\n",
      "    print \"Distance Between:\", g"
     ],
     "language": "python",
     "metadata": {},
     "outputs": [],
     "prompt_number": 13
    },
    {
     "cell_type": "code",
     "collapsed": false,
     "input": [
      "print \"Car positions:\", x2\n",
      "print \"Car velocities:\",v2\n",
      "STCA(x2,v2,200)"
     ],
     "language": "python",
     "metadata": {},
     "outputs": [
      {
       "output_type": "stream",
       "stream": "stdout",
       "text": [
        "Car positions: [  11.   25.   43.   45.   58.   65.   72.   90.  120.  200.]\n",
        "Car velocities: [ 60.  42.  11.  56.  57.  36.  56.  20.  10.  47.]\n",
        "New car positions:  [  11.   43.   45.   58.   65.   72.   90.  111.  131.  199.]\n",
        "New Velocities: [  0.  18.   2.  13.   7.   7.  18.  21.  11.  -1.]\n",
        "Distance Between: [ 32.   2.  13.   7.   7.  18.  21.  20.  68.   0.]\n"
       ]
      }
     ],
     "prompt_number": 14
    },
    {
     "cell_type": "markdown",
     "metadata": {},
     "source": [
      "Test code: 2nd time"
     ]
    },
    {
     "cell_type": "code",
     "collapsed": false,
     "input": [
      "print \"Car positions:\", x2\n",
      "print \"Car velocities:\",v2\n",
      "STCA(x2,v2,200)"
     ],
     "language": "python",
     "metadata": {},
     "outputs": [
      {
       "output_type": "stream",
       "stream": "stdout",
       "text": [
        "Car positions: [  11.   43.   45.   58.   65.   72.   90.  111.  131.  199.]\n",
        "Car velocities: [  0.  18.   2.  13.   7.   7.  18.  21.  11.  -1.]\n",
        "New car positions:  [  11.   45.   48.   65.   65.   80.  109.  131.  143.  199.]\n",
        "New Velocities: [  0.   2.   3.   7.   7.   8.  19.  20.  12.   0.]\n",
        "Distance Between: [ 34.   3.  17.   0.  15.  29.  22.  12.  56.   0.]\n"
       ]
      }
     ],
     "prompt_number": 15
    },
    {
     "cell_type": "markdown",
     "metadata": {},
     "source": [
      "Test code: 3rd time"
     ]
    },
    {
     "cell_type": "code",
     "collapsed": false,
     "input": [
      "print \"Car positions:\", x2\n",
      "print \"Car velocities:\",v2\n",
      "STCA(x2,v2,200)"
     ],
     "language": "python",
     "metadata": {},
     "outputs": [
      {
       "output_type": "stream",
       "stream": "stdout",
       "text": [
        "Car positions: [  11.   45.   48.   65.   65.   80.  109.  131.  143.  199.]\n",
        "Car velocities: [  0.   2.   3.   7.   7.   8.  19.  20.  12.   0.]\n",
        "New car positions:  [  11.   48.   52.   65.   73.   89.  129.  143.  156.  199.]\n",
        "New Velocities: [  0.   3.   4.   0.   8.   9.  20.  12.  13.   0.]\n",
        "Distance Between: [ 37.   4.  13.   8.  16.  40.  14.  13.  43.   0.]\n"
       ]
      }
     ],
     "prompt_number": 16
    },
    {
     "cell_type": "markdown",
     "metadata": {},
     "source": [
      "Test code: 4th time"
     ]
    },
    {
     "cell_type": "code",
     "collapsed": false,
     "input": [
      "print \"Car positions:\", x2\n",
      "print \"Car velocities:\",v2\n",
      "STCA(x2,v2,200)"
     ],
     "language": "python",
     "metadata": {},
     "outputs": [
      {
       "output_type": "stream",
       "stream": "stdout",
       "text": [
        "Car positions: [  11.   48.   52.   65.   73.   89.  129.  143.  156.  199.]\n",
        "Car velocities: [  0.   3.   4.   0.   8.   9.  20.  12.  13.   0.]\n",
        "New car positions:  [  11.   52.   57.   66.   82.   99.  143.  156.  170.  199.]\n",
        "New Velocities: [  0.   4.   5.   1.   9.  10.  14.  13.  14.   0.]\n",
        "Distance Between: [ 41.   5.   9.  16.  17.  44.  13.  14.  29.   0.]\n"
       ]
      }
     ],
     "prompt_number": 17
    },
    {
     "cell_type": "code",
     "collapsed": false,
     "input": [
      "n = 1#number of cars\n",
      "x5 = np.random.random(1)*200\n",
      "x4 = sort(x3.round())\n",
      "v5 = np.random.random(1)*65\n",
      "v4 = v3.round()\n",
      "vmax = 65\n",
      "def ASEP(x4, v4,l):\n",
      "    l = 200 #road length\n",
      "    i = random.randint(0, len(x4))\n",
      "    g = np.zeros(10)#number of empty sites in front of each car\n",
      "    if v4[i] > g[i]:\n",
      "        v4[i] = g[i]\n",
      "        x4[i] += v4[i]\n",
      "    elif v4[i] < g[i] and v4 < vmax:\n",
      "        v4[i] += 1\n",
      "        x4[i] += v4[i]\n",
      "    for j in range(n):\n",
      "        if v4[j] < 0:\n",
      "            p = np.random.random(1)\n",
      "            v4[j] -= 1 * p\n",
      "        x4[i] += v4[i]\n",
      "        if x4[i] > l:\n",
      "            x4[i] = x4[i] - l\n",
      "        for p in range(n):\n",
      "            if p < n - 1:\n",
      "                g[p] = abs(x4[p] - x4[p+1])\n",
      "            else:\n",
      "                g[p] = l - x4[p]\n",
      "    print \"New car positions: \",x4\n",
      "    print \"New Velocities:\", v4\n",
      "    print \"Distance Between:\", g"
     ],
     "language": "python",
     "metadata": {},
     "outputs": [],
     "prompt_number": 18
    },
    {
     "cell_type": "code",
     "collapsed": false,
     "input": [
      "print \"Car positions:\", x4\n",
      "print \"Car velocities:\",v4\n",
      "ASEP(x4,v4,200)"
     ],
     "language": "python",
     "metadata": {},
     "outputs": [
      {
       "output_type": "stream",
       "stream": "stdout",
       "text": [
        "Car positions: [  11.   25.   43.   45.   58.   65.   72.   90.  120.  200.]\n",
        "Car velocities: [ 60.  42.  11.  56.  57.  36.  56.  20.  10.  47.]\n",
        "New car positions:  [  11.   25.   43.   45.   58.   65.   72.   90.  120.  200.]\n",
        "New Velocities: [ 60.  42.   0.  56.  57.  36.  56.  20.  10.  47.]\n",
        "Distance Between: [ 189.    0.    0.    0.    0.    0.    0.    0.    0.    0.]\n"
       ]
      }
     ],
     "prompt_number": 19
    },
    {
     "cell_type": "code",
     "collapsed": false,
     "input": [
      "#close to finishing code for ASEP but not there"
     ],
     "language": "python",
     "metadata": {},
     "outputs": [],
     "prompt_number": 20
    },
    {
     "cell_type": "code",
     "collapsed": false,
     "input": [
      "def initial(l,n,vmax):\n",
      "    x = np.zeros(n)\n",
      "    v = np.zeros(n)\n",
      "    g = np.zeros(n)"
     ],
     "language": "python",
     "metadata": {},
     "outputs": [],
     "prompt_number": 21
    },
    {
     "cell_type": "code",
     "collapsed": false,
     "input": [
      "#not sure what initial conditions are or what question is asking"
     ],
     "language": "python",
     "metadata": {},
     "outputs": [],
     "prompt_number": 22
    },
    {
     "cell_type": "markdown",
     "metadata": {},
     "source": [
      "Plotting\n",
      "="
     ]
    },
    {
     "cell_type": "code",
     "collapsed": false,
     "input": [
      "t = arange(0,100,1)"
     ],
     "language": "python",
     "metadata": {},
     "outputs": [],
     "prompt_number": 31
    },
    {
     "cell_type": "code",
     "collapsed": false,
     "input": [
      "print x,v"
     ],
     "language": "python",
     "metadata": {},
     "outputs": [
      {
       "output_type": "stream",
       "stream": "stdout",
       "text": [
        "[ 100.  100.  100.  100.  100.] [ 0.  0.  0.  0.  0.]\n"
       ]
      }
     ],
     "prompt_number": 49
    },
    {
     "cell_type": "code",
     "collapsed": false,
     "input": [
      "print CA184(100,x,v)"
     ],
     "language": "python",
     "metadata": {},
     "outputs": [
      {
       "output_type": "stream",
       "stream": "stdout",
       "text": [
        "New car positions:  [ 26.  28.  31.  40.  41.]\n",
        "New Velocities: [ 1.  2.  3.  0.  1.]\n",
        "Distance Between: [  1.   2.  12.   0.  60.]\n",
        "None\n"
       ]
      }
     ],
     "prompt_number": 58
    },
    {
     "cell_type": "code",
     "collapsed": false,
     "input": [
      "print CA184(100,x,v)"
     ],
     "language": "python",
     "metadata": {},
     "outputs": [
      {
       "output_type": "stream",
       "stream": "stdout",
       "text": [
        "New car positions:  [ 28.  31.  35.  41.  43.]\n",
        "New Velocities: [ 2.  3.  4.  1.  2.]\n",
        "Distance Between: [  2.   3.   9.   1.  59.]\n",
        "None\n"
       ]
      }
     ],
     "prompt_number": 59
    },
    {
     "cell_type": "code",
     "collapsed": false,
     "input": [
      "print CA184(100,x,v)"
     ],
     "language": "python",
     "metadata": {},
     "outputs": [
      {
       "output_type": "stream",
       "stream": "stdout",
       "text": [
        "New car positions:  [ 31.  35.  40.  43.  46.]\n",
        "New Velocities: [ 3.  4.  5.  2.  3.]\n",
        "Distance Between: [  3.   4.   6.   2.  57.]\n",
        "None\n"
       ]
      }
     ],
     "prompt_number": 60
    },
    {
     "cell_type": "code",
     "collapsed": false,
     "input": [
      "def function(t):\n",
      "    wha = []\n",
      "    for i in t:\n",
      "        wha.append(CA184(100,x,v))\n",
      "    return wha\n",
      "\n",
      "plot(t,function(t))\n",
      "xlim(0,110)\n",
      "ylim(0,110)"
     ],
     "language": "python",
     "metadata": {},
     "outputs": [
      {
       "output_type": "stream",
       "stream": "stdout",
       "text": [
        "New car positions:  [ 100.  100.  100.  100.  100.]\n",
        "New Velocities: [ 0.  0.  0.  0.  0.]\n",
        "Distance Between: [ 0.  0.  0.  0.  0.]\n",
        "New car positions:  [ 100.  100.  100.  100.  100.]\n",
        "New Velocities: [ 0.  0.  0.  0.  0.]\n",
        "Distance Between: [ 0.  0.  0.  0.  0.]\n",
        "New car positions:  [ 100.  100.  100.  100.  100.]\n",
        "New Velocities: [ 0.  0.  0.  0.  0.]\n",
        "Distance Between: [ 0.  0.  0.  0.  0.]\n",
        "New car positions:  [ 100.  100.  100.  100.  100.]\n",
        "New Velocities: [ 0.  0.  0.  0.  0.]\n",
        "Distance Between: [ 0.  0.  0.  0.  0.]\n",
        "New car positions:  [ 100.  100.  100.  100.  100.]\n",
        "New Velocities: [ 0.  0.  0.  0.  0.]\n",
        "Distance Between: [ 0.  0.  0.  0.  0.]\n",
        "New car positions:  [ 100.  100.  100.  100.  100.]\n",
        "New Velocities: [ 0.  0.  0.  0.  0.]\n",
        "Distance Between: [ 0.  0.  0.  0.  0.]\n",
        "New car positions:  [ 100.  100.  100.  100.  100.]\n",
        "New Velocities: [ 0.  0.  0.  0.  0.]\n",
        "Distance Between: [ 0.  0.  0.  0.  0.]\n",
        "New car positions:  [ 100.  100.  100.  100.  100.]\n",
        "New Velocities: [ 0.  0.  0.  0.  0.]\n",
        "Distance Between: [ 0.  0.  0.  0.  0.]\n",
        "New car positions:  [ 100.  100.  100.  100.  100.]\n",
        "New Velocities: [ 0.  0.  0.  0.  0.]\n",
        "Distance Between: [ 0.  0.  0.  0.  0.]\n",
        "New car positions:  [ 100.  100.  100.  100.  100.]\n",
        "New Velocities: [ 0.  0.  0.  0.  0.]\n",
        "Distance Between: [ 0.  0.  0.  0.  0.]\n",
        "New car positions:  [ 100.  100.  100.  100.  100.]\n",
        "New Velocities: [ 0.  0.  0.  0.  0.]\n",
        "Distance Between: [ 0.  0.  0.  0.  0.]\n",
        "New car positions:  [ 100.  100.  100.  100.  100.]\n",
        "New Velocities: [ 0.  0.  0.  0.  0.]\n",
        "Distance Between: [ 0.  0.  0.  0.  0.]\n",
        "New car positions:  [ 100.  100.  100.  100.  100.]\n",
        "New Velocities: [ 0.  0.  0.  0.  0.]\n",
        "Distance Between: [ 0.  0.  0.  0.  0.]\n",
        "New car positions:  [ 100.  100.  100.  100.  100.]\n",
        "New Velocities: [ 0.  0.  0.  0.  0.]\n",
        "Distance Between: [ 0.  0.  0.  0.  0.]\n",
        "New car positions:  [ 100.  100.  100.  100.  100.]\n",
        "New Velocities: [ 0.  0.  0.  0.  0.]\n",
        "Distance Between: [ 0.  0.  0.  0.  0.]\n",
        "New car positions:  [ 100.  100.  100.  100.  100.]\n",
        "New Velocities: [ 0.  0.  0.  0.  0.]\n",
        "Distance Between: [ 0.  0.  0.  0.  0.]\n",
        "New car positions:  [ 100.  100.  100.  100.  100.]\n",
        "New Velocities: [ 0.  0.  0.  0.  0.]\n",
        "Distance Between: [ 0.  0.  0.  0.  0.]\n",
        "New car positions:  [ 100.  100.  100.  100.  100.]\n",
        "New Velocities: [ 0.  0.  0.  0.  0.]\n",
        "Distance Between: [ 0.  0.  0.  0.  0.]\n",
        "New car positions:  [ 100.  100.  100.  100.  100.]\n",
        "New Velocities: [ 0.  0.  0.  0.  0.]\n",
        "Distance Between: [ 0.  0.  0.  0.  0.]\n",
        "New car positions:  [ 100.  100.  100.  100.  100.]\n",
        "New Velocities: [ 0.  0.  0.  0.  0.]\n",
        "Distance Between: [ 0.  0.  0.  0.  0.]\n",
        "New car positions:  [ 100.  100.  100.  100.  100.]\n",
        "New Velocities: [ 0.  0.  0.  0.  0.]\n",
        "Distance Between: [ 0.  0.  0.  0.  0.]\n",
        "New car positions:  [ 100.  100.  100.  100.  100.]\n",
        "New Velocities: [ 0.  0.  0.  0.  0.]\n",
        "Distance Between: [ 0.  0.  0.  0.  0.]\n",
        "New car positions:  [ 100.  100.  100.  100.  100.]\n",
        "New Velocities: [ 0.  0.  0.  0.  0.]\n",
        "Distance Between: [ 0.  0.  0.  0.  0.]\n",
        "New car positions:  [ 100.  100.  100.  100.  100.]\n",
        "New Velocities: [ 0.  0.  0.  0.  0.]\n",
        "Distance Between: [ 0.  0.  0.  0.  0.]\n",
        "New car positions:  [ 100.  100.  100.  100.  100.]\n",
        "New Velocities: [ 0.  0.  0.  0.  0.]\n",
        "Distance Between: [ 0.  0.  0.  0.  0.]\n",
        "New car positions:  [ 100.  100.  100.  100.  100.]\n",
        "New Velocities: [ 0.  0.  0.  0.  0.]"
       ]
      },
      {
       "output_type": "stream",
       "stream": "stdout",
       "text": [
        "\n",
        "Distance Between: [ 0.  0.  0.  0.  0.]\n",
        "New car positions:  [ 100.  100.  100.  100.  100.]\n",
        "New Velocities: [ 0.  0.  0.  0.  0.]\n",
        "Distance Between: [ 0.  0.  0.  0.  0.]\n",
        "New car positions:  [ 100.  100.  100.  100.  100.]\n",
        "New Velocities: [ 0.  0.  0.  0.  0.]\n",
        "Distance Between: [ 0.  0.  0.  0.  0.]\n",
        "New car positions:  [ 100.  100.  100.  100.  100.]\n",
        "New Velocities: [ 0.  0.  0.  0.  0.]\n",
        "Distance Between: [ 0.  0.  0.  0.  0.]\n",
        "New car positions:  [ 100.  100.  100.  100.  100.]\n",
        "New Velocities: [ 0.  0.  0.  0.  0.]\n",
        "Distance Between: [ 0.  0.  0.  0.  0.]\n",
        "New car positions:  [ 100.  100.  100.  100.  100.]\n",
        "New Velocities: [ 0.  0.  0.  0.  0.]\n",
        "Distance Between: [ 0.  0.  0.  0.  0.]\n",
        "New car positions:  [ 100.  100.  100.  100.  100.]\n",
        "New Velocities: [ 0.  0.  0.  0.  0.]\n",
        "Distance Between: [ 0.  0.  0.  0.  0.]\n",
        "New car positions:  [ 100.  100.  100.  100.  100.]\n",
        "New Velocities: [ 0.  0.  0.  0.  0.]\n",
        "Distance Between: [ 0.  0.  0.  0.  0.]\n",
        "New car positions:  [ 100.  100.  100.  100.  100.]\n",
        "New Velocities: [ 0.  0.  0.  0.  0.]\n",
        "Distance Between: [ 0.  0.  0.  0.  0.]\n",
        "New car positions:  [ 100.  100.  100.  100.  100.]\n",
        "New Velocities: [ 0.  0.  0.  0.  0.]\n",
        "Distance Between: [ 0.  0.  0.  0.  0.]\n",
        "New car positions:  [ 100.  100.  100.  100.  100.]\n",
        "New Velocities: [ 0.  0.  0.  0.  0.]\n",
        "Distance Between: [ 0.  0.  0.  0.  0.]\n",
        "New car positions:  [ 100.  100.  100.  100.  100.]\n",
        "New Velocities: [ 0.  0.  0.  0.  0.]\n",
        "Distance Between: [ 0.  0.  0.  0.  0.]\n",
        "New car positions:  [ 100.  100.  100.  100.  100.]\n",
        "New Velocities: [ 0.  0.  0.  0.  0.]\n",
        "Distance Between: [ 0.  0.  0.  0.  0.]\n",
        "New car positions:  [ 100.  100.  100.  100.  100.]\n",
        "New Velocities: [ 0.  0.  0.  0.  0.]\n",
        "Distance Between: [ 0.  0.  0.  0.  0.]\n",
        "New car positions:  [ 100.  100.  100.  100.  100.]\n",
        "New Velocities: [ 0.  0.  0.  0.  0.]\n",
        "Distance Between: [ 0.  0.  0.  0.  0.]\n",
        "New car positions:  [ 100.  100.  100.  100.  100.]\n",
        "New Velocities: [ 0.  0.  0.  0.  0.]\n",
        "Distance Between: [ 0.  0.  0.  0.  0.]\n",
        "New car positions:  [ 100.  100.  100.  100.  100.]\n",
        "New Velocities: [ 0.  0.  0.  0.  0.]\n",
        "Distance Between: [ 0.  0.  0.  0.  0.]\n",
        "New car positions:  [ 100.  100.  100.  100.  100.]\n",
        "New Velocities: [ 0.  0.  0.  0.  0.]\n",
        "Distance Between: [ 0.  0.  0.  0.  0.]\n",
        "New car positions:  [ 100.  100.  100.  100.  100.]\n",
        "New Velocities: [ 0.  0.  0.  0.  0.]\n",
        "Distance Between: [ 0.  0.  0.  0.  0.]\n",
        "New car positions:  [ 100.  100.  100.  100.  100.]\n",
        "New Velocities: [ 0.  0.  0.  0.  0.]\n",
        "Distance Between: [ 0.  0.  0.  0.  0.]\n",
        "New car positions:  [ 100.  100.  100.  100.  100.]\n",
        "New Velocities: [ 0.  0.  0.  0.  0.]\n",
        "Distance Between: [ 0.  0.  0.  0.  0.]\n",
        "New car positions:  [ 100.  100.  100.  100.  100.]\n",
        "New Velocities: [ 0.  0.  0.  0.  0.]\n",
        "Distance Between: [ 0.  0.  0.  0.  0.]\n",
        "New car positions:  [ 100.  100.  100.  100.  100.]\n",
        "New Velocities: [ 0.  0.  0.  0.  0.]\n",
        "Distance Between: [ 0.  0.  0.  0.  0.]\n",
        "New car positions:  [ 100.  100.  100.  100.  100.]\n",
        "New Velocities: [ 0.  0.  0.  0.  0.]\n",
        "Distance Between: [ 0.  0.  0.  0.  0.]\n",
        "New car positions:  [ 100.  100.  100.  100.  100.]\n",
        "New Velocities: [ 0.  0.  0.  0.  0.]\n",
        "Distance Between: [ 0.  0.  0.  0.  0.]\n",
        "New car positions:  [ 100.  100.  100.  100.  100.]\n",
        "New Velocities: [ 0.  0.  0.  0.  0.]"
       ]
      },
      {
       "output_type": "stream",
       "stream": "stdout",
       "text": [
        "\n",
        "Distance Between: [ 0.  0.  0.  0.  0.]\n",
        "New car positions:  [ 100.  100.  100.  100.  100.]\n",
        "New Velocities: [ 0.  0.  0.  0.  0.]\n",
        "Distance Between: [ 0.  0.  0.  0.  0.]\n",
        "New car positions:  [ 100.  100.  100.  100.  100.]\n",
        "New Velocities: [ 0.  0.  0.  0.  0.]\n",
        "Distance Between: [ 0.  0.  0.  0.  0.]\n",
        "New car positions:  [ 100.  100.  100.  100.  100.]\n",
        "New Velocities: [ 0.  0.  0.  0.  0.]\n",
        "Distance Between: [ 0.  0.  0.  0.  0.]\n",
        "New car positions:  [ 100.  100.  100.  100.  100.]\n",
        "New Velocities: [ 0.  0.  0.  0.  0.]\n",
        "Distance Between: [ 0.  0.  0.  0.  0.]\n",
        "New car positions:  [ 100.  100.  100.  100.  100.]\n",
        "New Velocities: [ 0.  0.  0.  0.  0.]\n",
        "Distance Between: [ 0.  0.  0.  0.  0.]\n",
        "New car positions:  [ 100.  100.  100.  100.  100.]\n",
        "New Velocities: [ 0.  0.  0.  0.  0.]\n",
        "Distance Between: [ 0.  0.  0.  0.  0.]\n",
        "New car positions:  [ 100.  100.  100.  100.  100.]\n",
        "New Velocities: [ 0.  0.  0.  0.  0.]\n",
        "Distance Between: [ 0.  0.  0.  0.  0.]\n",
        "New car positions:  [ 100.  100.  100.  100.  100.]\n",
        "New Velocities: [ 0.  0.  0.  0.  0.]\n",
        "Distance Between: [ 0.  0.  0.  0.  0.]\n",
        "New car positions:  [ 100.  100.  100.  100.  100.]\n",
        "New Velocities: [ 0.  0.  0.  0.  0.]\n",
        "Distance Between: [ 0.  0.  0.  0.  0.]\n",
        "New car positions:  [ 100.  100.  100.  100.  100.]\n",
        "New Velocities: [ 0.  0.  0.  0.  0.]\n",
        "Distance Between: [ 0.  0.  0.  0.  0.]\n",
        "New car positions:  [ 100.  100.  100.  100.  100.]\n",
        "New Velocities: [ 0.  0.  0.  0.  0.]\n",
        "Distance Between: [ 0.  0.  0.  0.  0.]\n",
        "New car positions:  [ 100.  100.  100.  100.  100.]\n",
        "New Velocities: [ 0.  0.  0.  0.  0.]\n",
        "Distance Between: [ 0.  0.  0.  0.  0.]\n",
        "New car positions:  [ 100.  100.  100.  100.  100.]\n",
        "New Velocities: [ 0.  0.  0.  0.  0.]\n",
        "Distance Between: [ 0.  0.  0.  0.  0.]\n",
        "New car positions:  [ 100.  100.  100.  100.  100.]\n",
        "New Velocities: [ 0.  0.  0.  0.  0.]\n",
        "Distance Between: [ 0.  0.  0.  0.  0.]\n",
        "New car positions:  [ 100.  100.  100.  100.  100.]\n",
        "New Velocities: [ 0.  0.  0.  0.  0.]\n",
        "Distance Between: [ 0.  0.  0.  0.  0.]\n",
        "New car positions:  [ 100.  100.  100.  100.  100.]\n",
        "New Velocities: [ 0.  0.  0.  0.  0.]\n",
        "Distance Between: [ 0.  0.  0.  0.  0.]\n",
        "New car positions:  [ 100.  100.  100.  100.  100.]\n",
        "New Velocities: [ 0.  0.  0.  0.  0.]\n",
        "Distance Between: [ 0.  0.  0.  0.  0.]\n",
        "New car positions:  [ 100.  100.  100.  100.  100.]\n",
        "New Velocities: [ 0.  0.  0.  0.  0.]\n",
        "Distance Between: [ 0.  0.  0.  0.  0.]\n",
        "New car positions:  [ 100.  100.  100.  100.  100.]\n",
        "New Velocities: [ 0.  0.  0.  0.  0.]\n",
        "Distance Between: [ 0.  0.  0.  0.  0.]\n",
        "New car positions:  [ 100.  100.  100.  100.  100.]\n",
        "New Velocities: [ 0.  0.  0.  0.  0.]\n",
        "Distance Between: [ 0.  0.  0.  0.  0.]\n",
        "New car positions:  [ 100.  100.  100.  100.  100.]\n",
        "New Velocities: [ 0.  0.  0.  0.  0.]\n",
        "Distance Between: [ 0.  0.  0.  0.  0.]\n",
        "New car positions:  [ 100.  100.  100.  100.  100.]\n",
        "New Velocities: [ 0.  0.  0.  0.  0.]\n",
        "Distance Between: [ 0.  0.  0.  0.  0.]\n",
        "New car positions:  [ 100.  100.  100.  100.  100.]\n",
        "New Velocities: [ 0.  0.  0.  0.  0.]\n",
        "Distance Between: [ 0.  0.  0.  0.  0.]\n",
        "New car positions:  [ 100.  100.  100.  100.  100.]\n",
        "New Velocities: [ 0.  0.  0.  0.  0.]\n",
        "Distance Between: [ 0.  0.  0.  0.  0.]\n",
        "New car positions:  [ 100.  100.  100.  100.  100.]\n",
        "New Velocities: [ 0.  0.  0.  0.  0.]\n",
        "Distance Between: [ 0.  0.  0.  0.  0.]"
       ]
      },
      {
       "output_type": "stream",
       "stream": "stdout",
       "text": [
        "\n",
        "New car positions:  [ 100.  100.  100.  100.  100.]\n",
        "New Velocities: [ 0.  0.  0.  0.  0.]\n",
        "Distance Between: [ 0.  0.  0.  0.  0.]\n",
        "New car positions:  [ 100.  100.  100.  100.  100.]\n",
        "New Velocities: [ 0.  0.  0.  0.  0.]\n",
        "Distance Between: [ 0.  0.  0.  0.  0.]\n",
        "New car positions:  [ 100.  100.  100.  100.  100.]\n",
        "New Velocities: [ 0.  0.  0.  0.  0.]\n",
        "Distance Between: [ 0.  0.  0.  0.  0.]\n",
        "New car positions:  [ 100.  100.  100.  100.  100.]\n",
        "New Velocities: [ 0.  0.  0.  0.  0.]\n",
        "Distance Between: [ 0.  0.  0.  0.  0.]\n",
        "New car positions:  [ 100.  100.  100.  100.  100.]\n",
        "New Velocities: [ 0.  0.  0.  0.  0.]\n",
        "Distance Between: [ 0.  0.  0.  0.  0.]\n",
        "New car positions:  [ 100.  100.  100.  100.  100.]\n",
        "New Velocities: [ 0.  0.  0.  0.  0.]\n",
        "Distance Between: [ 0.  0.  0.  0.  0.]\n",
        "New car positions:  [ 100.  100.  100.  100.  100.]\n",
        "New Velocities: [ 0.  0.  0.  0.  0.]\n",
        "Distance Between: [ 0.  0.  0.  0.  0.]\n",
        "New car positions:  [ 100.  100.  100.  100.  100.]\n",
        "New Velocities: [ 0.  0.  0.  0.  0.]\n",
        "Distance Between: [ 0.  0.  0.  0.  0.]\n",
        "New car positions:  [ 100.  100.  100.  100.  100.]\n",
        "New Velocities: [ 0.  0.  0.  0.  0.]\n",
        "Distance Between: [ 0.  0.  0.  0.  0.]\n",
        "New car positions:  [ 100.  100.  100.  100.  100.]\n",
        "New Velocities: [ 0.  0.  0.  0.  0.]\n",
        "Distance Between: [ 0.  0.  0.  0.  0.]\n",
        "New car positions:  [ 100.  100.  100.  100.  100.]\n",
        "New Velocities: [ 0.  0.  0.  0.  0.]\n",
        "Distance Between: [ 0.  0.  0.  0.  0.]\n",
        "New car positions:  [ 100.  100.  100.  100.  100.]\n",
        "New Velocities: [ 0.  0.  0.  0.  0.]\n",
        "Distance Between: [ 0.  0.  0.  0.  0.]\n",
        "New car positions:  [ 100.  100.  100.  100.  100.]\n",
        "New Velocities: [ 0.  0.  0.  0.  0.]\n",
        "Distance Between: [ 0.  0.  0.  0.  0.]\n",
        "New car positions:  [ 100.  100.  100.  100.  100.]\n",
        "New Velocities: [ 0.  0.  0.  0.  0.]\n",
        "Distance Between: [ 0.  0.  0.  0.  0.]\n",
        "New car positions:  [ 100.  100.  100.  100.  100.]\n",
        "New Velocities: [ 0.  0.  0.  0.  0.]\n",
        "Distance Between: [ 0.  0.  0.  0.  0.]\n",
        "New car positions:  [ 100.  100.  100.  100.  100.]\n",
        "New Velocities: [ 0.  0.  0.  0.  0.]\n",
        "Distance Between: [ 0.  0.  0.  0.  0.]\n",
        "New car positions:  [ 100.  100.  100.  100.  100.]\n",
        "New Velocities: [ 0.  0.  0.  0.  0.]\n",
        "Distance Between: [ 0.  0.  0.  0.  0.]\n",
        "New car positions:  [ 100.  100.  100.  100.  100.]\n",
        "New Velocities: [ 0.  0.  0.  0.  0.]\n",
        "Distance Between: [ 0.  0.  0.  0.  0.]\n",
        "New car positions:  [ 100.  100.  100.  100.  100.]\n",
        "New Velocities: [ 0.  0.  0.  0.  0.]\n",
        "Distance Between: [ 0.  0.  0.  0.  0.]\n",
        "New car positions:  [ 100.  100.  100.  100.  100.]\n",
        "New Velocities: [ 0.  0.  0.  0.  0.]\n",
        "Distance Between: [ 0.  0.  0.  0.  0.]\n",
        "New car positions:  [ 100.  100.  100.  100.  100.]\n",
        "New Velocities: [ 0.  0.  0.  0.  0.]\n",
        "Distance Between: [ 0.  0.  0.  0.  0.]\n",
        "New car positions:  [ 100.  100.  100.  100.  100.]\n",
        "New Velocities: [ 0.  0.  0.  0.  0.]\n",
        "Distance Between: [ 0.  0.  0.  0.  0.]\n",
        "New car positions:  [ 100.  100.  100.  100.  100.]\n",
        "New Velocities: [ 0.  0.  0.  0.  0.]\n",
        "Distance Between: [ 0.  0.  0.  0.  0.]\n",
        "New car positions:  [ 100.  100.  100.  100.  100.]\n",
        "New Velocities: [ 0.  0.  0.  0.  0.]\n",
        "Distance Between: [ 0.  0.  0.  0.  0.]\n"
       ]
      },
      {
       "output_type": "pyout",
       "prompt_number": 48,
       "text": [
        "(0, 110)"
       ]
      },
      {
       "output_type": "display_data",
       "png": "[encoded data removed]"
      }
     ],
     "prompt_number": 48
    },
    {
     "cell_type": "code",
     "collapsed": false,
     "input": [],
     "language": "python",
     "metadata": {},
     "outputs": []
    }
   ],
   "metadata": {}
  }
 ]
}