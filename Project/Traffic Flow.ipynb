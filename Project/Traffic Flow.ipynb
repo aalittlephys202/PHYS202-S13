{
 "metadata": {
  "name": "Traffic Flow"
 },
 "nbformat": 3,
 "nbformat_minor": 0,
 "worksheets": [
  {
   "cells": [
    {
     "cell_type": "markdown",
     "metadata": {},
     "source": [
      "I chose the One dimensional traffic flow"
     ]
    },
    {
     "cell_type": "code",
     "collapsed": false,
     "input": [
      "import numpy as np\n",
      "import math"
     ],
     "language": "python",
     "metadata": {},
     "outputs": [],
     "prompt_number": 1
    },
    {
     "cell_type": "code",
     "collapsed": false,
     "input": [
      "road = arange(1,40)\n",
      "road"
     ],
     "language": "python",
     "metadata": {},
     "outputs": [
      {
       "output_type": "pyout",
       "prompt_number": 2,
       "text": [
        "array([ 1,  2,  3,  4,  5,  6,  7,  8,  9, 10, 11, 12, 13, 14, 15, 16, 17,\n",
        "       18, 19, 20, 21, 22, 23, 24, 25, 26, 27, 28, 29, 30, 31, 32, 33, 34,\n",
        "       35, 36, 37, 38, 39])"
       ]
      }
     ],
     "prompt_number": 2
    },
    {
     "cell_type": "code",
     "collapsed": false,
     "input": [
      "n = 5 # number of cars\n",
      "x1 = np.random.random(n)*40\n",
      "x = sort(x1.round())#array of positions\n",
      "v1 = np.random.random(n)*10 \n",
      "v = v1.round()#velocity array\n",
      "g = np.zeros(5) #empty spaces in front of car\n",
      "vmax = 15\n",
      "def CA184(l,x,v):\n",
      "    \"\"\"CA184 algothrim\"\"\"\n",
      "    for i in range(n):\n",
      "        if i+1 < n:#if car isnt last car\n",
      "            g[i] = int(x[i+1] - x[i])#calculate distance to the car in front of it\n",
      "        elif x[i] == 1:\n",
      "            x[i] = 0\n",
      "        else:\n",
      "            g[i] = l - x[i]#if last car, calculate distance to end of road\n",
      "    for i in range(n):\n",
      "        if g[i] == 0:#if no space in front of car\n",
      "            v[i] = 0#dont go\n",
      "        elif v[i] > g[i]:#if amount of speed greater than space in front of car\n",
      "            v[i] = g[i] #make them equal aka slows down\n",
      "            x[i] += v[i] # move car forward v[i]\n",
      "        elif v[i] < g[i] and v[i] < vmax: # if speed less than space in front of car\n",
      "            v[i] = v[i] + 1 # speed up by 1\n",
      "            x[i] += v[i] # move car forward by v[i]\n",
      "        elif l - x[i] == 0:\n",
      "            x[i] = 1\n",
      "        else:\n",
      "            pass\n",
      "    return x,v,g"
     ],
     "language": "python",
     "metadata": {},
     "outputs": [],
     "prompt_number": 66
    },
    {
     "cell_type": "code",
     "collapsed": false,
     "input": [
      "print \"Car positions:\", x\n",
      "print \"Car velocities:\",v\n",
      "CA184(40,x,v)"
     ],
     "language": "python",
     "metadata": {},
     "outputs": [
      {
       "output_type": "stream",
       "stream": "stdout",
       "text": [
        "Car positions: [  1.   6.  14.  15.  17.]\n",
        "Car velocities: [  3.   7.  10.   5.   4.]\n"
       ]
      },
      {
       "output_type": "pyout",
       "prompt_number": 67,
       "text": [
        "(array([  5.,  14.,  15.,  17.,  22.]),\n",
        " array([ 4.,  8.,  1.,  2.,  5.]),\n",
        " array([  5.,   8.,   1.,   2.,  23.]))"
       ]
      }
     ],
     "prompt_number": 67
    },
    {
     "cell_type": "markdown",
     "metadata": {},
     "source": [
      "Test code: 2nd time"
     ]
    },
    {
     "cell_type": "code",
     "collapsed": false,
     "input": [
      "print \"Car positions:\", x\n",
      "print \"Car velocities:\",v\n",
      "CA184(40,x,v)"
     ],
     "language": "python",
     "metadata": {},
     "outputs": [
      {
       "output_type": "stream",
       "stream": "stdout",
       "text": [
        "Car positions: [  7.  10.  16.  37.  40.]\n",
        "Car velocities: [ 5.  3.  6.  6.  1.]\n",
        "New car positions:  [ 10.  14.  23.  40.  40.]\n",
        "New Velocities: [ 3.  4.  7.  3.  0.]\n",
        "Distance Between: [  3.   6.  21.   3.   0.]\n"
       ]
      }
     ],
     "prompt_number": 64
    },
    {
     "cell_type": "markdown",
     "metadata": {},
     "source": [
      "Test code: 3rd time"
     ]
    },
    {
     "cell_type": "code",
     "collapsed": false,
     "input": [
      "print \"Car positions:\", x\n",
      "print \"Car velocities:\",v\n",
      "CA184(40,x,v)"
     ],
     "language": "python",
     "metadata": {},
     "outputs": [
      {
       "output_type": "stream",
       "stream": "stdout",
       "text": [
        "Car positions: [ 10.  14.  23.  40.  40.]\n",
        "Car velocities: [ 3.  4.  7.  3.  0.]\n",
        "New car positions:  [ 14.  19.  31.  40.  40.]\n",
        "New Velocities: [ 4.  5.  8.  0.  0.]\n",
        "Distance Between: [  4.   9.  17.   0.   0.]\n"
       ]
      }
     ],
     "prompt_number": 65
    },
    {
     "cell_type": "markdown",
     "metadata": {},
     "source": [
      "Test code: 4th time"
     ]
    },
    {
     "cell_type": "code",
     "collapsed": false,
     "input": [
      "print \"Car positions:\", x\n",
      "print \"Car velocities:\",v\n",
      "CA184(40,x,v)"
     ],
     "language": "python",
     "metadata": {},
     "outputs": [
      {
       "output_type": "stream",
       "stream": "stdout",
       "text": [
        "Car positions: [ 29.  34.  35.  37.  40.]\n",
        "Car velocities: [ 8.  0.  1.  3.  0.]\n",
        "New car positions:  [ 34.  35.  37.  37.  40.]\n",
        "New Velocities: [ 5.  1.  2.  3.  0.]\n",
        "Distance Between: [ 5.  1.  2.  3.  0.]\n"
       ]
      }
     ],
     "prompt_number": 24
    },
    {
     "cell_type": "markdown",
     "metadata": {},
     "source": [
      "Homwork Number 2\n",
      "="
     ]
    },
    {
     "cell_type": "code",
     "collapsed": false,
     "input": [
      "n=10#number of cars\n",
      "x3 = np.random.random(n)*200\n",
      "x2 = sort(x3.round())\n",
      "v3 = np.random.random(n)*65\n",
      "v2 = v3.round()\n",
      "vmax = 65\n",
      "def STCA(x2, v2,l):\n",
      "    l=200#road length\n",
      "    g=np.zeros(10)#number of empty sites in front of each car\n",
      "    for i in range(n):\n",
      "        if g[i] == 0:\n",
      "            v2[i] = 0\n",
      "        elif v2[i] > g[i]:\n",
      "            v2[i] = g[i]\n",
      "            x2[i] += v2[i]\n",
      "        elif v2[i] < g[i] and v2[i] < vmax:\n",
      "            v2[i] += 1\n",
      "            for j in range(n):\n",
      "                if v2[j] < 0:\n",
      "                    p = np.random.random(1)\n",
      "                    v2[j] -= 1*p\n",
      "            x2[i] += v2[i]\n",
      "            if x2[i] > l:\n",
      "                x2[i] = x2[i] - l\n",
      "        #for p in range(n):\n",
      "            #if p < n - 1:\n",
      "                #g[p] = abs(x2[p] - x2[p + 1])\n",
      "            #else:\n",
      "                #g[p] = l - x2[p] - 1\n",
      "    return x2, v2, g"
     ],
     "language": "python",
     "metadata": {},
     "outputs": [],
     "prompt_number": 82
    },
    {
     "cell_type": "code",
     "collapsed": false,
     "input": [
      "print \"Car positions:\", x2\n",
      "print \"Car velocities:\",v2\n",
      "STCA(x2,v2,200)"
     ],
     "language": "python",
     "metadata": {},
     "outputs": [
      {
       "output_type": "stream",
       "stream": "stdout",
       "text": [
        "Car positions: [  12.   31.   65.  124.  128.  135.  141.  158.  174.  190.]\n",
        "Car velocities: [ 27.   6.  63.  53.  29.  45.  26.   4.  31.  52.]\n",
        "New car positions:  [  12.   38.  124.  128.  135.  141.  158.  163.  190.  199.]\n",
        "New Velocities: [  0.   7.  59.   4.   7.   6.  17.   5.  16.   9.]\n",
        "Distance Between: [ 26.  86.   4.   7.   6.  17.   5.  27.   9.   0.]\n"
       ]
      }
     ],
     "prompt_number": 48
    },
    {
     "cell_type": "markdown",
     "metadata": {},
     "source": [
      "Test code: 2nd time"
     ]
    },
    {
     "cell_type": "code",
     "collapsed": false,
     "input": [
      "print \"Car positions:\", x2\n",
      "print \"Car velocities:\",v2\n",
      "STCA(x2,v2,200)"
     ],
     "language": "python",
     "metadata": {},
     "outputs": [
      {
       "output_type": "stream",
       "stream": "stdout",
       "text": [
        "Car positions: [  12.   38.  124.  128.  135.  141.  158.  163.  190.  199.]\n",
        "Car velocities: [  0.   7.  59.   4.   7.   6.  17.   5.  16.   9.]\n",
        "New car positions:  [  12.   46.  128.  133.  141.  148.  163.  169.  199.  199.]\n",
        "New Velocities: [ 0.  8.  4.  5.  6.  7.  5.  6.  9.  0.]\n",
        "Distance Between: [ 34.  82.   5.   8.   7.  15.   6.  30.   0.   0.]\n"
       ]
      }
     ],
     "prompt_number": 49
    },
    {
     "cell_type": "markdown",
     "metadata": {},
     "source": [
      "Test code: 3rd time"
     ]
    },
    {
     "cell_type": "code",
     "collapsed": false,
     "input": [
      "print \"Car positions:\", x2\n",
      "print \"Car velocities:\",v2\n",
      "STCA(x2,v2,200)"
     ],
     "language": "python",
     "metadata": {},
     "outputs": [
      {
       "output_type": "stream",
       "stream": "stdout",
       "text": [
        "Car positions: [  12.   46.  128.  133.  141.  148.  163.  169.  199.  199.]\n",
        "Car velocities: [ 0.  8.  4.  5.  6.  7.  5.  6.  9.  0.]\n",
        "New car positions:  [  12.   55.  133.  139.  148.  156.  169.  176.  199.  199.]\n",
        "New Velocities: [ 0.  9.  5.  6.  7.  8.  6.  7.  0.  0.]\n",
        "Distance Between: [ 43.  78.   6.   9.   8.  13.   7.  23.   0.   0.]\n"
       ]
      }
     ],
     "prompt_number": 50
    },
    {
     "cell_type": "markdown",
     "metadata": {},
     "source": [
      "Test code: 4th time"
     ]
    },
    {
     "cell_type": "code",
     "collapsed": false,
     "input": [
      "print \"Car positions:\", x2\n",
      "print \"Car velocities:\",v2\n",
      "STCA(x2,v2,200)"
     ],
     "language": "python",
     "metadata": {},
     "outputs": [
      {
       "output_type": "stream",
       "stream": "stdout",
       "text": [
        "Car positions: [  12.   55.  133.  139.  148.  156.  169.  176.  199.  199.]\n",
        "Car velocities: [ 0.  9.  5.  6.  7.  8.  6.  7.  0.  0.]\n",
        "New car positions:  [  12.   65.  139.  146.  156.  165.  176.  184.  199.  199.]\n",
        "New Velocities: [  0.  10.   6.   7.   8.   9.   7.   8.   0.   0.]\n",
        "Distance Between: [ 53.  74.   7.  10.   9.  11.   8.  15.   0.   0.]\n"
       ]
      }
     ],
     "prompt_number": 51
    },
    {
     "cell_type": "code",
     "collapsed": false,
     "input": [
      "n = 1#number of cars\n",
      "x5 = np.random.random(1)*200\n",
      "x4 = sort(x3.round())\n",
      "v5 = np.random.random(1)*65\n",
      "v4 = v3.round()\n",
      "vmax = 65\n",
      "def ASEP(x4, v4,l):\n",
      "    l = 200 #road length\n",
      "    i = random.randint(0, len(x4),1)\n",
      "    g = np.zeros(10)#number of empty sites in front of each car\n",
      "    if v4[i] > g[i]:\n",
      "        v4[i] = g[i]\n",
      "    elif v4[i] < g[i] and v4 < vmax:\n",
      "        v4[i] += 1\n",
      "    for j in range(n):\n",
      "        if v4[j] < 0:\n",
      "            p = np.random.random(1)\n",
      "            v4[j] -= 1 * p\n",
      "    x4[i] += v4[i]\n",
      "    if x4[i] > l:\n",
      "        x4[i] = x4[i] - l\n",
      "    for p in range(n):\n",
      "        if p < n - 1:\n",
      "            g[p] = abs(x4[p] - x4[p+1])\n",
      "        else:\n",
      "            g[p] = l - x4[p]\n",
      "    return x4, v4, g"
     ],
     "language": "python",
     "metadata": {},
     "outputs": [],
     "prompt_number": 128
    },
    {
     "cell_type": "code",
     "collapsed": false,
     "input": [
      "print \"Car positions:\", x4\n",
      "print \"Car velocities:\",v4\n",
      "ASEP(x4,v4,200)"
     ],
     "language": "python",
     "metadata": {},
     "outputs": [
      {
       "output_type": "stream",
       "stream": "stdout",
       "text": [
        "Car positions: [   3.   48.   94.   96.  105.  112.  122.  123.  143.  147.]\n",
        "Car velocities: [ 64.  61.  38.  20.  59.  61.  40.  24.  62.  63.]\n"
       ]
      },
      {
       "output_type": "pyout",
       "prompt_number": 127,
       "text": [
        "(array([   3.,   48.,   94.,   96.,  105.,  112.,  122.,  123.,  143.,  147.]),\n",
        " array([ 64.,  61.,  38.,  20.,  59.,  61.,  40.,  24.,  62.,   0.]),\n",
        " array([ 197.,    0.,    0.,    0.,    0.,    0.,    0.,    0.,    0.,    0.]))"
       ]
      }
     ],
     "prompt_number": 127
    },
    {
     "cell_type": "code",
     "collapsed": false,
     "input": [
      "print \"Car positions:\", x4\n",
      "print \"Car velocities:\",v4\n",
      "ASEP(x4,v4,200)"
     ],
     "language": "python",
     "metadata": {},
     "outputs": [
      {
       "output_type": "stream",
       "stream": "stdout",
       "text": [
        "Car positions: [   3.   48.   94.   96.  105.  112.  122.  123.  143.  147.]\n",
        "Car velocities: [ 64.  61.  38.  20.  59.  61.  40.  24.  62.  63.]\n"
       ]
      },
      {
       "output_type": "pyout",
       "prompt_number": 129,
       "text": [
        "(array([   3.,   48.,   94.,   96.,  105.,  112.,  122.,  123.,  143.,  147.]),\n",
        " array([  0.,  61.,  38.,  20.,  59.,  61.,  40.,  24.,  62.,  63.]),\n",
        " array([ 197.,    0.,    0.,    0.,    0.,    0.,    0.,    0.,    0.,    0.]))"
       ]
      }
     ],
     "prompt_number": 129
    },
    {
     "cell_type": "code",
     "collapsed": false,
     "input": [
      "#close to finishing code for ASEP but not there"
     ],
     "language": "python",
     "metadata": {},
     "outputs": [],
     "prompt_number": 54
    },
    {
     "cell_type": "code",
     "collapsed": false,
     "input": [
      "def initial(l,n):\n",
      "    x1 = np.random.random(n)*40\n",
      "    x = sort(x1.round())#array of positions\n",
      "    v1 = np.random.random(n)*10 \n",
      "    v = v1.round()#velocity array\n",
      "    g = np.zeros(5) #empty spaces in front of car\n",
      "    return l,x,v"
     ],
     "language": "python",
     "metadata": {},
     "outputs": [],
     "prompt_number": 40
    },
    {
     "cell_type": "code",
     "collapsed": false,
     "input": [
      "print initial(100,10,15)"
     ],
     "language": "python",
     "metadata": {},
     "outputs": [
      {
       "output_type": "stream",
       "stream": "stdout",
       "text": [
        "(100, array([  2.,   5.,   6.,   9.,  11.,  12.,  17.,  19.,  25.,  28.]), array([  0.,   7.,   2.,   8.,   6.,   7.,  10.,   7.,   1.,   2.]))\n"
       ]
      }
     ],
     "prompt_number": 29
    },
    {
     "cell_type": "code",
     "collapsed": false,
     "input": [
      "#not sure what initial conditions are or what question is asking"
     ],
     "language": "python",
     "metadata": {},
     "outputs": [],
     "prompt_number": 22
    },
    {
     "cell_type": "markdown",
     "metadata": {},
     "source": [
      "Plotting\n",
      "="
     ]
    },
    {
     "cell_type": "code",
     "collapsed": false,
     "input": [
      "t = arange(0,100,1)"
     ],
     "language": "python",
     "metadata": {},
     "outputs": [],
     "prompt_number": 31
    },
    {
     "cell_type": "code",
     "collapsed": false,
     "input": [
      "print x,v"
     ],
     "language": "python",
     "metadata": {},
     "outputs": [
      {
       "output_type": "stream",
       "stream": "stdout",
       "text": [
        "[ 100.  100.  100.  100.  100.] [ 0.  0.  0.  0.  0.]\n"
       ]
      }
     ],
     "prompt_number": 49
    },
    {
     "cell_type": "code",
     "collapsed": false,
     "input": [
      "print CA184(100,x,v)"
     ],
     "language": "python",
     "metadata": {},
     "outputs": [
      {
       "output_type": "stream",
       "stream": "stdout",
       "text": [
        "New car positions:  [ 26.  28.  31.  40.  41.]\n",
        "New Velocities: [ 1.  2.  3.  0.  1.]\n",
        "Distance Between: [  1.   2.  12.   0.  60.]\n",
        "None\n"
       ]
      }
     ],
     "prompt_number": 58
    },
    {
     "cell_type": "code",
     "collapsed": false,
     "input": [
      "print CA184(100,x,v)"
     ],
     "language": "python",
     "metadata": {},
     "outputs": [
      {
       "output_type": "stream",
       "stream": "stdout",
       "text": [
        "New car positions:  [ 28.  31.  35.  41.  43.]\n",
        "New Velocities: [ 2.  3.  4.  1.  2.]\n",
        "Distance Between: [  2.   3.   9.   1.  59.]\n",
        "None\n"
       ]
      }
     ],
     "prompt_number": 59
    },
    {
     "cell_type": "code",
     "collapsed": false,
     "input": [
      "print CA184(100,x,v)"
     ],
     "language": "python",
     "metadata": {},
     "outputs": [
      {
       "output_type": "stream",
       "stream": "stdout",
       "text": [
        "New car positions:  [ 31.  35.  40.  43.  46.]\n",
        "New Velocities: [ 3.  4.  5.  2.  3.]\n",
        "Distance Between: [  3.   4.   6.   2.  57.]\n",
        "None\n"
       ]
      }
     ],
     "prompt_number": 60
    },
    {
     "cell_type": "code",
     "collapsed": false,
     "input": [],
     "language": "python",
     "metadata": {},
     "outputs": [],
     "prompt_number": 69
    },
    {
     "cell_type": "code",
     "collapsed": false,
     "input": [
      "def plot_CA184(n):\n",
      "    \"\"\"plots CA184 as a funciton of time steps, n = time steps\"\"\"\n",
      "    for i in range(n):\n",
      "        CA184(1000,x,v)\n",
      "    "
     ],
     "language": "python",
     "metadata": {},
     "outputs": [],
     "prompt_number": 70
    },
    {
     "cell_type": "code",
     "collapsed": false,
     "input": [
      "n = 150\n",
      "plot(range(n), plot_CA184(n))"
     ],
     "language": "python",
     "metadata": {},
     "outputs": [
      {
       "ename": "IndexError",
       "evalue": "index out of bounds",
       "output_type": "pyerr",
       "traceback": [
        "\u001b[1;31m---------------------------------------------------------------------------\u001b[0m\n\u001b[1;31mIndexError\u001b[0m                                Traceback (most recent call last)",
        "\u001b[1;32m<ipython-input-71-0a1d738a11bf>\u001b[0m in \u001b[0;36m<module>\u001b[1;34m()\u001b[0m\n\u001b[0;32m      1\u001b[0m \u001b[0mn\u001b[0m \u001b[1;33m=\u001b[0m \u001b[1;36m150\u001b[0m\u001b[1;33m\u001b[0m\u001b[0m\n\u001b[1;32m----> 2\u001b[1;33m \u001b[0mplot\u001b[0m\u001b[1;33m(\u001b[0m\u001b[0mrange\u001b[0m\u001b[1;33m(\u001b[0m\u001b[0mn\u001b[0m\u001b[1;33m)\u001b[0m\u001b[1;33m,\u001b[0m \u001b[0mplot_CA184\u001b[0m\u001b[1;33m(\u001b[0m\u001b[0mn\u001b[0m\u001b[1;33m)\u001b[0m\u001b[1;33m)\u001b[0m\u001b[1;33m\u001b[0m\u001b[0m\n\u001b[0m",
        "\u001b[1;32m<ipython-input-70-87f127253d21>\u001b[0m in \u001b[0;36mplot_CA184\u001b[1;34m(n)\u001b[0m\n\u001b[0;32m      2\u001b[0m     \u001b[1;34m\"\"\"plots CA184 as a funciton of time steps, n = time steps\"\"\"\u001b[0m\u001b[1;33m\u001b[0m\u001b[0m\n\u001b[0;32m      3\u001b[0m     \u001b[1;32mfor\u001b[0m \u001b[0mi\u001b[0m \u001b[1;32min\u001b[0m \u001b[0mrange\u001b[0m\u001b[1;33m(\u001b[0m\u001b[0mn\u001b[0m\u001b[1;33m)\u001b[0m\u001b[1;33m:\u001b[0m\u001b[1;33m\u001b[0m\u001b[0m\n\u001b[1;32m----> 4\u001b[1;33m         \u001b[0mCA184\u001b[0m\u001b[1;33m(\u001b[0m\u001b[1;36m1000\u001b[0m\u001b[1;33m,\u001b[0m\u001b[0mx\u001b[0m\u001b[1;33m,\u001b[0m\u001b[0mv\u001b[0m\u001b[1;33m)\u001b[0m\u001b[1;33m\u001b[0m\u001b[0m\n\u001b[0m\u001b[0;32m      5\u001b[0m \u001b[1;33m\u001b[0m\u001b[0m\n",
        "\u001b[1;32m<ipython-input-66-fa21c96851b1>\u001b[0m in \u001b[0;36mCA184\u001b[1;34m(l, x, v)\u001b[0m\n\u001b[0;32m     10\u001b[0m     \u001b[1;32mfor\u001b[0m \u001b[0mi\u001b[0m \u001b[1;32min\u001b[0m \u001b[0mrange\u001b[0m\u001b[1;33m(\u001b[0m\u001b[0mn\u001b[0m\u001b[1;33m)\u001b[0m\u001b[1;33m:\u001b[0m\u001b[1;33m\u001b[0m\u001b[0m\n\u001b[0;32m     11\u001b[0m         \u001b[1;32mif\u001b[0m \u001b[0mi\u001b[0m\u001b[1;33m+\u001b[0m\u001b[1;36m1\u001b[0m \u001b[1;33m<\u001b[0m \u001b[0mn\u001b[0m\u001b[1;33m:\u001b[0m\u001b[1;31m#if car isnt last car\u001b[0m\u001b[1;33m\u001b[0m\u001b[0m\n\u001b[1;32m---> 12\u001b[1;33m             \u001b[0mg\u001b[0m\u001b[1;33m[\u001b[0m\u001b[0mi\u001b[0m\u001b[1;33m]\u001b[0m \u001b[1;33m=\u001b[0m \u001b[0mint\u001b[0m\u001b[1;33m(\u001b[0m\u001b[0mx\u001b[0m\u001b[1;33m[\u001b[0m\u001b[0mi\u001b[0m\u001b[1;33m+\u001b[0m\u001b[1;36m1\u001b[0m\u001b[1;33m]\u001b[0m \u001b[1;33m-\u001b[0m \u001b[0mx\u001b[0m\u001b[1;33m[\u001b[0m\u001b[0mi\u001b[0m\u001b[1;33m]\u001b[0m\u001b[1;33m)\u001b[0m\u001b[1;31m#calculate distance to the car in front of it\u001b[0m\u001b[1;33m\u001b[0m\u001b[0m\n\u001b[0m\u001b[0;32m     13\u001b[0m         \u001b[1;32melif\u001b[0m \u001b[0mx\u001b[0m\u001b[1;33m[\u001b[0m\u001b[0mi\u001b[0m\u001b[1;33m]\u001b[0m \u001b[1;33m==\u001b[0m \u001b[1;36m1\u001b[0m\u001b[1;33m:\u001b[0m\u001b[1;33m\u001b[0m\u001b[0m\n\u001b[0;32m     14\u001b[0m             \u001b[0mx\u001b[0m\u001b[1;33m[\u001b[0m\u001b[0mi\u001b[0m\u001b[1;33m]\u001b[0m \u001b[1;33m=\u001b[0m \u001b[1;36m0\u001b[0m\u001b[1;33m\u001b[0m\u001b[0m\n",
        "\u001b[1;31mIndexError\u001b[0m: index out of bounds"
       ]
      }
     ],
     "prompt_number": 71
    },
    {
     "cell_type": "code",
     "collapsed": false,
     "input": [
      "N = 150\n",
      "posi = posi1 = posi2 = zeros(N)\n",
      "veli = veli1 = veli2 = zeros(N)\n",
      "g= g1 = g2 = zeros(N)\n",
      "dens = dens1= dens2 = zeros(N)\n",
      "avgvel = avgvel1 = avgvel2 = zeros(N)\n",
      "curr = curr1 = curr2 = zeros(N)\n",
      "for i in range(N):\n",
      "    road = 40\n",
      "    Ncars = 10\n",
      "    conds = initial(road,Ncars)\n",
      "    pos = pos1 = pos2= conds[0]\n",
      "    #posi[i], veli[i], g[i] = ASEP(pos,  vel, road)\n",
      "    posi2[i], veli2[i], g2[i] = STCA(pos2, veli2, road)\n",
      "    #posi1[i], veli1[i], g1[i] = CA184(road, pos1, veli1)\n",
      "    #dens[i] = (posi[i])/road\n",
      "    #dens1[i] = (posi1[i])/road\n",
      "    dens2[i] = (posi2[i])/road\n",
      "    #avgvel[i] = average(veli[i])\n",
      "    #avgvel1[i] = average(veli1[i])\n",
      "    avgvel2[i] = average(veli2[i])\n",
      "    #curr[i] = dens[i]*avgvel[i]\n",
      "    #curr1[i] = dens1[i]*avgvel1[i]\n",
      "    curr2[i] = dens2[i]*avgvel2[i]"
     ],
     "language": "python",
     "metadata": {},
     "outputs": [
      {
       "ename": "ValueError",
       "evalue": "setting an array element with a sequence.",
       "output_type": "pyerr",
       "traceback": [
        "\u001b[1;31m---------------------------------------------------------------------------\u001b[0m\n\u001b[1;31mValueError\u001b[0m                                Traceback (most recent call last)",
        "\u001b[1;32m<ipython-input-83-4804a6d768a7>\u001b[0m in \u001b[0;36m<module>\u001b[1;34m()\u001b[0m\n\u001b[0;32m     12\u001b[0m     \u001b[0mpos\u001b[0m \u001b[1;33m=\u001b[0m \u001b[0mpos1\u001b[0m \u001b[1;33m=\u001b[0m \u001b[0mpos2\u001b[0m\u001b[1;33m=\u001b[0m \u001b[0mconds\u001b[0m\u001b[1;33m[\u001b[0m\u001b[1;36m0\u001b[0m\u001b[1;33m]\u001b[0m\u001b[1;33m\u001b[0m\u001b[0m\n\u001b[0;32m     13\u001b[0m     \u001b[1;31m#posi[i], veli[i], g[i] = ASEP(pos,  vel, road)\u001b[0m\u001b[1;33m\u001b[0m\u001b[1;33m\u001b[0m\u001b[0m\n\u001b[1;32m---> 14\u001b[1;33m     \u001b[0mposi2\u001b[0m\u001b[1;33m[\u001b[0m\u001b[0mi\u001b[0m\u001b[1;33m]\u001b[0m\u001b[1;33m,\u001b[0m \u001b[0mveli2\u001b[0m\u001b[1;33m[\u001b[0m\u001b[0mi\u001b[0m\u001b[1;33m]\u001b[0m\u001b[1;33m,\u001b[0m \u001b[0mg2\u001b[0m\u001b[1;33m[\u001b[0m\u001b[0mi\u001b[0m\u001b[1;33m]\u001b[0m \u001b[1;33m=\u001b[0m \u001b[0mSTCA\u001b[0m\u001b[1;33m(\u001b[0m\u001b[0mpos2\u001b[0m\u001b[1;33m,\u001b[0m \u001b[0mveli2\u001b[0m\u001b[1;33m,\u001b[0m \u001b[0mroad\u001b[0m\u001b[1;33m)\u001b[0m\u001b[1;33m\u001b[0m\u001b[0m\n\u001b[0m\u001b[0;32m     15\u001b[0m     \u001b[1;31m#posi1[i], veli1[i], g1[i] = CA184(road, pos1, veli1)\u001b[0m\u001b[1;33m\u001b[0m\u001b[1;33m\u001b[0m\u001b[0m\n\u001b[0;32m     16\u001b[0m     \u001b[1;31m#dens[i] = (posi[i])/road\u001b[0m\u001b[1;33m\u001b[0m\u001b[1;33m\u001b[0m\u001b[0m\n",
        "\u001b[1;31mValueError\u001b[0m: setting an array element with a sequence."
       ]
      }
     ],
     "prompt_number": 83
    },
    {
     "cell_type": "code",
     "collapsed": false,
     "input": [
      "print STCA(pos2, veli2,road)[1]"
     ],
     "language": "python",
     "metadata": {},
     "outputs": [
      {
       "output_type": "stream",
       "stream": "stdout",
       "text": [
        "[ 0.  0.  0.  0.  0.  0.  0.  0.  0.  0.  0.  0.  0.  0.  0.  0.  0.  0.\n",
        "  0.  0.  0.  0.  0.  0.  0.  0.  0.  0.  0.  0.  0.  0.  0.  0.  0.  0.\n",
        "  0.  0.  0.  0.  0.  0.  0.  0.  0.  0.  0.  0.  0.  0.  0.  0.  0.  0.\n",
        "  0.  0.  0.  0.  0.  0.  0.  0.  0.  0.  0.  0.  0.  0.  0.  0.  0.  0.\n",
        "  0.  0.  0.  0.  0.  0.  0.  0.  0.  0.  0.  0.  0.  0.  0.  0.  0.  0.\n",
        "  0.  0.  0.  0.  0.  0.  0.  0.  0.  0.  0.  0.  0.  0.  0.  0.  0.  0.\n",
        "  0.  0.  0.  0.  0.  0.  0.  0.  0.  0.  0.  0.  0.  0.  0.  0.  0.  0.\n",
        "  0.  0.  0.  0.  0.  0.  0.  0.  0.  0.  0.  0.  0.  0.  0.  0.  0.  0.\n",
        "  0.  0.  0.  0.  0.  0.]\n"
       ]
      }
     ],
     "prompt_number": 85
    },
    {
     "cell_type": "code",
     "collapsed": false,
     "input": [],
     "language": "python",
     "metadata": {},
     "outputs": []
    },
    {
     "cell_type": "code",
     "collapsed": false,
     "input": [
      "import sys\n",
      "sys.path.insert(0,\"Alex/Documents/Github/PHYS202-S13/JSAnimation\")\n",
      "from JSAnimation import IPython_display"
     ],
     "language": "python",
     "metadata": {},
     "outputs": [
      {
       "ename": "ImportError",
       "evalue": "No module named JSAnimation",
       "output_type": "pyerr",
       "traceback": [
        "\u001b[1;31m---------------------------------------------------------------------------\u001b[0m\n\u001b[1;31mImportError\u001b[0m                               Traceback (most recent call last)",
        "\u001b[1;32m<ipython-input-60-12cc68fe1914>\u001b[0m in \u001b[0;36m<module>\u001b[1;34m()\u001b[0m\n\u001b[0;32m      1\u001b[0m \u001b[1;32mimport\u001b[0m \u001b[0msys\u001b[0m\u001b[1;33m\u001b[0m\u001b[0m\n\u001b[0;32m      2\u001b[0m \u001b[0msys\u001b[0m\u001b[1;33m.\u001b[0m\u001b[0mpath\u001b[0m\u001b[1;33m.\u001b[0m\u001b[0minsert\u001b[0m\u001b[1;33m(\u001b[0m\u001b[1;36m0\u001b[0m\u001b[1;33m,\u001b[0m\u001b[1;34m\"Alex/Documents/Github/PHYS202-S13/JSAnimation\"\u001b[0m\u001b[1;33m)\u001b[0m\u001b[1;33m\u001b[0m\u001b[0m\n\u001b[1;32m----> 3\u001b[1;33m \u001b[1;32mfrom\u001b[0m \u001b[0mJSAnimation\u001b[0m \u001b[1;32mimport\u001b[0m \u001b[0mIPython_display\u001b[0m\u001b[1;33m\u001b[0m\u001b[0m\n\u001b[0m",
        "\u001b[1;31mImportError\u001b[0m: No module named JSAnimation"
       ]
      }
     ],
     "prompt_number": 60
    },
    {
     "cell_type": "code",
     "collapsed": false,
     "input": [],
     "language": "python",
     "metadata": {},
     "outputs": []
    }
   ],
   "metadata": {}
  }
 ]
}