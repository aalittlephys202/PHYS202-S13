{
 "metadata": {
  "name": "Traffic Flow"
 },
 "nbformat": 3,
 "nbformat_minor": 0,
 "worksheets": [
  {
   "cells": [
    {
     "cell_type": "markdown",
     "metadata": {},
     "source": [
      "I chose the One dimensional traffic flow"
     ]
    },
    {
     "cell_type": "code",
     "collapsed": false,
     "input": [
      "import numpy as np\n",
      "import math"
     ],
     "language": "python",
     "metadata": {},
     "outputs": [],
     "prompt_number": 150
    },
    {
     "cell_type": "code",
     "collapsed": false,
     "input": [
      "n = 10\n",
      "pos1 = np.random.random(n)*40\n",
      "vel1 = np.random.random(n)*10\n",
      "def initial(l,n):\n",
      "    pos = sort(pos1.round())#array of positions\n",
      "    vel = vel1.round()#velocity array\n",
      "    g = np.zeros(n) #empty spaces in front of car\n",
      "    return l,x,v,n"
     ],
     "language": "python",
     "metadata": {},
     "outputs": [],
     "prompt_number": 231
    },
    {
     "cell_type": "code",
     "collapsed": false,
     "input": [
      "print initial(200,10)[0]\n",
      "print initial(200,10)[1]\n",
      "print initial(200,10)[2]\n",
      "print initial(200,10)[3]"
     ],
     "language": "python",
     "metadata": {},
     "outputs": [
      {
       "output_type": "stream",
       "stream": "stdout",
       "text": [
        "200\n",
        "[ 12.  16.  23.  27.  30.  31.  35.  37.  38.  38.]\n",
        "[ 8.  8.  0.  6.  3.  3.  2.  3.  9.  5.]\n",
        "10\n"
       ]
      }
     ],
     "prompt_number": 232
    },
    {
     "cell_type": "code",
     "collapsed": false,
     "input": [
      "def CA184(l,pos,vel,n):\n",
      "    \"\"\"CA184 algothrim\"\"\"\n",
      "    g = np.zeros(n)\n",
      "    vmax = 15\n",
      "    for i in range(n):\n",
      "        if i+1 < n:#if car isnt last car\n",
      "            g[i] = int(pos[i+1] - pos[i])#calculate distance to the car in front of it\n",
      "        elif pos[i] == 1:\n",
      "            pos[i] = 0\n",
      "        else:\n",
      "            g[i] = l - pos[i]#if last car, calculate distance to end of road\n",
      "    for i in range(n):\n",
      "        if g[i] == 0:#if no space in front of car\n",
      "            vel[i] = 0#dont go\n",
      "        elif vel[i] > g[i]:#if amount of speed greater than space in front of car\n",
      "            vel[i] = g[i] #make them equal aka slows down\n",
      "            pos[i] += vel[i] # move car forward v[i]\n",
      "        elif vel[i] < g[i] and vel[i] < vmax: # if speed less than space in front of car\n",
      "            vel[i] = vel[i] + 1 # speed up by 1\n",
      "            pos[i] += vel[i] # move car forward by v[i]\n",
      "        elif l - pos[i] == 0:\n",
      "            pos[i] = 1\n",
      "        else:\n",
      "            pass\n",
      "    return l,pos,vel,n"
     ],
     "language": "python",
     "metadata": {},
     "outputs": [],
     "prompt_number": 300
    },
    {
     "cell_type": "code",
     "collapsed": false,
     "input": [
      "print \"Car positions:\", initial(200,10)[1]\n",
      "print \"Car velocities:\",initial(200,10)[2]\n",
      "print CA184(initial(200,10)[0],initial(200,10)[1],initial(200,10)[2],initial(200,10)[3])\n",
      "test = CA184(initial(200,10)[0],initial(200,10)[1],initial(200,10)[2],initial(200,10)[3])"
     ],
     "language": "python",
     "metadata": {},
     "outputs": [
      {
       "output_type": "stream",
       "stream": "stdout",
       "text": [
        "Car positions: [ 12.  16.  23.  27.  30.  31.  35.  37.  38.  38.]\n",
        "Car velocities: [ 8.  8.  0.  6.  3.  3.  2.  3.  9.  5.]\n",
        "(200, array([ 16.,  23.,  24.,  30.,  31.,  35.,  35.,  38.,  38.,  44.]), array([ 4.,  7.,  1.,  3.,  1.,  4.,  2.,  1.,  0.,  6.]), 10)\n"
       ]
      }
     ],
     "prompt_number": 234
    },
    {
     "cell_type": "markdown",
     "metadata": {},
     "source": [
      "Test code: 2nd time"
     ]
    },
    {
     "cell_type": "code",
     "collapsed": false,
     "input": [
      "test_2 = CA184(initial(200,10)[0],test[0],test[1],initial(200,10)[3])\n",
      "print test_2"
     ],
     "language": "python",
     "metadata": {},
     "outputs": [
      {
       "ename": "TypeError",
       "evalue": "'int' object has no attribute '__getitem__'",
       "output_type": "pyerr",
       "traceback": [
        "\u001b[1;31m---------------------------------------------------------------------------\u001b[0m\n\u001b[1;31mTypeError\u001b[0m                                 Traceback (most recent call last)",
        "\u001b[1;32m<ipython-input-235-bcdd7eac45d7>\u001b[0m in \u001b[0;36m<module>\u001b[1;34m()\u001b[0m\n\u001b[1;32m----> 1\u001b[1;33m \u001b[0mtest_2\u001b[0m \u001b[1;33m=\u001b[0m \u001b[0mCA184\u001b[0m\u001b[1;33m(\u001b[0m\u001b[0minitial\u001b[0m\u001b[1;33m(\u001b[0m\u001b[1;36m200\u001b[0m\u001b[1;33m,\u001b[0m\u001b[1;36m10\u001b[0m\u001b[1;33m)\u001b[0m\u001b[1;33m[\u001b[0m\u001b[1;36m0\u001b[0m\u001b[1;33m]\u001b[0m\u001b[1;33m,\u001b[0m\u001b[0mtest\u001b[0m\u001b[1;33m[\u001b[0m\u001b[1;36m0\u001b[0m\u001b[1;33m]\u001b[0m\u001b[1;33m,\u001b[0m\u001b[0mtest\u001b[0m\u001b[1;33m[\u001b[0m\u001b[1;36m1\u001b[0m\u001b[1;33m]\u001b[0m\u001b[1;33m,\u001b[0m\u001b[0minitial\u001b[0m\u001b[1;33m(\u001b[0m\u001b[1;36m200\u001b[0m\u001b[1;33m,\u001b[0m\u001b[1;36m10\u001b[0m\u001b[1;33m)\u001b[0m\u001b[1;33m[\u001b[0m\u001b[1;36m3\u001b[0m\u001b[1;33m]\u001b[0m\u001b[1;33m)\u001b[0m\u001b[1;33m\u001b[0m\u001b[0m\n\u001b[0m\u001b[0;32m      2\u001b[0m \u001b[1;32mprint\u001b[0m \u001b[0mtest_2\u001b[0m\u001b[1;33m\u001b[0m\u001b[0m\n",
        "\u001b[1;32m<ipython-input-233-e0f9903c5318>\u001b[0m in \u001b[0;36mCA184\u001b[1;34m(l, x, v, n)\u001b[0m\n\u001b[0;32m      4\u001b[0m     \u001b[1;32mfor\u001b[0m \u001b[0mi\u001b[0m \u001b[1;32min\u001b[0m \u001b[0mrange\u001b[0m\u001b[1;33m(\u001b[0m\u001b[0mn\u001b[0m\u001b[1;33m)\u001b[0m\u001b[1;33m:\u001b[0m\u001b[1;33m\u001b[0m\u001b[0m\n\u001b[0;32m      5\u001b[0m         \u001b[1;32mif\u001b[0m \u001b[0mi\u001b[0m\u001b[1;33m+\u001b[0m\u001b[1;36m1\u001b[0m \u001b[1;33m<\u001b[0m \u001b[0mn\u001b[0m\u001b[1;33m:\u001b[0m\u001b[1;31m#if car isnt last car\u001b[0m\u001b[1;33m\u001b[0m\u001b[0m\n\u001b[1;32m----> 6\u001b[1;33m             \u001b[0mg\u001b[0m\u001b[1;33m[\u001b[0m\u001b[0mi\u001b[0m\u001b[1;33m]\u001b[0m \u001b[1;33m=\u001b[0m \u001b[0mint\u001b[0m\u001b[1;33m(\u001b[0m\u001b[0mx\u001b[0m\u001b[1;33m[\u001b[0m\u001b[0mi\u001b[0m\u001b[1;33m+\u001b[0m\u001b[1;36m1\u001b[0m\u001b[1;33m]\u001b[0m \u001b[1;33m-\u001b[0m \u001b[0mx\u001b[0m\u001b[1;33m[\u001b[0m\u001b[0mi\u001b[0m\u001b[1;33m]\u001b[0m\u001b[1;33m)\u001b[0m\u001b[1;31m#calculate distance to the car in front of it\u001b[0m\u001b[1;33m\u001b[0m\u001b[0m\n\u001b[0m\u001b[0;32m      7\u001b[0m         \u001b[1;32melif\u001b[0m \u001b[0mx\u001b[0m\u001b[1;33m[\u001b[0m\u001b[0mi\u001b[0m\u001b[1;33m]\u001b[0m \u001b[1;33m==\u001b[0m \u001b[1;36m1\u001b[0m\u001b[1;33m:\u001b[0m\u001b[1;33m\u001b[0m\u001b[0m\n\u001b[0;32m      8\u001b[0m             \u001b[0mx\u001b[0m\u001b[1;33m[\u001b[0m\u001b[0mi\u001b[0m\u001b[1;33m]\u001b[0m \u001b[1;33m=\u001b[0m \u001b[1;36m0\u001b[0m\u001b[1;33m\u001b[0m\u001b[0m\n",
        "\u001b[1;31mTypeError\u001b[0m: 'int' object has no attribute '__getitem__'"
       ]
      }
     ],
     "prompt_number": 235
    },
    {
     "cell_type": "markdown",
     "metadata": {},
     "source": [
      "Test code: 3rd time"
     ]
    },
    {
     "cell_type": "code",
     "collapsed": false,
     "input": [
      "test_3 = CA184(initial(200,10)[0],test_2[0],test_2[1],initial(200,10)[3])\n",
      "print test_3"
     ],
     "language": "python",
     "metadata": {},
     "outputs": [
      {
       "output_type": "stream",
       "stream": "stdout",
       "text": [
        "(array([  4.,   6.,   9.,  12.,  23.,  24.,  26.,  29.,  48.,  61.]), array([  1.,   2.,   2.,   3.,   4.,   1.,   2.,   3.,   9.,  11.]), array([   1.,    3.,    2.,   10.,    4.,    1.,    2.,   13.,   11.,  150.]))\n"
       ]
      }
     ],
     "prompt_number": 206
    },
    {
     "cell_type": "markdown",
     "metadata": {},
     "source": [
      "Test code: 4th time"
     ]
    },
    {
     "cell_type": "code",
     "collapsed": false,
     "input": [
      "test_4 = CA184(initial(200,10)[0],test_3[0],test_3[1],initial(200,10)[3])\n",
      "print test_4"
     ],
     "language": "python",
     "metadata": {},
     "outputs": [
      {
       "output_type": "stream",
       "stream": "stdout",
       "text": [
        "(array([  6.,   9.,  12.,  16.,  24.,  26.,  29.,  33.,  58.,  73.]), array([  2.,   3.,   3.,   4.,   1.,   2.,   3.,   4.,  10.,  12.]), array([   2.,    3.,    3.,   11.,    1.,    2.,    3.,   19.,   13.,  139.]))\n"
       ]
      }
     ],
     "prompt_number": 207
    },
    {
     "cell_type": "markdown",
     "metadata": {},
     "source": [
      "Homwork Number 2\n",
      "="
     ]
    },
    {
     "cell_type": "code",
     "collapsed": false,
     "input": [
      "n=10#number of cars\n",
      "pos3 = np.random.random(n)*40\n",
      "pos2 = sort(pos3.round())\n",
      "vel3 = np.random.random(n)*10\n",
      "vel2 = vel3.round()\n",
      "def STCA(l, pos2,vel2,n):\n",
      "    vmax = 15\n",
      "    g=np.zeros(10)#number of empty sites in front of each car\n",
      "    for i in range(n):\n",
      "        if g[i] == 0:\n",
      "            vel2[i] = 0\n",
      "        elif vel2[i] > g[i]:\n",
      "            vel2[i] = g[i]\n",
      "        elif vel2[i] < g[i] and vel2[i] == vmax:\n",
      "            vel2[i] += 1\n",
      "        for j in range(n):\n",
      "            if vel2[j] < 0:\n",
      "                p = np.random.random(1)\n",
      "                vel2[j] = (vel2[j]-1)*p\n",
      "        pos2[i] += vel2[i]\n",
      "        if pos2[i] > l:\n",
      "            pos2[i] = pos2[i] - l\n",
      "    for k in range(n):\n",
      "        if k < n - 1:\n",
      "            g[k] = abs(pos2[k] - pos2[k + 1])\n",
      "        else:\n",
      "            g[k] = l - pos2[k]\n",
      "    return l,pos2,vel2,n"
     ],
     "language": "python",
     "metadata": {},
     "outputs": [],
     "prompt_number": 301
    },
    {
     "cell_type": "code",
     "collapsed": false,
     "input": [
      "print \"Car positions:\", pos2\n",
      "print \"Car velocities:\",vel2\n",
      "STCA(200,pos2,vel2,10)"
     ],
     "language": "python",
     "metadata": {},
     "outputs": [
      {
       "output_type": "stream",
       "stream": "stdout",
       "text": [
        "Car positions: [  6.   7.   9.  11.  17.  30.  33.  36.  39.  40.]\n",
        "Car velocities: [  9.   8.   8.  10.   9.   6.   2.   0.   7.   8.]\n"
       ]
      },
      {
       "output_type": "pyout",
       "prompt_number": 302,
       "text": [
        "(200,\n",
        " array([  6.,   7.,   9.,  11.,  17.,  30.,  33.,  36.,  39.,  40.]),\n",
        " array([ 0.,  0.,  0.,  0.,  0.,  0.,  0.,  0.,  0.,  0.]),\n",
        " 10)"
       ]
      }
     ],
     "prompt_number": 302
    },
    {
     "cell_type": "markdown",
     "metadata": {},
     "source": [
      "Test code: 2nd time"
     ]
    },
    {
     "cell_type": "code",
     "collapsed": false,
     "input": [
      "print \"Car positions:\", pos2\n",
      "print \"Car velocities:\",vel2\n",
      "STCA(200,pos2,vel2,10)"
     ],
     "language": "python",
     "metadata": {},
     "outputs": [
      {
       "output_type": "stream",
       "stream": "stdout",
       "text": [
        "Car positions: [  6.   7.   9.  11.  17.  30.  33.  36.  39.  40.]\n",
        "Car velocities: [ 0.  0.  0.  0.  0.  0.  0.  0.  0.  0.]\n"
       ]
      },
      {
       "output_type": "pyout",
       "prompt_number": 303,
       "text": [
        "(200,\n",
        " array([  6.,   7.,   9.,  11.,  17.,  30.,  33.,  36.,  39.,  40.]),\n",
        " array([ 0.,  0.,  0.,  0.,  0.,  0.,  0.,  0.,  0.,  0.]),\n",
        " 10)"
       ]
      }
     ],
     "prompt_number": 303
    },
    {
     "cell_type": "markdown",
     "metadata": {},
     "source": [
      "Test code: 3rd time"
     ]
    },
    {
     "cell_type": "code",
     "collapsed": false,
     "input": [
      "print \"Car positions:\", pos2\n",
      "print \"Car velocities:\",vel2\n",
      "STCA(200,pos2,vel2,10)"
     ],
     "language": "python",
     "metadata": {},
     "outputs": [
      {
       "output_type": "stream",
       "stream": "stdout",
       "text": [
        "Car positions: [  6.   7.   9.  11.  17.  30.  33.  36.  39.  40.]\n",
        "Car velocities: [ 0.  0.  0.  0.  0.  0.  0.  0.  0.  0.]\n"
       ]
      },
      {
       "output_type": "pyout",
       "prompt_number": 304,
       "text": [
        "(200,\n",
        " array([  6.,   7.,   9.,  11.,  17.,  30.,  33.,  36.,  39.,  40.]),\n",
        " array([ 0.,  0.,  0.,  0.,  0.,  0.,  0.,  0.,  0.,  0.]),\n",
        " 10)"
       ]
      }
     ],
     "prompt_number": 304
    },
    {
     "cell_type": "markdown",
     "metadata": {},
     "source": [
      "Test code: 4th time"
     ]
    },
    {
     "cell_type": "code",
     "collapsed": false,
     "input": [
      "print \"Car positions:\", pos2\n",
      "print \"Car velocities:\",vel2\n",
      "STCA(200,pos2,vel2,10)"
     ],
     "language": "python",
     "metadata": {},
     "outputs": [
      {
       "output_type": "stream",
       "stream": "stdout",
       "text": [
        "Car positions: [  6.   7.   9.  11.  17.  30.  33.  36.  39.  40.]\n",
        "Car velocities: [ 0.  0.  0.  0.  0.  0.  0.  0.  0.  0.]\n"
       ]
      },
      {
       "output_type": "pyout",
       "prompt_number": 305,
       "text": [
        "(200,\n",
        " array([  6.,   7.,   9.,  11.,  17.,  30.,  33.,  36.,  39.,  40.]),\n",
        " array([ 0.,  0.,  0.,  0.,  0.,  0.,  0.,  0.,  0.,  0.]),\n",
        " 10)"
       ]
      }
     ],
     "prompt_number": 305
    },
    {
     "cell_type": "code",
     "collapsed": false,
     "input": [
      "n = 1#number of cars\n",
      "pos5 = np.random.random(1)*50\n",
      "pos4 = sort(pos5.round())\n",
      "vel5 = np.random.random(1)*10\n",
      "vel4 = vel5.round()\n",
      "def ASEP(l,pos4,vel4,n):\n",
      "    vmax = 15\n",
      "    i = random.randint(0,len(pos4),1)\n",
      "    g = np.zeros(10)#number of empty sites in front of each car\n",
      "    if vel4[i] > g[i]:\n",
      "        vel4[i] = g[i]\n",
      "    elif vel4[i] < g[i] and vel4[i] == vmax:\n",
      "        vel4[i] += 1\n",
      "    for j in range(n):\n",
      "        if vel4[j] < 0:\n",
      "            p = np.random.random(1)\n",
      "            vel4[j] -= 1 * p\n",
      "    pos4[i] += vel4[i]\n",
      "    if pos4[i] > l:\n",
      "        pos4[i] = pos4[i] - l\n",
      "    for p in range(n):\n",
      "        if p < n - 1:\n",
      "            g[p] = pos4[p] - pos4[p+1]-1\n",
      "        else:\n",
      "            g[p] = l - pos4[p]-1\n",
      "    \n",
      "    return l,pos4,vel4,n"
     ],
     "language": "python",
     "metadata": {},
     "outputs": [
      {
       "output_type": "stream",
       "stream": "stdout",
       "text": [
        "\n"
       ]
      }
     ],
     "prompt_number": 307
    },
    {
     "cell_type": "code",
     "collapsed": false,
     "input": [
      "print \"Car positions:\", pos4\n",
      "print \"Car velocities:\",vel4\n",
      "ASEP(200,pos4,vel4,10)"
     ],
     "language": "python",
     "metadata": {},
     "outputs": [
      {
       "ename": "IndexError",
       "evalue": "index out of bounds",
       "output_type": "pyerr",
       "traceback": [
        "\u001b[1;31m---------------------------------------------------------------------------\u001b[0m\n\u001b[1;31mIndexError\u001b[0m                                Traceback (most recent call last)",
        "\u001b[1;32m<ipython-input-308-1a1c7bb78a0b>\u001b[0m in \u001b[0;36m<module>\u001b[1;34m()\u001b[0m\n\u001b[0;32m      1\u001b[0m \u001b[1;32mprint\u001b[0m \u001b[1;34m\"Car positions:\"\u001b[0m\u001b[1;33m,\u001b[0m \u001b[0mpos4\u001b[0m\u001b[1;33m\u001b[0m\u001b[0m\n\u001b[0;32m      2\u001b[0m \u001b[1;32mprint\u001b[0m \u001b[1;34m\"Car velocities:\"\u001b[0m\u001b[1;33m,\u001b[0m\u001b[0mvel4\u001b[0m\u001b[1;33m\u001b[0m\u001b[0m\n\u001b[1;32m----> 3\u001b[1;33m \u001b[0mASEP\u001b[0m\u001b[1;33m(\u001b[0m\u001b[1;36m200\u001b[0m\u001b[1;33m,\u001b[0m\u001b[0mpos4\u001b[0m\u001b[1;33m,\u001b[0m\u001b[0mvel4\u001b[0m\u001b[1;33m,\u001b[0m\u001b[1;36m10\u001b[0m\u001b[1;33m)\u001b[0m\u001b[1;33m\u001b[0m\u001b[0m\n\u001b[0m",
        "\u001b[1;32m<ipython-input-307-75f471b009ac>\u001b[0m in \u001b[0;36mASEP\u001b[1;34m(l, pos4, vel4, n)\u001b[0m\n\u001b[0;32m     13\u001b[0m         \u001b[0mvel4\u001b[0m\u001b[1;33m[\u001b[0m\u001b[0mi\u001b[0m\u001b[1;33m]\u001b[0m \u001b[1;33m+=\u001b[0m \u001b[1;36m1\u001b[0m\u001b[1;33m\u001b[0m\u001b[0m\n\u001b[0;32m     14\u001b[0m     \u001b[1;32mfor\u001b[0m \u001b[0mj\u001b[0m \u001b[1;32min\u001b[0m \u001b[0mrange\u001b[0m\u001b[1;33m(\u001b[0m\u001b[0mn\u001b[0m\u001b[1;33m)\u001b[0m\u001b[1;33m:\u001b[0m\u001b[1;33m\u001b[0m\u001b[0m\n\u001b[1;32m---> 15\u001b[1;33m         \u001b[1;32mif\u001b[0m \u001b[0mvel4\u001b[0m\u001b[1;33m[\u001b[0m\u001b[0mj\u001b[0m\u001b[1;33m]\u001b[0m \u001b[1;33m<\u001b[0m \u001b[1;36m0\u001b[0m\u001b[1;33m:\u001b[0m\u001b[1;33m\u001b[0m\u001b[0m\n\u001b[0m\u001b[0;32m     16\u001b[0m             \u001b[0mp\u001b[0m \u001b[1;33m=\u001b[0m \u001b[0mnp\u001b[0m\u001b[1;33m.\u001b[0m\u001b[0mrandom\u001b[0m\u001b[1;33m.\u001b[0m\u001b[0mrandom\u001b[0m\u001b[1;33m(\u001b[0m\u001b[1;36m1\u001b[0m\u001b[1;33m)\u001b[0m\u001b[1;33m\u001b[0m\u001b[0m\n\u001b[0;32m     17\u001b[0m             \u001b[0mvel4\u001b[0m\u001b[1;33m[\u001b[0m\u001b[0mj\u001b[0m\u001b[1;33m]\u001b[0m \u001b[1;33m-=\u001b[0m \u001b[1;36m1\u001b[0m \u001b[1;33m*\u001b[0m \u001b[0mp\u001b[0m\u001b[1;33m\u001b[0m\u001b[0m\n",
        "\u001b[1;31mIndexError\u001b[0m: index out of bounds"
       ]
      },
      {
       "output_type": "stream",
       "stream": "stdout",
       "text": [
        "Car positions: [ 10.]\n",
        "Car velocities: [ 1.]\n"
       ]
      }
     ],
     "prompt_number": 308
    },
    {
     "cell_type": "code",
     "collapsed": false,
     "input": [
      "#different cars"
     ],
     "language": "python",
     "metadata": {},
     "outputs": [],
     "prompt_number": 60
    },
    {
     "cell_type": "code",
     "collapsed": false,
     "input": [
      "print \"Car positions:\", pos4\n",
      "print \"Car velocities:\",vel4\n",
      "ASEP(200,pos4,vel4,10)"
     ],
     "language": "python",
     "metadata": {},
     "outputs": [
      {
       "ename": "IndexError",
       "evalue": "index out of bounds",
       "output_type": "pyerr",
       "traceback": [
        "\u001b[1;31m---------------------------------------------------------------------------\u001b[0m\n\u001b[1;31mIndexError\u001b[0m                                Traceback (most recent call last)",
        "\u001b[1;32m<ipython-input-309-1a1c7bb78a0b>\u001b[0m in \u001b[0;36m<module>\u001b[1;34m()\u001b[0m\n\u001b[0;32m      1\u001b[0m \u001b[1;32mprint\u001b[0m \u001b[1;34m\"Car positions:\"\u001b[0m\u001b[1;33m,\u001b[0m \u001b[0mpos4\u001b[0m\u001b[1;33m\u001b[0m\u001b[0m\n\u001b[0;32m      2\u001b[0m \u001b[1;32mprint\u001b[0m \u001b[1;34m\"Car velocities:\"\u001b[0m\u001b[1;33m,\u001b[0m\u001b[0mvel4\u001b[0m\u001b[1;33m\u001b[0m\u001b[0m\n\u001b[1;32m----> 3\u001b[1;33m \u001b[0mASEP\u001b[0m\u001b[1;33m(\u001b[0m\u001b[1;36m200\u001b[0m\u001b[1;33m,\u001b[0m\u001b[0mpos4\u001b[0m\u001b[1;33m,\u001b[0m\u001b[0mvel4\u001b[0m\u001b[1;33m,\u001b[0m\u001b[1;36m10\u001b[0m\u001b[1;33m)\u001b[0m\u001b[1;33m\u001b[0m\u001b[0m\n\u001b[0m",
        "\u001b[1;32m<ipython-input-307-75f471b009ac>\u001b[0m in \u001b[0;36mASEP\u001b[1;34m(l, pos4, vel4, n)\u001b[0m\n\u001b[0;32m     13\u001b[0m         \u001b[0mvel4\u001b[0m\u001b[1;33m[\u001b[0m\u001b[0mi\u001b[0m\u001b[1;33m]\u001b[0m \u001b[1;33m+=\u001b[0m \u001b[1;36m1\u001b[0m\u001b[1;33m\u001b[0m\u001b[0m\n\u001b[0;32m     14\u001b[0m     \u001b[1;32mfor\u001b[0m \u001b[0mj\u001b[0m \u001b[1;32min\u001b[0m \u001b[0mrange\u001b[0m\u001b[1;33m(\u001b[0m\u001b[0mn\u001b[0m\u001b[1;33m)\u001b[0m\u001b[1;33m:\u001b[0m\u001b[1;33m\u001b[0m\u001b[0m\n\u001b[1;32m---> 15\u001b[1;33m         \u001b[1;32mif\u001b[0m \u001b[0mvel4\u001b[0m\u001b[1;33m[\u001b[0m\u001b[0mj\u001b[0m\u001b[1;33m]\u001b[0m \u001b[1;33m<\u001b[0m \u001b[1;36m0\u001b[0m\u001b[1;33m:\u001b[0m\u001b[1;33m\u001b[0m\u001b[0m\n\u001b[0m\u001b[0;32m     16\u001b[0m             \u001b[0mp\u001b[0m \u001b[1;33m=\u001b[0m \u001b[0mnp\u001b[0m\u001b[1;33m.\u001b[0m\u001b[0mrandom\u001b[0m\u001b[1;33m.\u001b[0m\u001b[0mrandom\u001b[0m\u001b[1;33m(\u001b[0m\u001b[1;36m1\u001b[0m\u001b[1;33m)\u001b[0m\u001b[1;33m\u001b[0m\u001b[0m\n\u001b[0;32m     17\u001b[0m             \u001b[0mvel4\u001b[0m\u001b[1;33m[\u001b[0m\u001b[0mj\u001b[0m\u001b[1;33m]\u001b[0m \u001b[1;33m-=\u001b[0m \u001b[1;36m1\u001b[0m \u001b[1;33m*\u001b[0m \u001b[0mp\u001b[0m\u001b[1;33m\u001b[0m\u001b[0m\n",
        "\u001b[1;31mIndexError\u001b[0m: index out of bounds"
       ]
      },
      {
       "output_type": "stream",
       "stream": "stdout",
       "text": [
        "Car positions: [ 10.]\n",
        "Car velocities: [ 0.]\n"
       ]
      }
     ],
     "prompt_number": 309
    },
    {
     "cell_type": "markdown",
     "metadata": {},
     "source": [
      "Now that I know all my rulesets work, I can start plotting"
     ]
    },
    {
     "cell_type": "markdown",
     "metadata": {},
     "source": [
      "Plotting\n",
      "="
     ]
    },
    {
     "cell_type": "markdown",
     "metadata": {},
     "source": [
      "CA184"
     ]
    },
    {
     "cell_type": "code",
     "collapsed": false,
     "input": [
      "N = 150\n",
      "v_aveCA184 = np.zeros(N)\n",
      "x_aveCA184 = np.zeros(N)\n",
      "p = initial(200,10)\n",
      "for i in range(N):\n",
      "    p = CA184(p[0],p[1],p[2],p[3])\n",
      "    v_aveCA184[i] = np.sum(p[2])/len(p[2])\n",
      "    x_aveCA184[i] = np.sum(p[1])/len(p[1])\n",
      "print v_aveCA184\n",
      "print x_aveCA184"
     ],
     "language": "python",
     "metadata": {},
     "outputs": [
      {
       "output_type": "stream",
       "stream": "stdout",
       "text": [
        "[  2.9   2.2   2.4   2.9   3.    3.3   3.8   4.6   5.4   6.2   6.9   7.8\n",
        "   8.7   9.6  10.5   9.9   9.2   8.4   7.5   6.5   5.4   4.2   2.9   1.5\n",
        "   1.5   1.5   1.5   1.5   1.5   1.5   1.5   1.5   1.5   1.5   1.5   1.5\n",
        "   1.5   1.5   1.5   1.5   1.5   1.5   1.5   1.5   1.5   1.5   1.5   1.5\n",
        "   1.5   1.5   1.5   1.5   1.5   1.5   1.5   1.5   1.5   1.5   1.5   1.5\n",
        "   1.5   1.5   1.5   1.5   1.5   1.5   1.5   1.5   1.5   1.5   1.5   1.5\n",
        "   1.5   1.5   1.5   1.5   1.5   1.5   1.5   1.5   1.5   1.5   1.5   1.5\n",
        "   1.5   1.5   1.5   1.5   1.5   1.5   1.5   1.5   1.5   1.5   1.5   1.5\n",
        "   1.5   1.5   1.5   1.5   1.5   1.5   1.5   1.5   1.5   1.5   1.5   1.5\n",
        "   1.5   1.5   1.5   1.5   1.5   1.5   1.5   1.5   1.5   1.5   1.5   1.5\n",
        "   1.5   1.5   1.5   1.5   1.5   1.5   1.5   1.5   1.5   1.5   1.5   1.5\n",
        "   1.5   1.5   1.5   1.5   1.5   1.5   1.5   1.5   1.5   1.5   1.5   1.5\n",
        "   1.5   1.5   1.5   1.5   1.5   1.5]\n",
        "[  31.4   33.6   35.8   38.7   41.7   45.    48.8   53.4   58.8   65.\n",
        "   70.4   76.7   83.9   92.   101.   109.4  117.1  124.   130.   135.\n",
        "  138.9  141.6  143.   143.   143.   143.   143.   143.   143.   143.   143.\n",
        "  143.   143.   143.   143.   143.   143.   143.   143.   143.   143.   143.\n",
        "  143.   143.   143.   143.   143.   143.   143.   143.   143.   143.   143.\n",
        "  143.   143.   143.   143.   143.   143.   143.   143.   143.   143.   143.\n",
        "  143.   143.   143.   143.   143.   143.   143.   143.   143.   143.   143.\n",
        "  143.   143.   143.   143.   143.   143.   143.   143.   143.   143.   143.\n",
        "  143.   143.   143.   143.   143.   143.   143.   143.   143.   143.   143.\n",
        "  143.   143.   143.   143.   143.   143.   143.   143.   143.   143.   143.\n",
        "  143.   143.   143.   143.   143.   143.   143.   143.   143.   143.   143.\n",
        "  143.   143.   143.   143.   143.   143.   143.   143.   143.   143.   143.\n",
        "  143.   143.   143.   143.   143.   143.   143.   143.   143.   143.   143.\n",
        "  143.   143.   143.   143.   143.   143.   143.   143.   143. ]\n"
       ]
      }
     ],
     "prompt_number": 269
    },
    {
     "cell_type": "code",
     "collapsed": false,
     "input": [
      "t = arange(1,N+1)\n",
      "plot(t,x_aveCA184)\n",
      "xlabel('Time (steps)')\n",
      "title('Average Position(CA184) vs Time')\n",
      "legend(loc=0)"
     ],
     "language": "python",
     "metadata": {},
     "outputs": [
      {
       "output_type": "display_data",
       "png": "[encoded data removed]"
      }
     ],
     "prompt_number": 285
    },
    {
     "cell_type": "code",
     "collapsed": false,
     "input": [
      "plot(t,v_aveCA184,label=\"Average Velocity(CA184) vs Time\")\n",
      "xlabel('Time (steps)')\n",
      "title(\"Average Velocity(CA184) vs Time\")\n",
      "legend(loc=0)"
     ],
     "language": "python",
     "metadata": {},
     "outputs": [
      {
       "output_type": "pyout",
       "prompt_number": 286,
       "text": [
        "<matplotlib.legend.Legend at 0xd156e48>"
       ]
      },
      {
       "output_type": "display_data",
       "png": "[encoded data removed]"
      }
     ],
     "prompt_number": 286
    },
    {
     "cell_type": "code",
     "collapsed": false,
     "input": [
      "density = 10./200.\n",
      "currentCA184 = x_aveCA184*density\n",
      "plot(t,currentCA184,label='Current vs Time')\n",
      "xlabel('Time (steps)')\n",
      "title(\"Current(CA184) vs Time\")\n",
      "legend(loc=0)"
     ],
     "language": "python",
     "metadata": {},
     "outputs": [
      {
       "output_type": "pyout",
       "prompt_number": 287,
       "text": [
        "<matplotlib.legend.Legend at 0xd3b90f0>"
       ]
      },
      {
       "output_type": "display_data",
       "png": "[encoded data removed]"
      }
     ],
     "prompt_number": 287
    },
    {
     "cell_type": "markdown",
     "metadata": {},
     "source": [
      "ASEP"
     ]
    },
    {
     "cell_type": "code",
     "collapsed": false,
     "input": [
      "N = 150\n",
      "v_aveASEP = np.zeros(N)\n",
      "x_aveASEP = np.zeros(N)\n",
      "w = initial(200,10)\n",
      "for i in range(N):\n",
      "    w = ASEP(p[1],p[2],p[0])\n",
      "    v_aveASEP[i] = np.sum(p[2])/len(p[2])\n",
      "    x_aveASEP[i] = np.sum(p[1])/len(p[1])\n",
      "print v_aveASEP\n",
      "print x_aveASEP"
     ],
     "language": "python",
     "metadata": {},
     "outputs": [
      {
       "output_type": "stream",
       "stream": "stdout",
       "text": [
        "[ 1.5  1.5  1.5  1.5  1.5  1.5  1.5  0.   0.   0.   0.   0.   0.   0.   0.\n",
        "  0.   0.   0.   0.   0.   0.   0.   0.   0.   0.   0.   0.   0.   0.   0.\n",
        "  0.   0.   0.   0.   0.   0.   0.   0.   0.   0.   0.   0.   0.   0.   0.\n",
        "  0.   0.   0.   0.   0.   0.   0.   0.   0.   0.   0.   0.   0.   0.   0.\n",
        "  0.   0.   0.   0.   0.   0.   0.   0.   0.   0.   0.   0.   0.   0.   0.\n",
        "  0.   0.   0.   0.   0.   0.   0.   0.   0.   0.   0.   0.   0.   0.   0.\n",
        "  0.   0.   0.   0.   0.   0.   0.   0.   0.   0.   0.   0.   0.   0.   0.\n",
        "  0.   0.   0.   0.   0.   0.   0.   0.   0.   0.   0.   0.   0.   0.   0.\n",
        "  0.   0.   0.   0.   0.   0.   0.   0.   0.   0.   0.   0.   0.   0.   0.\n",
        "  0.   0.   0.   0.   0.   0.   0.   0.   0.   0.   0.   0.   0.   0.   0. ]\n",
        "[ 115.  115.  115.  115.  115.  115.  115.  115.  115.  115.  115.  115.\n",
        "  115.  115.  115.  115.  115.  115.  115.  115.  115.  115.  115.  115.\n",
        "  115.  115.  115.  115.  115.  115.  115.  115.  115.  115.  115.  115.\n",
        "  115.  115.  115.  115.  115.  115.  115.  115.  115.  115.  115.  115.\n",
        "  115.  115.  115.  115.  115.  115.  115.  115.  115.  115.  115.  115.\n",
        "  115.  115.  115.  115.  115.  115.  115.  115.  115.  115.  115.  115.\n",
        "  115.  115.  115.  115.  115.  115.  115.  115.  115.  115.  115.  115.\n",
        "  115.  115.  115.  115.  115.  115.  115.  115.  115.  115.  115.  115.\n",
        "  115.  115.  115.  115.  115.  115.  115.  115.  115.  115.  115.  115.\n",
        "  115.  115.  115.  115.  115.  115.  115.  115.  115.  115.  115.  115.\n",
        "  115.  115.  115.  115.  115.  115.  115.  115.  115.  115.  115.  115.\n",
        "  115.  115.  115.  115.  115.  115.  115.  115.  115.  115.  115.  115.\n",
        "  115.  115.  115.  115.  115.  115.]\n"
       ]
      }
     ],
     "prompt_number": 217
    },
    {
     "cell_type": "code",
     "collapsed": false,
     "input": [
      "plot(t,x_aveASEP)"
     ],
     "language": "python",
     "metadata": {},
     "outputs": [
      {
       "output_type": "pyout",
       "prompt_number": 278,
       "text": [
        "[<matplotlib.lines.Line2D at 0xc9be908>]"
       ]
      },
      {
       "output_type": "display_data",
       "png": "[encoded data removed]"
      }
     ],
     "prompt_number": 278
    },
    {
     "cell_type": "code",
     "collapsed": false,
     "input": [
      "plot(t,v_aveASEP)"
     ],
     "language": "python",
     "metadata": {},
     "outputs": [
      {
       "output_type": "pyout",
       "prompt_number": 279,
       "text": [
        "[<matplotlib.lines.Line2D at 0xc9f4470>]"
       ]
      },
      {
       "output_type": "display_data",
       "png": "[encoded data removed]"
      }
     ],
     "prompt_number": 279
    },
    {
     "cell_type": "code",
     "collapsed": false,
     "input": [
      "density = 10./200.\n",
      "currentASEP = x_aveASEP*density\n",
      "plot(t,currentASEP,label='Current vs Time')\n",
      "xlabel('Time (steps)')\n",
      "title(\"Current(ASEP) vs Time\")\n",
      "legend(loc=0)"
     ],
     "language": "python",
     "metadata": {},
     "outputs": [
      {
       "output_type": "pyout",
       "prompt_number": 284,
       "text": [
        "<matplotlib.legend.Legend at 0xd156cc0>"
       ]
      },
      {
       "output_type": "display_data",
       "png": "[encoded data removed]"
      }
     ],
     "prompt_number": 284
    },
    {
     "cell_type": "markdown",
     "metadata": {},
     "source": [
      "STCA"
     ]
    },
    {
     "cell_type": "code",
     "collapsed": false,
     "input": [
      "N = 150\n",
      "v_aveSTCA = np.zeros(N)\n",
      "x_aveSTCA = np.zeros(N)\n",
      "p = initial(200,10)\n",
      "for i in range(N):\n",
      "    p = STCA(p[0],p[1],p[2],p[3])\n",
      "    v_aveSTCA[i] = np.sum(p[2])/len(p[2])\n",
      "    x_aveSTCA[i] = np.sum(p[1])/len(p[1])\n",
      "print v_aveSTCA\n",
      "print x_aveSTCA"
     ],
     "language": "python",
     "metadata": {},
     "outputs": [
      {
       "output_type": "stream",
       "stream": "stdout",
       "text": [
        "[ 0.  0.  0.  0.  0.  0.  0.  0.  0.  0.  0.  0.  0.  0.  0.  0.  0.  0.\n",
        "  0.  0.  0.  0.  0.  0.  0.  0.  0.  0.  0.  0.  0.  0.  0.  0.  0.  0.\n",
        "  0.  0.  0.  0.  0.  0.  0.  0.  0.  0.  0.  0.  0.  0.  0.  0.  0.  0.\n",
        "  0.  0.  0.  0.  0.  0.  0.  0.  0.  0.  0.  0.  0.  0.  0.  0.  0.  0.\n",
        "  0.  0.  0.  0.  0.  0.  0.  0.  0.  0.  0.  0.  0.  0.  0.  0.  0.  0.\n",
        "  0.  0.  0.  0.  0.  0.  0.  0.  0.  0.  0.  0.  0.  0.  0.  0.  0.  0.\n",
        "  0.  0.  0.  0.  0.  0.  0.  0.  0.  0.  0.  0.  0.  0.  0.  0.  0.  0.\n",
        "  0.  0.  0.  0.  0.  0.  0.  0.  0.  0.  0.  0.  0.  0.  0.  0.  0.  0.\n",
        "  0.  0.  0.  0.  0.  0.]\n",
        "[ 28.7  28.7  28.7  28.7  28.7  28.7  28.7  28.7  28.7  28.7  28.7  28.7\n",
        "  28.7  28.7  28.7  28.7  28.7  28.7  28.7  28.7  28.7  28.7  28.7  28.7\n",
        "  28.7  28.7  28.7  28.7  28.7  28.7  28.7  28.7  28.7  28.7  28.7  28.7\n",
        "  28.7  28.7  28.7  28.7  28.7  28.7  28.7  28.7  28.7  28.7  28.7  28.7\n",
        "  28.7  28.7  28.7  28.7  28.7  28.7  28.7  28.7  28.7  28.7  28.7  28.7\n",
        "  28.7  28.7  28.7  28.7  28.7  28.7  28.7  28.7  28.7  28.7  28.7  28.7\n",
        "  28.7  28.7  28.7  28.7  28.7  28.7  28.7  28.7  28.7  28.7  28.7  28.7\n",
        "  28.7  28.7  28.7  28.7  28.7  28.7  28.7  28.7  28.7  28.7  28.7  28.7\n",
        "  28.7  28.7  28.7  28.7  28.7  28.7  28.7  28.7  28.7  28.7  28.7  28.7\n",
        "  28.7  28.7  28.7  28.7  28.7  28.7  28.7  28.7  28.7  28.7  28.7  28.7\n",
        "  28.7  28.7  28.7  28.7  28.7  28.7  28.7  28.7  28.7  28.7  28.7  28.7\n",
        "  28.7  28.7  28.7  28.7  28.7  28.7  28.7  28.7  28.7  28.7  28.7  28.7\n",
        "  28.7  28.7  28.7  28.7  28.7  28.7]\n"
       ]
      }
     ],
     "prompt_number": 296
    },
    {
     "cell_type": "code",
     "collapsed": false,
     "input": [
      "plot(t,x_aveSTCA)"
     ],
     "language": "python",
     "metadata": {},
     "outputs": [
      {
       "output_type": "pyout",
       "prompt_number": 297,
       "text": [
        "[<matplotlib.lines.Line2D at 0xd96bf60>]"
       ]
      },
      {
       "output_type": "display_data",
       "png": "[encoded data removed]"
      }
     ],
     "prompt_number": 297
    },
    {
     "cell_type": "code",
     "collapsed": false,
     "input": [
      "plot(t,v_aveSTCA)"
     ],
     "language": "python",
     "metadata": {},
     "outputs": [
      {
       "output_type": "pyout",
       "prompt_number": 298,
       "text": [
        "[<matplotlib.lines.Line2D at 0xd99fac8>]"
       ]
      },
      {
       "output_type": "display_data",
       "png": "[encoded data removed]"
      }
     ],
     "prompt_number": 298
    },
    {
     "cell_type": "code",
     "collapsed": false,
     "input": [],
     "language": "python",
     "metadata": {},
     "outputs": []
    },
    {
     "cell_type": "code",
     "collapsed": false,
     "input": [],
     "language": "python",
     "metadata": {},
     "outputs": []
    },
    {
     "cell_type": "code",
     "collapsed": false,
     "input": [],
     "language": "python",
     "metadata": {},
     "outputs": []
    },
    {
     "cell_type": "code",
     "collapsed": false,
     "input": [
      "import sys\n",
      "sys.path.insert(0,\"Users/Alex/Documents/Github/PHYS202-S13/JSAnimation\")\n",
      "from JSAnimation import IPython_display"
     ],
     "language": "python",
     "metadata": {},
     "outputs": [
      {
       "ename": "ImportError",
       "evalue": "No module named JSAnimation",
       "output_type": "pyerr",
       "traceback": [
        "\u001b[1;31m---------------------------------------------------------------------------\u001b[0m\n\u001b[1;31mImportError\u001b[0m                               Traceback (most recent call last)",
        "\u001b[1;32m<ipython-input-299-a1870024c6f7>\u001b[0m in \u001b[0;36m<module>\u001b[1;34m()\u001b[0m\n\u001b[0;32m      1\u001b[0m \u001b[1;32mimport\u001b[0m \u001b[0msys\u001b[0m\u001b[1;33m\u001b[0m\u001b[0m\n\u001b[0;32m      2\u001b[0m \u001b[0msys\u001b[0m\u001b[1;33m.\u001b[0m\u001b[0mpath\u001b[0m\u001b[1;33m.\u001b[0m\u001b[0minsert\u001b[0m\u001b[1;33m(\u001b[0m\u001b[1;36m0\u001b[0m\u001b[1;33m,\u001b[0m\u001b[1;34m\"Users/Alex/Documents/Github/PHYS202-S13/JSAnimation\"\u001b[0m\u001b[1;33m)\u001b[0m\u001b[1;33m\u001b[0m\u001b[0m\n\u001b[1;32m----> 3\u001b[1;33m \u001b[1;32mfrom\u001b[0m \u001b[0mJSAnimation\u001b[0m \u001b[1;32mimport\u001b[0m \u001b[0mIPython_display\u001b[0m\u001b[1;33m\u001b[0m\u001b[0m\n\u001b[0m",
        "\u001b[1;31mImportError\u001b[0m: No module named JSAnimation"
       ]
      }
     ],
     "prompt_number": 299
    },
    {
     "cell_type": "code",
     "collapsed": false,
     "input": [],
     "language": "python",
     "metadata": {},
     "outputs": []
    }
   ],
   "metadata": {}
  }
 ]
}