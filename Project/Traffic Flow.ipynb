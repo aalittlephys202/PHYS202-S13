{
 "metadata": {
  "name": "Traffic Flow"
 },
 "nbformat": 3,
 "nbformat_minor": 0,
 "worksheets": [
  {
   "cells": [
    {
     "cell_type": "markdown",
     "metadata": {},
     "source": [
      "I chose the One dimensional traffic flow"
     ]
    },
    {
     "cell_type": "code",
     "collapsed": false,
     "input": [
      "import numpy as np\n",
      "import math"
     ],
     "language": "python",
     "metadata": {},
     "outputs": [
      {
       "output_type": "stream",
       "stream": "stdout",
       "text": [
        "\n"
       ]
      }
     ],
     "prompt_number": 5
    },
    {
     "cell_type": "code",
     "collapsed": false,
     "input": [
      "n = 10\n",
      "pos1 = np.random.random(n)*40\n",
      "vel1 = np.random.random(n)*10\n",
      "def initial(l,n):#takes road length and amount of cars\n",
      "    pos = sort(pos1.round())#array of positions\n",
      "    vel = vel1.round()#velocity array\n",
      "    g = np.zeros(n) #empty spaces in front of car\n",
      "    return l,pos,vel,n#returns road length, car positions, velocities, and number of cars"
     ],
     "language": "python",
     "metadata": {},
     "outputs": [
      {
       "output_type": "stream",
       "stream": "stdout",
       "text": [
        "\n"
       ]
      }
     ],
     "prompt_number": 12
    },
    {
     "cell_type": "code",
     "collapsed": false,
     "input": [
      "print initial(200,10)[0]#print road length\n",
      "print initial(200,10)[1]#print array of car positions\n",
      "print initial(200,10)[2]#print array of velocities\n",
      "print initial(200,10)[3]#print number of cars"
     ],
     "language": "python",
     "metadata": {},
     "outputs": [
      {
       "output_type": "stream",
       "stream": "stdout",
       "text": [
        "200\n",
        "[ 11.  11.  15.  17.  17.  23.  24.  25.  26.  34.]\n",
        "[  6.   8.   4.   5.   1.   2.   2.   4.  10.   1.]\n",
        "10\n"
       ]
      }
     ],
     "prompt_number": 13
    },
    {
     "cell_type": "markdown",
     "metadata": {},
     "source": [
      "CA184 RULE SET\n",
      "=\n",
      "1. Let gi equal the number of empty sites in front of each car.\n",
      "2. If gi = 0, that car does not move during this time step.\n",
      "3. If vi > gi\n",
      ", slow down to vi = gi\n",
      ".\n",
      "4. If vi < gi and vi < vmax, speed up by one unit: vi = vi + 1.\n",
      "5. For vi > 0, allow for random slowdowns by letting vi = vi  1 with probability p. p = 0 in the CA184 rule set\n",
      "6. Move all cars forward by vi\n",
      "."
     ]
    },
    {
     "cell_type": "code",
     "collapsed": false,
     "input": [
      "def CA184(l,pos,vel,n):\n",
      "    \"\"\"CA184 algothrim\"\"\"\n",
      "    g = np.zeros(n)\n",
      "    vmax = 15\n",
      "    for i in range(n):\n",
      "        if i+1 < n:#if car isnt last car\n",
      "            g[i] = int(pos[i+1] - pos[i])#calculate distance to the car in front of it\n",
      "        elif pos[i] == 1:\n",
      "            pos[i] = 0\n",
      "        else:\n",
      "            g[i] = l - pos[i]#if last car, calculate distance to end of road\n",
      "    for i in range(n):\n",
      "        if g[i] == 0:#if no space in front of car\n",
      "            vel[i] = 0#dont go\n",
      "        elif vel[i] > g[i]:#if amount of speed greater than space in front of car\n",
      "            vel[i] = g[i] #make them equal aka slows down\n",
      "            pos[i] += vel[i] # move car forward v[i]\n",
      "        elif vel[i] < g[i] and vel[i] < vmax: # if speed less than space in front of car\n",
      "            vel[i] = vel[i] + 1 # speed up by 1\n",
      "            pos[i] += vel[i] # move car forward by v[i]\n",
      "        elif l - pos[i] == 0:\n",
      "            pos[i] = 1\n",
      "        else:\n",
      "            pass\n",
      "    return l,pos,vel,n"
     ],
     "language": "python",
     "metadata": {},
     "outputs": [],
     "prompt_number": 9
    },
    {
     "cell_type": "code",
     "collapsed": false,
     "input": [
      "print \"Car positions:\", initial(200,10)[1]\n",
      "print \"Car velocities:\",initial(200,10)[2]\n",
      "print CA184(initial(200,10)[0],initial(200,10)[1],initial(200,10)[2],initial(200,10)[3])\n",
      "test = CA184(initial(200,10)[0],initial(200,10)[1],initial(200,10)[2],initial(200,10)[3])"
     ],
     "language": "python",
     "metadata": {},
     "outputs": [
      {
       "output_type": "stream",
       "stream": "stdout",
       "text": [
        "Car positions: [ 11.  11.  15.  17.  17.  23.  24.  25.  26.  34.]\n",
        "Car velocities: [  6.   8.   4.   5.   1.   2.   2.   4.  10.   1.]\n",
        "(200, array([ 11.,  15.,  17.,  17.,  19.,  24.,  25.,  26.,  34.,  36.]), array([ 0.,  4.,  2.,  0.,  2.,  1.,  1.,  1.,  8.,  2.]), 10)\n"
       ]
      }
     ],
     "prompt_number": 23
    },
    {
     "cell_type": "markdown",
     "metadata": {},
     "source": [
      "Test code: 2nd time"
     ]
    },
    {
     "cell_type": "code",
     "collapsed": false,
     "input": [
      "test_2 = CA184(initial(200,10)[0],test[0],test[1],initial(200,10)[3])\n",
      "print test_2"
     ],
     "language": "python",
     "metadata": {},
     "outputs": [
      {
       "ename": "TypeError",
       "evalue": "'int' object has no attribute '__getitem__'",
       "output_type": "pyerr",
       "traceback": [
        "\u001b[1;31m---------------------------------------------------------------------------\u001b[0m\n\u001b[1;31mTypeError\u001b[0m                                 Traceback (most recent call last)",
        "\u001b[1;32m<ipython-input-8-bcdd7eac45d7>\u001b[0m in \u001b[0;36m<module>\u001b[1;34m()\u001b[0m\n\u001b[1;32m----> 1\u001b[1;33m \u001b[0mtest_2\u001b[0m \u001b[1;33m=\u001b[0m \u001b[0mCA184\u001b[0m\u001b[1;33m(\u001b[0m\u001b[0minitial\u001b[0m\u001b[1;33m(\u001b[0m\u001b[1;36m200\u001b[0m\u001b[1;33m,\u001b[0m\u001b[1;36m10\u001b[0m\u001b[1;33m)\u001b[0m\u001b[1;33m[\u001b[0m\u001b[1;36m0\u001b[0m\u001b[1;33m]\u001b[0m\u001b[1;33m,\u001b[0m\u001b[0mtest\u001b[0m\u001b[1;33m[\u001b[0m\u001b[1;36m0\u001b[0m\u001b[1;33m]\u001b[0m\u001b[1;33m,\u001b[0m\u001b[0mtest\u001b[0m\u001b[1;33m[\u001b[0m\u001b[1;36m1\u001b[0m\u001b[1;33m]\u001b[0m\u001b[1;33m,\u001b[0m\u001b[0minitial\u001b[0m\u001b[1;33m(\u001b[0m\u001b[1;36m200\u001b[0m\u001b[1;33m,\u001b[0m\u001b[1;36m10\u001b[0m\u001b[1;33m)\u001b[0m\u001b[1;33m[\u001b[0m\u001b[1;36m3\u001b[0m\u001b[1;33m]\u001b[0m\u001b[1;33m)\u001b[0m\u001b[1;33m\u001b[0m\u001b[0m\n\u001b[0m\u001b[0;32m      2\u001b[0m \u001b[1;32mprint\u001b[0m \u001b[0mtest_2\u001b[0m\u001b[1;33m\u001b[0m\u001b[0m\n",
        "\u001b[1;32m<ipython-input-6-f5850239f9fc>\u001b[0m in \u001b[0;36mCA184\u001b[1;34m(l, pos, vel, n)\u001b[0m\n\u001b[0;32m      5\u001b[0m     \u001b[1;32mfor\u001b[0m \u001b[0mi\u001b[0m \u001b[1;32min\u001b[0m \u001b[0mrange\u001b[0m\u001b[1;33m(\u001b[0m\u001b[0mn\u001b[0m\u001b[1;33m)\u001b[0m\u001b[1;33m:\u001b[0m\u001b[1;33m\u001b[0m\u001b[0m\n\u001b[0;32m      6\u001b[0m         \u001b[1;32mif\u001b[0m \u001b[0mi\u001b[0m\u001b[1;33m+\u001b[0m\u001b[1;36m1\u001b[0m \u001b[1;33m<\u001b[0m \u001b[0mn\u001b[0m\u001b[1;33m:\u001b[0m\u001b[1;31m#if car isnt last car\u001b[0m\u001b[1;33m\u001b[0m\u001b[0m\n\u001b[1;32m----> 7\u001b[1;33m             \u001b[0mg\u001b[0m\u001b[1;33m[\u001b[0m\u001b[0mi\u001b[0m\u001b[1;33m]\u001b[0m \u001b[1;33m=\u001b[0m \u001b[0mint\u001b[0m\u001b[1;33m(\u001b[0m\u001b[0mpos\u001b[0m\u001b[1;33m[\u001b[0m\u001b[0mi\u001b[0m\u001b[1;33m+\u001b[0m\u001b[1;36m1\u001b[0m\u001b[1;33m]\u001b[0m \u001b[1;33m-\u001b[0m \u001b[0mpos\u001b[0m\u001b[1;33m[\u001b[0m\u001b[0mi\u001b[0m\u001b[1;33m]\u001b[0m\u001b[1;33m)\u001b[0m\u001b[1;31m#calculate distance to the car in front of it\u001b[0m\u001b[1;33m\u001b[0m\u001b[0m\n\u001b[0m\u001b[0;32m      8\u001b[0m         \u001b[1;32melif\u001b[0m \u001b[0mpos\u001b[0m\u001b[1;33m[\u001b[0m\u001b[0mi\u001b[0m\u001b[1;33m]\u001b[0m \u001b[1;33m==\u001b[0m \u001b[1;36m1\u001b[0m\u001b[1;33m:\u001b[0m\u001b[1;33m\u001b[0m\u001b[0m\n\u001b[0;32m      9\u001b[0m             \u001b[0mpos\u001b[0m\u001b[1;33m[\u001b[0m\u001b[0mi\u001b[0m\u001b[1;33m]\u001b[0m \u001b[1;33m=\u001b[0m \u001b[1;36m0\u001b[0m\u001b[1;33m\u001b[0m\u001b[0m\n",
        "\u001b[1;31mTypeError\u001b[0m: 'int' object has no attribute '__getitem__'"
       ]
      }
     ],
     "prompt_number": 8
    },
    {
     "cell_type": "markdown",
     "metadata": {},
     "source": [
      "Test code: 3rd time"
     ]
    },
    {
     "cell_type": "code",
     "collapsed": false,
     "input": [
      "test_3 = CA184(initial(200,10)[0],test_2[0],test_2[1],initial(200,10)[3])\n",
      "print test_3"
     ],
     "language": "python",
     "metadata": {},
     "outputs": [
      {
       "output_type": "stream",
       "stream": "stdout",
       "text": [
        "(array([  4.,   6.,   9.,  12.,  23.,  24.,  26.,  29.,  48.,  61.]), array([  1.,   2.,   2.,   3.,   4.,   1.,   2.,   3.,   9.,  11.]), array([   1.,    3.,    2.,   10.,    4.,    1.,    2.,   13.,   11.,  150.]))\n"
       ]
      }
     ],
     "prompt_number": 206
    },
    {
     "cell_type": "markdown",
     "metadata": {},
     "source": [
      "Test code: 4th time"
     ]
    },
    {
     "cell_type": "code",
     "collapsed": false,
     "input": [
      "test_4 = CA184(initial(200,10)[0],test_3[0],test_3[1],initial(200,10)[3])\n",
      "print test_4"
     ],
     "language": "python",
     "metadata": {},
     "outputs": [
      {
       "output_type": "stream",
       "stream": "stdout",
       "text": [
        "(array([  6.,   9.,  12.,  16.,  24.,  26.,  29.,  33.,  58.,  73.]), array([  2.,   3.,   3.,   4.,   1.,   2.,   3.,   4.,  10.,  12.]), array([   2.,    3.,    3.,   11.,    1.,    2.,    3.,   19.,   13.,  139.]))\n"
       ]
      }
     ],
     "prompt_number": 207
    },
    {
     "cell_type": "markdown",
     "metadata": {},
     "source": [
      "STCA RULE SET\n",
      "=\n",
      "\n",
      "1. Let gi equal the number of empty sites in front of each car.\n",
      "2. If gi = 0, that car does not move during this time step.\n",
      "3. If vi > gi\n",
      ", slow down to vi = gi\n",
      ".\n",
      "4. If vi < gi and vi < vmax, speed up by one unit: vi = vi + 1.\n",
      "5. For vi > 0, allow for random slowdowns by letting vi = vi  1 with probability p.\n",
      "6. Move all cars forward by vi\n",
      "."
     ]
    },
    {
     "cell_type": "code",
     "collapsed": false,
     "input": [
      "def STCA(l, pos2,vel2,n):\n",
      "    vmax = 15#set max v\n",
      "    g=np.zeros(10)#number of empty sites in front of each car\n",
      "    for i in range(n):\n",
      "        if g[i] == 0:#if no spaces in front of car\n",
      "            vel2[i] = 0#dont move\n",
      "        elif vel2[i] > g[i]:#if moving faster than amount of space in front of car\n",
      "            vel2[i] = g[i]#move only fast enough to fill space\n",
      "        elif vel2[i] < g[i] and vel2[i] < vmax:#if not going fast enough to fill space and going slower than speed limit\n",
      "            vel2[i] += 1#speed up by one\n",
      "        for j in range(n):\n",
      "            if vel2[j] < 0:\n",
      "                p = np.random.random(1)\n",
      "                vel2[j] = (vel2[j]-1)*p#accounting for random stops\n",
      "        pos2[i] += vel2[i]#sets new position\n",
      "        if pos2[i] > l:#if beyond road length\n",
      "            pos2[i] = pos2[i]-l#should loop back to position at the beginning of the road\n",
      "    for k in range(n):\n",
      "        if k < n - 1:\n",
      "            g[k] = abs(pos2[k] - pos2[k + 1])\n",
      "        else:\n",
      "            g[k] = l - pos2[k]\n",
      "    return l,pos2,vel2,n"
     ],
     "language": "python",
     "metadata": {},
     "outputs": [],
     "prompt_number": 14
    },
    {
     "cell_type": "code",
     "collapsed": false,
     "input": [
      "print \"Car positions:\", initial(200,10)[1]\n",
      "print \"Car velocities:\",initial(200,10)[2]\n",
      "r = STCA(200,initial(200,10)[1],initial(200,10)[2],10)\n",
      "print r"
     ],
     "language": "python",
     "metadata": {},
     "outputs": [
      {
       "output_type": "stream",
       "stream": "stdout",
       "text": [
        "Car positions: [ 11.  11.  15.  17.  17.  23.  24.  25.  26.  34.]\n",
        "Car velocities: [  6.   8.   4.   5.   1.   2.   2.   4.  10.   1.]\n",
        "(200, array([ 11.,  11.,  15.,  17.,  17.,  23.,  24.,  25.,  26.,  34.]), array([ 0.,  0.,  0.,  0.,  0.,  0.,  0.,  0.,  0.,  0.]), 10)\n"
       ]
      }
     ],
     "prompt_number": 20
    },
    {
     "cell_type": "markdown",
     "metadata": {},
     "source": [
      "Test code: 2nd time"
     ]
    },
    {
     "cell_type": "code",
     "collapsed": false,
     "input": [
      "print \"Car positions:\", r[1]\n",
      "print \"Car velocities:\",r[2]\n",
      "r1 = STCA(200,r[1],r[2],10)\n",
      "print r1"
     ],
     "language": "python",
     "metadata": {},
     "outputs": [
      {
       "output_type": "stream",
       "stream": "stdout",
       "text": [
        "Car positions: [ 11.  11.  15.  17.  17.  23.  24.  25.  26.  34.]\n",
        "Car velocities: [ 0.  0.  0.  0.  0.  0.  0.  0.  0.  0.]\n",
        "(200, array([ 11.,  11.,  15.,  17.,  17.,  23.,  24.,  25.,  26.,  34.]), array([ 0.,  0.,  0.,  0.,  0.,  0.,  0.,  0.,  0.,  0.]), 10)\n"
       ]
      }
     ],
     "prompt_number": 21
    },
    {
     "cell_type": "markdown",
     "metadata": {},
     "source": [
      "Test code: 3rd time"
     ]
    },
    {
     "cell_type": "code",
     "collapsed": false,
     "input": [
      "print \"Car positions:\", r1[1]\n",
      "print \"Car velocities:\",r1[2]\n",
      "r2 = STCA(200,r1[1],r1[2],10)\n",
      "print r2"
     ],
     "language": "python",
     "metadata": {},
     "outputs": [
      {
       "output_type": "stream",
       "stream": "stdout",
       "text": [
        "Car positions: [ 11.  11.  15.  17.  17.  23.  24.  25.  26.  34.]\n",
        "Car velocities: [ 0.  0.  0.  0.  0.  0.  0.  0.  0.  0.]\n",
        "(200, array([ 11.,  11.,  15.,  17.,  17.,  23.,  24.,  25.,  26.,  34.]), array([ 0.,  0.,  0.,  0.,  0.,  0.,  0.,  0.,  0.,  0.]), 10)\n"
       ]
      }
     ],
     "prompt_number": 22
    },
    {
     "cell_type": "markdown",
     "metadata": {},
     "source": [
      "Test code: 4th time"
     ]
    },
    {
     "cell_type": "code",
     "collapsed": false,
     "input": [
      "print \"Car positions:\", r2[1]\n",
      "print \"Car velocities:\",r2[2]\n",
      "r3 = STCA(200,r2[1],r2[2],10)\n",
      "print r3"
     ],
     "language": "python",
     "metadata": {},
     "outputs": [
      {
       "output_type": "stream",
       "stream": "stdout",
       "text": [
        "Car positions: [ 11.  11.  15.  17.  17.  23.  24.  25.  26.  34.]\n",
        "Car velocities: [ 0.  0.  0.  0.  0.  0.  0.  0.  0.  0.]\n",
        "(200, array([ 11.,  11.,  15.,  17.,  17.,  23.,  24.,  25.,  26.,  34.]), array([ 0.,  0.,  0.,  0.,  0.,  0.,  0.,  0.,  0.,  0.]), 10)\n"
       ]
      }
     ],
     "prompt_number": 24
    },
    {
     "cell_type": "markdown",
     "metadata": {},
     "source": [
      "ASEP RULE SET\n",
      "=\n",
      "\n",
      "1. Pick one car at random.\n",
      "2. Let gi equal the number of empty sites in front of this car.\n",
      "3. If gi = 0, that car does not move during this time step.\n",
      "4. If vi > gi\n",
      ", slow down to vi = gi\n",
      ".\n",
      "5. If vi < gi and vi < vmax, speed up by one unit: vi = vi + 1.\n",
      "6. Move this car forward by vi\n",
      "."
     ]
    },
    {
     "cell_type": "code",
     "collapsed": false,
     "input": [
      "def ASEP(l,pos4,vel4,n):\n",
      "    vmax = 15\n",
      "    i = random.randint(0,len(pos4),1)\n",
      "    g = np.zeros(10)#number of empty sites in front of each car\n",
      "    if vel4[i] > g[i]:#if car going faster then spaces in front of it\n",
      "        vel4[i] = g[i]#only go fast enough to cover empty spaces\n",
      "    elif vel4[i] < g[i] and vel4[i] < vmax:#if speed is slower than spaces in front of car and car isnt at max speed\n",
      "        vel4[i] += 1#speed up\n",
      "    for j in range(n):\n",
      "        if vel4[j] < 0:\n",
      "            p = np.random.random(1)\n",
      "            vel4[j] -= 1 * p#accounting for random slow downs\n",
      "    pos4[i] += vel4[i]#sets new position\n",
      "    if pos4[i] > l:#if position of car is beyond road length\n",
      "        pos4[i] = pos4[i] - l#make new position at beginning of road\n",
      "    for p in range(n):\n",
      "        if p < n - 1:\n",
      "            g[p] = pos4[p] - pos4[p+1]-1\n",
      "        else:\n",
      "            g[p] = l - pos4[p]-1\n",
      "    \n",
      "    return l,pos4,vel4,n"
     ],
     "language": "python",
     "metadata": {},
     "outputs": [],
     "prompt_number": 32
    },
    {
     "cell_type": "code",
     "collapsed": false,
     "input": [
      "print \"Car positions:\", initial(200,1)[1]\n",
      "print \"Car velocities:\",initial(200,1)[2]\n",
      "h = ASEP(200,initial(200,1)[1],initial(200,1)[2],10)\n",
      "print h"
     ],
     "language": "python",
     "metadata": {},
     "outputs": [
      {
       "output_type": "stream",
       "stream": "stdout",
       "text": [
        "Car positions: [ 11.  11.  15.  17.  17.  23.  24.  25.  26.  34.]\n",
        "Car velocities: [  6.   8.   4.   5.   1.   2.   2.   4.  10.   1.]\n",
        "(200, array([ 11.,  11.,  15.,  17.,  17.,  23.,  24.,  25.,  26.,  34.]), array([  6.,   8.,   4.,   5.,   0.,   2.,   2.,   4.,  10.,   1.]), 10)\n"
       ]
      }
     ],
     "prompt_number": 30
    },
    {
     "cell_type": "code",
     "collapsed": false,
     "input": [
      "print \"Car positions:\", h[1]\n",
      "print \"Car velocities:\",h[2]\n",
      "h = ASEP(200,h[1],h[2],10)\n",
      "print h"
     ],
     "language": "python",
     "metadata": {},
     "outputs": [
      {
       "output_type": "stream",
       "stream": "stdout",
       "text": [
        "Car positions: [ 11.  11.  15.  17.  17.  23.  24.  25.  26.  34.]\n",
        "Car velocities: [  6.   8.   4.   5.   0.   2.   2.   4.  10.   1.]\n",
        "(200, array([ 11.,  11.,  15.,  17.,  17.,  23.,  24.,  25.,  26.,  34.]), array([  6.,   8.,   0.,   5.,   0.,   2.,   2.,   4.,  10.,   1.]), 10)\n"
       ]
      }
     ],
     "prompt_number": 31
    },
    {
     "cell_type": "code",
     "collapsed": false,
     "input": [
      "#different cars"
     ],
     "language": "python",
     "metadata": {},
     "outputs": [],
     "prompt_number": 60
    },
    {
     "cell_type": "code",
     "collapsed": false,
     "input": [
      "print \"Car positions:\", initial(200,1)[1]\n",
      "print \"Car velocities:\",initial(200,1)[2]\n",
      "h = ASEP(200,initial(200,1)[1],initial(200,1)[2],10)\n",
      "print h"
     ],
     "language": "python",
     "metadata": {},
     "outputs": [
      {
       "output_type": "stream",
       "stream": "stdout",
       "text": [
        "Car positions: [ 11.  11.  15.  17.  17.  23.  24.  25.  26.  34.]\n",
        "Car velocities: [  6.   8.   4.   5.   1.   2.   2.   4.  10.   1.]\n",
        "(200, array([ 11.,  11.,  15.,  17.,  17.,  23.,  24.,  25.,  26.,  34.]), array([  6.,   8.,   4.,   0.,   1.,   2.,   2.,   4.,  10.,   1.]), 10)\n"
       ]
      }
     ],
     "prompt_number": 33
    },
    {
     "cell_type": "markdown",
     "metadata": {},
     "source": [
      "Now that I know all my rulesets work, I can start plotting"
     ]
    },
    {
     "cell_type": "markdown",
     "metadata": {},
     "source": [
      "Plotting\n",
      "="
     ]
    },
    {
     "cell_type": "markdown",
     "metadata": {},
     "source": [
      "CA184"
     ]
    },
    {
     "cell_type": "code",
     "collapsed": false,
     "input": [
      "N = 150#amount of time steps\n",
      "v_aveCA184 = np.zeros(N)\n",
      "x_aveCA184 = np.zeros(N)\n",
      "p = initial(200,10)#initial values\n",
      "for i in range(N):\n",
      "    p = CA184(p[0],p[1],p[2],p[3])#for all time steps, keep calling the function\n",
      "    v_aveCA184[i] = np.sum(p[2])/len(p[2])#everytime function is called, average the velocity at every step\n",
      "    x_aveCA184[i] = np.sum(p[1])/len(p[1])#everytime function is called, average the positions at every step\n",
      "print v_aveCA184\n",
      "print x_aveCA184"
     ],
     "language": "python",
     "metadata": {},
     "outputs": [
      {
       "output_type": "stream",
       "stream": "stdout",
       "text": [
        "[ 2.1  1.6  2.   2.7  3.1  3.7  4.2  4.7  5.4  5.6  5.9  6.8  7.   7.3  8.1\n",
        "  6.6  5.8  4.9  5.6  6.3  7.   7.7  7.2  6.6  6.7  6.   5.2  5.1  4.2  3.\n",
        "  1.7  1.5  1.5  1.5  1.5  1.5  1.5  1.5  1.5  1.5  1.5  1.5  1.5  1.5  1.5\n",
        "  1.5  1.5  1.5  1.5  1.5  1.5  1.5  1.5  1.5  1.5  1.5  1.5  1.5  1.5  1.5\n",
        "  1.5  1.5  1.5  1.5  1.5  1.5  1.5  1.5  1.5  1.5  1.5  1.5  1.5  1.5  1.5\n",
        "  1.5  1.5  1.5  1.5  1.5  1.5  1.5  1.5  1.5  1.5  1.5  1.5  1.5  1.5  1.5\n",
        "  1.5  1.5  1.5  1.5  1.5  1.5  1.5  1.5  1.5  1.5  1.5  1.5  1.5  1.5  1.5\n",
        "  1.5  1.5  1.5  1.5  1.5  1.5  1.5  1.5  1.5  1.5  1.5  1.5  1.5  1.5  1.5\n",
        "  1.5  1.5  1.5  1.5  1.5  1.5  1.5  1.5  1.5  1.5  1.5  1.5  1.5  1.5  1.5\n",
        "  1.5  1.5  1.5  1.5  1.5  1.5  1.5  1.5  1.5  1.5  1.5  1.5  1.5  1.5  1.5]\n",
        "[  22.4   23.8   25.7   28.4   31.5   35.1   39.3   44.    48.6   54.2\n",
        "   60.1   66.7   73.7   81.    87.4   92.5   96.8  100.2  104.3  109.1\n",
        "  114.6  120.8  126.5  131.6  136.8  141.3  145.   148.6  151.3  152.8\n",
        "  153.   153.   153.   153.   153.   153.   153.   153.   153.   153.   153.\n",
        "  153.   153.   153.   153.   153.   153.   153.   153.   153.   153.   153.\n",
        "  153.   153.   153.   153.   153.   153.   153.   153.   153.   153.   153.\n",
        "  153.   153.   153.   153.   153.   153.   153.   153.   153.   153.   153.\n",
        "  153.   153.   153.   153.   153.   153.   153.   153.   153.   153.   153.\n",
        "  153.   153.   153.   153.   153.   153.   153.   153.   153.   153.   153.\n",
        "  153.   153.   153.   153.   153.   153.   153.   153.   153.   153.   153.\n",
        "  153.   153.   153.   153.   153.   153.   153.   153.   153.   153.   153.\n",
        "  153.   153.   153.   153.   153.   153.   153.   153.   153.   153.   153.\n",
        "  153.   153.   153.   153.   153.   153.   153.   153.   153.   153.   153.\n",
        "  153.   153.   153.   153.   153.   153.   153.   153.   153.   153. ]\n"
       ]
      }
     ],
     "prompt_number": 34
    },
    {
     "cell_type": "code",
     "collapsed": false,
     "input": [
      "t = arange(1,N+1)\n",
      "plot(t,x_aveCA184)\n",
      "xlabel('Time (steps)')\n",
      "title('Average Position(CA184) vs Time')\n",
      "legend(loc=0)"
     ],
     "language": "python",
     "metadata": {},
     "outputs": [
      {
       "output_type": "stream",
       "stream": "stderr",
       "text": [
        "C:\\Python27\\lib\\site-packages\\matplotlib\\axes.py:4442: UserWarning: No labeled objects found. Use label='...' kwarg on individual plots.\n",
        "  warnings.warn(\"No labeled objects found. \"\n"
       ]
      },
      {
       "output_type": "display_data",
       "png": "[encoded data removed]"
      }
     ],
     "prompt_number": 38
    },
    {
     "cell_type": "code",
     "collapsed": false,
     "input": [
      "plot(t,v_aveCA184,label=\"Average Velocity(CA184) vs Time\")\n",
      "xlabel('Time (steps)')\n",
      "title(\"Average Velocity(CA184) vs Time\")\n",
      "legend(loc=0)"
     ],
     "language": "python",
     "metadata": {},
     "outputs": [
      {
       "output_type": "pyout",
       "prompt_number": 39,
       "text": [
        "<matplotlib.legend.Legend at 0x809ec50>"
       ]
      },
      {
       "output_type": "display_data",
       "png": "[encoded data removed]"
      }
     ],
     "prompt_number": 39
    },
    {
     "cell_type": "code",
     "collapsed": false,
     "input": [
      "density = 10./200.\n",
      "currentCA184 = x_aveCA184*density\n",
      "plot(t,currentCA184,label='Current vs Time')\n",
      "xlabel('Time (steps)')\n",
      "title(\"Current(CA184) vs Time\")\n",
      "legend(loc=0)"
     ],
     "language": "python",
     "metadata": {},
     "outputs": [
      {
       "output_type": "pyout",
       "prompt_number": 40,
       "text": [
        "<matplotlib.legend.Legend at 0x800c668>"
       ]
      },
      {
       "output_type": "display_data",
       "png": "[encoded data removed]"
      }
     ],
     "prompt_number": 40
    },
    {
     "cell_type": "markdown",
     "metadata": {},
     "source": [
      "ASEP"
     ]
    },
    {
     "cell_type": "code",
     "collapsed": false,
     "input": [
      "N = 150#time steps\n",
      "v_aveASEP = np.zeros(N)\n",
      "x_aveASEP = np.zeros(N)\n",
      "w = initial(200,1)#set initial values\n",
      "for i in range(N):\n",
      "    w = ASEP(w[0],w[1],w[2],w[3])\n",
      "    v_aveASEP[i] = np.sum(w[2])/len(w[2])\n",
      "    x_aveASEP[i] = np.sum(w[1])/len(w[1])\n",
      "print v_aveASEP\n",
      "print x_aveASEP"
     ],
     "language": "python",
     "metadata": {},
     "outputs": [
      {
       "output_type": "stream",
       "stream": "stdout",
       "text": [
        "[ 3.9  2.9  2.8  2.   1.8  1.8  1.7  1.7  1.2  1.2  1.   1.   1.   1.   1.\n",
        "  1.   1.   1.   1.   1.   0.6  0.6  0.6  0.6  0.6  0.6  0.6  0.6  0.6  0.6\n",
        "  0.6  0.6  0.6  0.6  0.6  0.   0.   0.   0.   0.   0.   0.   0.   0.   0.\n",
        "  0.   0.   0.   0.   0.   0.   0.   0.   0.   0.   0.   0.   0.   0.   0.\n",
        "  0.   0.   0.   0.   0.   0.   0.   0.   0.   0.   0.   0.   0.   0.   0.\n",
        "  0.   0.   0.   0.   0.   0.   0.   0.   0.   0.   0.   0.   0.   0.   0.\n",
        "  0.   0.   0.   0.   0.   0.   0.   0.   0.   0.   0.   0.   0.   0.   0.\n",
        "  0.   0.   0.   0.   0.   0.   0.   0.   0.   0.   0.   0.   0.   0.   0.\n",
        "  0.   0.   0.   0.   0.   0.   0.   0.   0.   0.   0.   0.   0.   0.   0.\n",
        "  0.   0.   0.   0.   0.   0.   0.   0.   0.   0.   0.   0.   0.   0.   0. ]\n",
        "[ 20.3  20.3  20.3  20.3  20.3  20.3  20.3  20.3  20.3  20.3  20.3  20.3\n",
        "  20.3  20.3  20.3  20.3  20.3  20.3  20.3  20.3  20.3  20.3  20.3  20.3\n",
        "  20.3  20.3  20.3  20.3  20.3  20.3  20.3  20.3  20.3  20.3  20.3  20.3\n",
        "  20.3  20.3  20.3  20.3  20.3  20.3  20.3  20.3  20.3  20.3  20.3  20.3\n",
        "  20.3  20.3  20.3  20.3  20.3  20.3  20.3  20.3  20.3  20.3  20.3  20.3\n",
        "  20.3  20.3  20.3  20.3  20.3  20.3  20.3  20.3  20.3  20.3  20.3  20.3\n",
        "  20.3  20.3  20.3  20.3  20.3  20.3  20.3  20.3  20.3  20.3  20.3  20.3\n",
        "  20.3  20.3  20.3  20.3  20.3  20.3  20.3  20.3  20.3  20.3  20.3  20.3\n",
        "  20.3  20.3  20.3  20.3  20.3  20.3  20.3  20.3  20.3  20.3  20.3  20.3\n",
        "  20.3  20.3  20.3  20.3  20.3  20.3  20.3  20.3  20.3  20.3  20.3  20.3\n",
        "  20.3  20.3  20.3  20.3  20.3  20.3  20.3  20.3  20.3  20.3  20.3  20.3\n",
        "  20.3  20.3  20.3  20.3  20.3  20.3  20.3  20.3  20.3  20.3  20.3  20.3\n",
        "  20.3  20.3  20.3  20.3  20.3  20.3]\n"
       ]
      }
     ],
     "prompt_number": 41
    },
    {
     "cell_type": "code",
     "collapsed": false,
     "input": [
      "plot(t,x_aveASEP)"
     ],
     "language": "python",
     "metadata": {},
     "outputs": [
      {
       "output_type": "pyout",
       "prompt_number": 42,
       "text": [
        "[<matplotlib.lines.Line2D at 0x86d3fd0>]"
       ]
      },
      {
       "output_type": "display_data",
       "png": "[encoded data removed]"
      }
     ],
     "prompt_number": 42
    },
    {
     "cell_type": "code",
     "collapsed": false,
     "input": [
      "plot(t,v_aveASEP)"
     ],
     "language": "python",
     "metadata": {},
     "outputs": [
      {
       "output_type": "pyout",
       "prompt_number": 43,
       "text": [
        "[<matplotlib.lines.Line2D at 0x8979eb8>]"
       ]
      },
      {
       "output_type": "display_data",
       "png": "[encoded data removed]"
      }
     ],
     "prompt_number": 43
    },
    {
     "cell_type": "code",
     "collapsed": false,
     "input": [
      "density = 10./200.\n",
      "currentASEP = x_aveASEP*density\n",
      "plot(t,currentASEP,label='Current vs Time')\n",
      "xlabel('Time (steps)')\n",
      "title(\"Current(ASEP) vs Time\")\n",
      "legend(loc=0)"
     ],
     "language": "python",
     "metadata": {},
     "outputs": [
      {
       "output_type": "pyout",
       "prompt_number": 44,
       "text": [
        "<matplotlib.legend.Legend at 0x86e8518>"
       ]
      },
      {
       "output_type": "display_data",
       "png": "[encoded data removed]"
      }
     ],
     "prompt_number": 44
    },
    {
     "cell_type": "markdown",
     "metadata": {},
     "source": [
      "STCA"
     ]
    },
    {
     "cell_type": "code",
     "collapsed": false,
     "input": [
      "N = 150\n",
      "v_aveSTCA = np.zeros(N)\n",
      "x_aveSTCA = np.zeros(N)\n",
      "p = initial(200,10)\n",
      "for i in range(N):\n",
      "    p = STCA(p[0],p[1],p[2],p[3])\n",
      "    v_aveSTCA[i] = np.sum(p[2])/len(p[2])\n",
      "    x_aveSTCA[i] = np.sum(p[1])/len(p[1])\n",
      "print v_aveSTCA\n",
      "print x_aveSTCA"
     ],
     "language": "python",
     "metadata": {},
     "outputs": [
      {
       "output_type": "stream",
       "stream": "stdout",
       "text": [
        "[ 0.  0.  0.  0.  0.  0.  0.  0.  0.  0.  0.  0.  0.  0.  0.  0.  0.  0.\n",
        "  0.  0.  0.  0.  0.  0.  0.  0.  0.  0.  0.  0.  0.  0.  0.  0.  0.  0.\n",
        "  0.  0.  0.  0.  0.  0.  0.  0.  0.  0.  0.  0.  0.  0.  0.  0.  0.  0.\n",
        "  0.  0.  0.  0.  0.  0.  0.  0.  0.  0.  0.  0.  0.  0.  0.  0.  0.  0.\n",
        "  0.  0.  0.  0.  0.  0.  0.  0.  0.  0.  0.  0.  0.  0.  0.  0.  0.  0.\n",
        "  0.  0.  0.  0.  0.  0.  0.  0.  0.  0.  0.  0.  0.  0.  0.  0.  0.  0.\n",
        "  0.  0.  0.  0.  0.  0.  0.  0.  0.  0.  0.  0.  0.  0.  0.  0.  0.  0.\n",
        "  0.  0.  0.  0.  0.  0.  0.  0.  0.  0.  0.  0.  0.  0.  0.  0.  0.  0.\n",
        "  0.  0.  0.  0.  0.  0.]\n",
        "[ 20.3  20.3  20.3  20.3  20.3  20.3  20.3  20.3  20.3  20.3  20.3  20.3\n",
        "  20.3  20.3  20.3  20.3  20.3  20.3  20.3  20.3  20.3  20.3  20.3  20.3\n",
        "  20.3  20.3  20.3  20.3  20.3  20.3  20.3  20.3  20.3  20.3  20.3  20.3\n",
        "  20.3  20.3  20.3  20.3  20.3  20.3  20.3  20.3  20.3  20.3  20.3  20.3\n",
        "  20.3  20.3  20.3  20.3  20.3  20.3  20.3  20.3  20.3  20.3  20.3  20.3\n",
        "  20.3  20.3  20.3  20.3  20.3  20.3  20.3  20.3  20.3  20.3  20.3  20.3\n",
        "  20.3  20.3  20.3  20.3  20.3  20.3  20.3  20.3  20.3  20.3  20.3  20.3\n",
        "  20.3  20.3  20.3  20.3  20.3  20.3  20.3  20.3  20.3  20.3  20.3  20.3\n",
        "  20.3  20.3  20.3  20.3  20.3  20.3  20.3  20.3  20.3  20.3  20.3  20.3\n",
        "  20.3  20.3  20.3  20.3  20.3  20.3  20.3  20.3  20.3  20.3  20.3  20.3\n",
        "  20.3  20.3  20.3  20.3  20.3  20.3  20.3  20.3  20.3  20.3  20.3  20.3\n",
        "  20.3  20.3  20.3  20.3  20.3  20.3  20.3  20.3  20.3  20.3  20.3  20.3\n",
        "  20.3  20.3  20.3  20.3  20.3  20.3]\n"
       ]
      }
     ],
     "prompt_number": 45
    },
    {
     "cell_type": "code",
     "collapsed": false,
     "input": [
      "plot(t,x_aveSTCA)"
     ],
     "language": "python",
     "metadata": {},
     "outputs": [
      {
       "output_type": "pyout",
       "prompt_number": 46,
       "text": [
        "[<matplotlib.lines.Line2D at 0xa2346d8>]"
       ]
      },
      {
       "output_type": "display_data",
       "png": "[encoded data removed]"
      }
     ],
     "prompt_number": 46
    },
    {
     "cell_type": "code",
     "collapsed": false,
     "input": [
      "plot(t,v_aveSTCA)"
     ],
     "language": "python",
     "metadata": {},
     "outputs": [
      {
       "output_type": "pyout",
       "prompt_number": 298,
       "text": [
        "[<matplotlib.lines.Line2D at 0xd99fac8>]"
       ]
      },
      {
       "output_type": "display_data",
       "png": "[encoded data removed]"
      }
     ],
     "prompt_number": 298
    },
    {
     "cell_type": "code",
     "collapsed": false,
     "input": [],
     "language": "python",
     "metadata": {},
     "outputs": []
    },
    {
     "cell_type": "code",
     "collapsed": false,
     "input": [],
     "language": "python",
     "metadata": {},
     "outputs": []
    },
    {
     "cell_type": "code",
     "collapsed": false,
     "input": [],
     "language": "python",
     "metadata": {},
     "outputs": []
    },
    {
     "cell_type": "code",
     "collapsed": false,
     "input": [
      "import sys\n",
      "sys.path.insert(0,\"Users/Alex/Documents/Github/PHYS202-S13/JSAnimation\")\n",
      "from JSAnimation import IPython_display"
     ],
     "language": "python",
     "metadata": {},
     "outputs": [
      {
       "ename": "ImportError",
       "evalue": "No module named JSAnimation",
       "output_type": "pyerr",
       "traceback": [
        "\u001b[1;31m---------------------------------------------------------------------------\u001b[0m\n\u001b[1;31mImportError\u001b[0m                               Traceback (most recent call last)",
        "\u001b[1;32m<ipython-input-299-a1870024c6f7>\u001b[0m in \u001b[0;36m<module>\u001b[1;34m()\u001b[0m\n\u001b[0;32m      1\u001b[0m \u001b[1;32mimport\u001b[0m \u001b[0msys\u001b[0m\u001b[1;33m\u001b[0m\u001b[0m\n\u001b[0;32m      2\u001b[0m \u001b[0msys\u001b[0m\u001b[1;33m.\u001b[0m\u001b[0mpath\u001b[0m\u001b[1;33m.\u001b[0m\u001b[0minsert\u001b[0m\u001b[1;33m(\u001b[0m\u001b[1;36m0\u001b[0m\u001b[1;33m,\u001b[0m\u001b[1;34m\"Users/Alex/Documents/Github/PHYS202-S13/JSAnimation\"\u001b[0m\u001b[1;33m)\u001b[0m\u001b[1;33m\u001b[0m\u001b[0m\n\u001b[1;32m----> 3\u001b[1;33m \u001b[1;32mfrom\u001b[0m \u001b[0mJSAnimation\u001b[0m \u001b[1;32mimport\u001b[0m \u001b[0mIPython_display\u001b[0m\u001b[1;33m\u001b[0m\u001b[0m\n\u001b[0m",
        "\u001b[1;31mImportError\u001b[0m: No module named JSAnimation"
       ]
      }
     ],
     "prompt_number": 299
    },
    {
     "cell_type": "code",
     "collapsed": false,
     "input": [],
     "language": "python",
     "metadata": {},
     "outputs": []
    }
   ],
   "metadata": {}
  }
 ]
}