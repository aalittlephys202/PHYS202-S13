{
 "metadata": {
  "name": "Traffic Flow"
 },
 "nbformat": 3,
 "nbformat_minor": 0,
 "worksheets": [
  {
   "cells": [
    {
     "cell_type": "markdown",
     "metadata": {},
     "source": [
      "I chose the One dimensional traffic flow"
     ]
    },
    {
     "cell_type": "code",
     "collapsed": false,
     "input": [
      "import numpy as np\n",
      "import math"
     ],
     "language": "python",
     "metadata": {},
     "outputs": [],
     "prompt_number": 3
    },
    {
     "cell_type": "code",
     "collapsed": false,
     "input": [
      "road = arange(1,40)\n",
      "road"
     ],
     "language": "python",
     "metadata": {},
     "outputs": [
      {
       "output_type": "pyout",
       "prompt_number": 5,
       "text": [
        "array([ 1,  2,  3,  4,  5,  6,  7,  8,  9, 10, 11, 12, 13, 14, 15, 16, 17,\n",
        "       18, 19, 20, 21, 22, 23, 24, 25, 26, 27, 28, 29, 30, 31, 32, 33, 34,\n",
        "       35, 36, 37, 38, 39])"
       ]
      }
     ],
     "prompt_number": 5
    },
    {
     "cell_type": "code",
     "collapsed": false,
     "input": [
      "n = 5 # number of cars\n",
      "x1 = np.random.random(n)*40\n",
      "x = sort(x1.round())#array of positions\n",
      "v1 = np.random.random(n)*65 \n",
      "v = v1.round()#velocity array\n",
      "g = np.zeros(5) #empty spaces in front of car\n",
      "def CA184(l,x,v):\n",
      "    \"\"\"CA184 algothrim\"\"\"\n",
      "    for i in range(n):\n",
      "        if i+1 < n:#if car isnt last car\n",
      "            g[i] = int(x[i+1] - x[i])#calculate distance to the car in front of it\n",
      "        else:\n",
      "            g[i] = l - x[i]#if last car, calculate distance to end of road\n",
      "    for i in range(n):\n",
      "        if g[i] == 0:#if no space in front of car\n",
      "            v[i] = 0#dont go\n",
      "        elif v[i] > g[i]:#if amount of speed greater than space in front of car\n",
      "            v[i] = g[i] #make them equal aka slows down\n",
      "            x[i] += v[i] # move car forward v[i]\n",
      "        elif v[i] < g[i] and v[i] < vmax: # if speed less than space in front of car\n",
      "            v[i] = v[i] + 1 # speed up by 1\n",
      "            x[i] += v[i] # move car forward by v[i]\n",
      "    print \"New car positions: \",x\n",
      "    print \"New Velocities:\", v\n",
      "    print \"Distance Between:\", g"
     ],
     "language": "python",
     "metadata": {},
     "outputs": [],
     "prompt_number": 140
    },
    {
     "cell_type": "code",
     "collapsed": false,
     "input": [
      "print \"Car positions:\", x\n",
      "print \"Car velocities:\",v\n",
      "CA184(40,x,v)"
     ],
     "language": "python",
     "metadata": {},
     "outputs": [
      {
       "output_type": "stream",
       "stream": "stdout",
       "text": [
        "Car positions: [  1.  15.  20.  23.  33.]\n",
        "Car velocities: [  7.   9.   6.  25.  43.]\n",
        "New car positions:  [  9.  20.  23.  33.  40.]\n",
        "New Velocities: [  8.   5.   3.  10.   7.]\n",
        "Distance Between: [ 14.   5.   3.  10.   7.]\n"
       ]
      }
     ],
     "prompt_number": 135
    },
    {
     "cell_type": "markdown",
     "metadata": {},
     "source": [
      "Test code: 2nd time"
     ]
    },
    {
     "cell_type": "code",
     "collapsed": false,
     "input": [
      "print \"Car positions:\", x\n",
      "print \"Car velocities:\",v\n",
      "CA184(40,x,v)"
     ],
     "language": "python",
     "metadata": {},
     "outputs": [
      {
       "output_type": "stream",
       "stream": "stdout",
       "text": [
        "Car positions: [  9.  20.  23.  33.  40.]\n",
        "Car velocities: [  8.   5.   3.  10.   7.]\n",
        "New car positions:  [ 18.  23.  27.  40.  40.]\n",
        "New Velocities: [ 9.  3.  4.  7.  0.]\n",
        "Distance Between: [ 11.   3.  10.   7.   0.]\n"
       ]
      }
     ],
     "prompt_number": 136
    },
    {
     "cell_type": "markdown",
     "metadata": {},
     "source": [
      "Test code: 3rd time"
     ]
    },
    {
     "cell_type": "code",
     "collapsed": false,
     "input": [
      "print \"Car positions:\", x\n",
      "print \"Car velocities:\",v\n",
      "CA184(40,x,v)"
     ],
     "language": "python",
     "metadata": {},
     "outputs": [
      {
       "output_type": "stream",
       "stream": "stdout",
       "text": [
        "Car positions: [ 18.  23.  27.  40.  40.]\n",
        "Car velocities: [ 9.  3.  4.  7.  0.]\n",
        "New car positions:  [ 23.  27.  32.  40.  40.]\n",
        "New Velocities: [ 5.  4.  5.  0.  0.]\n",
        "Distance Between: [  5.   4.  13.   0.   0.]\n"
       ]
      }
     ],
     "prompt_number": 137
    },
    {
     "cell_type": "markdown",
     "metadata": {},
     "source": [
      "Test code: 4th time"
     ]
    },
    {
     "cell_type": "code",
     "collapsed": false,
     "input": [
      "print \"Car positions:\", x\n",
      "print \"Car velocities:\",v\n",
      "CA184(40,x,v)"
     ],
     "language": "python",
     "metadata": {},
     "outputs": [
      {
       "output_type": "stream",
       "stream": "stdout",
       "text": [
        "Car positions: [ 23.  27.  32.  40.  40.]\n",
        "Car velocities: [ 5.  4.  5.  0.  0.]\n",
        "New car positions:  [ 27.  32.  38.  40.  40.]\n",
        "New Velocities: [ 4.  5.  6.  0.  0.]\n",
        "Distance Between: [ 4.  5.  8.  0.  0.]\n"
       ]
      }
     ],
     "prompt_number": 138
    },
    {
     "cell_type": "code",
     "collapsed": false,
     "input": [],
     "language": "python",
     "metadata": {},
     "outputs": []
    }
   ],
   "metadata": {}
  }
 ]
}