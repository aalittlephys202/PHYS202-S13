{
 "metadata": {
  "name": "Documentation Notebook"
 },
 "nbformat": 3,
 "nbformat_minor": 0,
 "worksheets": [
  {
   "cells": [
    {
     "cell_type": "markdown",
     "metadata": {},
     "source": [
      "I designed this notebook so that I can explain my project, clarify anything that might be unclear, and answer questions\n",
      "="
     ]
    },
    {
     "cell_type": "markdown",
     "metadata": {},
     "source": [
      "I start out my project by defining the initial conditions for my cars. I take in road length and number of cars as my variables and output the road length, an array of car positions, an array car velocities, and number of cars. I return these 4 variables because I plan on having my rulesets take these four variables as inputs. I start off by definning the CA184 Rule set and then test the function to make sure it works. From there I move on and define the STCA ruleset and ASEP ruleset and test these as well to make sure all is working properly. I then go and start to make plots of the average velocity, average positions, and current for each of my rule sets. We were suppose to make the graph in a special animation, but I was never able to get the animation to work."
     ]
    },
    {
     "cell_type": "markdown",
     "metadata": {},
     "source": [
      "My graphs look off because in my rule sets I was never able to make the road 'loop', as in when the cars got to the end of the road, they just stopped there and waited. This is what causes the flat lines on all my graph. If i got my road to loop "
     ]
    },
    {
     "cell_type": "code",
     "collapsed": false,
     "input": [],
     "language": "python",
     "metadata": {},
     "outputs": []
    }
   ],
   "metadata": {}
  }
 ]
}