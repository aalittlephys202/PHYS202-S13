{
 "metadata": {
  "name": "Data I-O"
 },
 "nbformat": 3,
 "nbformat_minor": 0,
 "worksheets": [
  {
   "cells": [
    {
     "cell_type": "code",
     "collapsed": false,
     "input": [
      "DataIn = loadtxt('input.dat')\n",
      "print DataIn.shape\n",
      "print DataIn"
     ],
     "language": "python",
     "metadata": {},
     "outputs": [
      {
       "output_type": "stream",
       "stream": "stdout",
       "text": [
        "(5L, 3L)\n",
        "[[ 0.   1.1  0.1]\n",
        " [ 2.   1.9  0.2]\n",
        " [ 4.   3.2  0.1]\n",
        " [ 6.   4.   0.3]\n",
        " [ 8.   5.9  0.3]]\n"
       ]
      }
     ],
     "prompt_number": 2
    },
    {
     "cell_type": "code",
     "collapsed": false,
     "input": [
      "print DataIn[:,2]"
     ],
     "language": "python",
     "metadata": {},
     "outputs": [
      {
       "output_type": "stream",
       "stream": "stdout",
       "text": [
        "[ 0.1  0.2  0.1  0.3  0.3]\n"
       ]
      }
     ],
     "prompt_number": 3
    },
    {
     "cell_type": "code",
     "collapsed": false,
     "input": [
      "x, y, yerr = loadtxt('input.dat', unpack=True)\n",
      "print x\n",
      "print y\n",
      "print yerr"
     ],
     "language": "python",
     "metadata": {},
     "outputs": [
      {
       "output_type": "stream",
       "stream": "stdout",
       "text": [
        "[ 0.  2.  4.  6.  8.]\n",
        "[ 1.1  1.9  3.2  4.   5.9]\n",
        "[ 0.1  0.2  0.1  0.3  0.3]\n"
       ]
      }
     ],
     "prompt_number": 4
    },
    {
     "cell_type": "code",
     "collapsed": false,
     "input": [
      "x, y = loadtxt('input.dat', unpack=True, usecols=[0,1])\n",
      "print x\n",
      "print y"
     ],
     "language": "python",
     "metadata": {},
     "outputs": [
      {
       "output_type": "stream",
       "stream": "stdout",
       "text": [
        "[ 0.  2.  4.  6.  8.]\n",
        "[ 1.1  1.9  3.2  4.   5.9]\n"
       ]
      }
     ],
     "prompt_number": 5
    },
    {
     "cell_type": "markdown",
     "metadata": {},
     "source": [
      "Dealing with cvs files\n",
      "="
     ]
    },
    {
     "cell_type": "code",
     "collapsed": false,
     "input": [
      "x, y = loadtxt('input.csv',unpack=True, delimiter=',', usecols=[0,1])\n",
      "print x,y"
     ],
     "language": "python",
     "metadata": {},
     "outputs": [
      {
       "output_type": "stream",
       "stream": "stdout",
       "text": [
        "[ 0.  2.  4.  6.  8.] [ 1.1  1.9  3.2  4.   5.9]\n"
       ]
      }
     ],
     "prompt_number": 6
    },
    {
     "cell_type": "markdown",
     "metadata": {},
     "source": [
      "Writing data to a file\n",
      "="
     ]
    },
    {
     "cell_type": "code",
     "collapsed": false,
     "input": [
      "t = array([0,1,2,3,4,5,6,7,8,9])\n",
      "v = array([0.137,0.456,0.591,0.713,0.859,0.926,1.139,1.327,1.512,1.875])"
     ],
     "language": "python",
     "metadata": {},
     "outputs": [],
     "prompt_number": 25
    },
    {
     "cell_type": "code",
     "collapsed": false,
     "input": [
      "p = 0.15 + v/10.0"
     ],
     "language": "python",
     "metadata": {},
     "outputs": [],
     "prompt_number": 26
    },
    {
     "cell_type": "code",
     "collapsed": false,
     "input": [
      "print t.shape\n",
      "print p.shape"
     ],
     "language": "python",
     "metadata": {},
     "outputs": [
      {
       "output_type": "stream",
       "stream": "stdout",
       "text": [
        "(10L,)\n",
        "(10L,)\n"
       ]
      }
     ],
     "prompt_number": 27
    },
    {
     "cell_type": "code",
     "collapsed": false,
     "input": [
      "p"
     ],
     "language": "python",
     "metadata": {},
     "outputs": [
      {
       "output_type": "pyout",
       "prompt_number": 28,
       "text": [
        "array([ 0.1637,  0.1956,  0.2091,  0.2213,  0.2359,  0.2426,  0.2639,\n",
        "        0.2827,  0.3012,  0.3375])"
       ]
      }
     ],
     "prompt_number": 28
    },
    {
     "cell_type": "code",
     "collapsed": false,
     "input": [
      "print len(p)\n",
      "len(v)"
     ],
     "language": "python",
     "metadata": {},
     "outputs": [
      {
       "output_type": "stream",
       "stream": "stdout",
       "text": [
        "10\n"
       ]
      },
      {
       "output_type": "pyout",
       "prompt_number": 29,
       "text": [
        "10"
       ]
      }
     ],
     "prompt_number": 29
    },
    {
     "cell_type": "code",
     "collapsed": false,
     "input": [
      "savetxt('output.dat',(t,p))"
     ],
     "language": "python",
     "metadata": {},
     "outputs": [],
     "prompt_number": 30
    },
    {
     "cell_type": "code",
     "collapsed": false,
     "input": [
      "DataOut = column_stack((t,p))\n",
      "savetxt('output.dat',DataOut)"
     ],
     "language": "python",
     "metadata": {},
     "outputs": [],
     "prompt_number": 31
    },
    {
     "cell_type": "code",
     "collapsed": false,
     "input": [
      " #General form-  fmt = '%(width).(precision)(specifier)'"
     ],
     "language": "python",
     "metadata": {},
     "outputs": [],
     "prompt_number": 32
    },
    {
     "cell_type": "code",
     "collapsed": false,
     "input": [
      "savetxt('output.dat',DataOut,fmt=('%3i','%4.3f'))\n",
      "f = open(\"output.dat\",\"w\")\n",
      "f.write(\"#my comment line for this file, followed by a blank line, then the data\\n\\n\")\n",
      "savetxt(f,DataOut,fmt=('%3i','%4.3f'))\n",
      "f.close()"
     ],
     "language": "python",
     "metadata": {},
     "outputs": [],
     "prompt_number": 33
    },
    {
     "cell_type": "markdown",
     "metadata": {},
     "source": [
      "Exercise 1\n",
      "="
     ]
    },
    {
     "cell_type": "code",
     "collapsed": false,
     "input": [
      "Time = array([1,2,3,4,5,6,7,8,9,10])\n",
      "Position = array([7.75,7.33,6.89,6.45,5.96,5.55,5.10,4.49,3.93,3.58])\n",
      "Uncertainty = array([0.02,0.03,0.03,0.04,0.05,0.06,0.08,0.11,0.14,0.17])"
     ],
     "language": "python",
     "metadata": {},
     "outputs": [],
     "prompt_number": 42
    },
    {
     "cell_type": "code",
     "collapsed": false,
     "input": [
      "savetxt('linearData.dat',(Time,Position,Uncertainty))"
     ],
     "language": "python",
     "metadata": {},
     "outputs": [],
     "prompt_number": 43
    },
    {
     "cell_type": "code",
     "collapsed": false,
     "input": [
      "Newdata = column_stack((Time,Position,Uncertainty))\n",
      "savetxt('linearData.dat',Newdata)"
     ],
     "language": "python",
     "metadata": {},
     "outputs": [],
     "prompt_number": 44
    },
    {
     "cell_type": "code",
     "collapsed": false,
     "input": [
      "savetxt('linearData.csv',Newdata)"
     ],
     "language": "python",
     "metadata": {},
     "outputs": [],
     "prompt_number": 45
    },
    {
     "cell_type": "markdown",
     "metadata": {},
     "source": [
      "Exercise 2\n",
      "="
     ]
    },
    {
     "cell_type": "markdown",
     "metadata": {},
     "source": [
      "(a)"
     ]
    },
    {
     "cell_type": "code",
     "collapsed": false,
     "input": [
      "import numpy as np"
     ],
     "language": "python",
     "metadata": {},
     "outputs": [],
     "prompt_number": 50
    },
    {
     "cell_type": "code",
     "collapsed": false,
     "input": [
      "def LinearLeastSquaresFit(x,y):\n",
      "    \"\"\"Take in arrays representing (x,y) values for a set of linearly varying data and \n",
      "    perform a linear least squares regression. Return the resulting slope and intercept \n",
      "    parameters of the best fit line with their uncertainties.\"\"\"\n",
      "    averagex = average(x)\n",
      "    averagey = average(y)\n",
      "    averagex2 = average(x**2)\n",
      "    averagexy = average(x*y)\n",
      "    m = (averagexy - (averagex*averagey))/(averagex2 - averagex**2)\n",
      "    b = (averagex2*averagey - averagex*averagexy)/(averagex2 - averagex**2)\n",
      "    s2 = average( (y-(m*x+b))**2 )\n",
      "    slerr = ( (1.0/(len(x)-2)) * (s2/((averagex2 - averagex**2))) )**(0.5)\n",
      "    interr = ( (1.0/(len(x)-2)) * ((s2*averagex2)/((averagex2 - averagex**2))) )**(0.5)\n",
      "    return m, b, slerr, interr"
     ],
     "language": "python",
     "metadata": {},
     "outputs": [],
     "prompt_number": 18
    },
    {
     "cell_type": "markdown",
     "metadata": {},
     "source": [
      "(b)"
     ]
    },
    {
     "cell_type": "code",
     "collapsed": false,
     "input": [
      "x,y = loadtxt('linearData.dat',unpack=True,usecols=[0,1])#load txt file and set x and y values for function above\n",
      "print LinearLeastSquaresFit(x,y)"
     ],
     "language": "python",
     "metadata": {},
     "outputs": [
      {
       "output_type": "stream",
       "stream": "stdout",
       "text": [
        "(-0.47145454545454524, 8.2960000000000012, 0.0079948330421529545, 0.049606634453651217)\n"
       ]
      }
     ],
     "prompt_number": 19
    },
    {
     "cell_type": "markdown",
     "metadata": {},
     "source": [
      "(c)"
     ]
    },
    {
     "cell_type": "code",
     "collapsed": false,
     "input": [
      "# print values as variables so that i can use them in the plotting equations below\n",
      "m = LinearLeastSquaresFit(x,y)[0]\n",
      "print m\n",
      "b = LinearLeastSquaresFit(x,y)[1]\n",
      "print b\n",
      "slerr = LinearLeastSquaresFit(x,y)[2]\n",
      "print slerr\n",
      "interr = LinearLeastSquaresFit(x,y)[3]\n",
      "print interr"
     ],
     "language": "python",
     "metadata": {},
     "outputs": [
      {
       "output_type": "stream",
       "stream": "stdout",
       "text": [
        "-0.471454545455\n",
        "8.296\n",
        "0.00799483304215\n",
        "0.0496066344537\n"
       ]
      }
     ],
     "prompt_number": 32
    },
    {
     "cell_type": "code",
     "collapsed": false,
     "input": [
      "linelabel =\"y = %.4f x + %.4f\" %(m,b)\n",
      "pluslinelabel = \"y = %.4f x + %.4f\" %((m+slerr),(b+interr))\n",
      "minuslinelabel = \"y = %.4f x + %.4f\" %((m-slerr),(b-interr))\n",
      "plot(x,y,label=linelabel)\n",
      "plot(x,(m+slerr)*x+(b+interr),label=pluslinelabel)\n",
      "plot(x,(m-slerr)*x+(b-interr),label=minuslinelabel)\n",
      "legend(loc=0)\n",
      "show()"
     ],
     "language": "python",
     "metadata": {},
     "outputs": [
      {
       "output_type": "display_data",
       "png": "[encoded data removed]"
      }
     ],
     "prompt_number": 29
    },
    {
     "cell_type": "markdown",
     "metadata": {},
     "source": [
      "Exercise 3\n",
      "="
     ]
    },
    {
     "cell_type": "markdown",
     "metadata": {},
     "source": [
      "(a)"
     ]
    },
    {
     "cell_type": "code",
     "collapsed": false,
     "input": [
      "def WeightedLinearLeastSquaresFit(x,y,w):\n",
      "    \"\"\"Take in arrays representing (x,y) values for a set of linearly varying data\n",
      "    and an array of weights w.  Preform a weighted linear least squares regression.\n",
      "    Return the resulting slope and intercept parameters of the best fit line with\n",
      "    their uncertainties.\"\"\"\n",
      "    wsum = sum(w)\n",
      "    wx = sum(x*w)\n",
      "    wx2 = sum(w*(x**2))\n",
      "    wy = sum(w*y)\n",
      "    wxy = sum(w*x*y)\n",
      "    m = (wsum*wxy-wx*wy)/(wsum*wx2 - (wx**2))\n",
      "    b = (wx2*wy-wx*wxy)/(wsum*wx2 - (wx**2))\n",
      "    if sum(w)/len(w) == 1:#if this equals 1, should behave like question 2\n",
      "        averagex = average(x)\n",
      "        averagey = average(y)\n",
      "        averagex2 = average(x**2)\n",
      "        averagexy = average(x*y)\n",
      "        dev = y - (m*x+b)\n",
      "        dev1 = average(dev**2)\n",
      "        slerr = ( (1.0/(len(x)-2)) * (dev1/((averagex2 - averagex**2))) )**(0.5)\n",
      "        interr = ( (1.0/(len(x)-2)) * ((dev1*averagex2)/((averagex2 - averagex**2))) )**(0.5)\n",
      "    else:\n",
      "        slerr = (wsum/((wsum*wx2) - (wx**2)))**0.5 #weighted slope error\n",
      "        interr = (wx2/(wsum*wx2 - wx**2))**0.5 #weighted intercept error\n",
      "    return m,b,slerr,interr"
     ],
     "language": "python",
     "metadata": {},
     "outputs": [],
     "prompt_number": 31
    },
    {
     "cell_type": "markdown",
     "metadata": {},
     "source": [
      "(b)"
     ]
    },
    {
     "cell_type": "code",
     "collapsed": false,
     "input": [
      "x,y,z = loadtxt('linearData.dat',unpack=True,usecols=[0,1,2])\n",
      "w = 1/(z**2)\n",
      "print WeightedLinearLeastSquaresFit(x,y,w)"
     ],
     "language": "python",
     "metadata": {},
     "outputs": [
      {
       "output_type": "stream",
       "stream": "stdout",
       "text": [
        "(-0.45102398348675593, 8.220071817895505, 0.0065758708587924392, 0.021437765208320705)\n"
       ]
      }
     ],
     "prompt_number": 23
    },
    {
     "cell_type": "markdown",
     "metadata": {},
     "source": [
      "(c)"
     ]
    },
    {
     "cell_type": "code",
     "collapsed": false,
     "input": [
      "#print values as variables so i can use them in the equations for plotting\n",
      "mw = WeightedLinearLeastSquaresFit(x,y,w)[0]\n",
      "print mw\n",
      "bw = WeightedLinearLeastSquaresFit(x,y,w)[1]\n",
      "print bw\n",
      "slerrw = WeightedLinearLeastSquaresFit(x,y,w)[2]\n",
      "print slerrw\n",
      "interrw = WeightedLinearLeastSquaresFit(x,y,w)[3]\n",
      "print interrw"
     ],
     "language": "python",
     "metadata": {},
     "outputs": [
      {
       "output_type": "stream",
       "stream": "stdout",
       "text": [
        "-0.451023983487\n",
        "8.2200718179\n",
        "0.00657587085879\n",
        "0.0214377652083\n"
       ]
      }
     ],
     "prompt_number": 30
    },
    {
     "cell_type": "code",
     "collapsed": false,
     "input": [
      "linelabel =\"y = %.4f x + %.4f\" %(m,b)\n",
      "weightedlinelabel = \"weighted_y = %.4f x + %.4f\" %(mw,bw)\n",
      "plot(x,(m*x+b),label=linelabel)\n",
      "plot(x,(mw*x+bw),label=weightedlinelabel)\n",
      "errorbar(x,y,z,label='error')\n",
      "legend(loc=0)\n",
      "show()"
     ],
     "language": "python",
     "metadata": {},
     "outputs": [
      {
       "output_type": "display_data",
       "png": "[encoded data removed]"
      }
     ],
     "prompt_number": 26
    },
    {
     "cell_type": "code",
     "collapsed": false,
     "input": [],
     "language": "python",
     "metadata": {},
     "outputs": []
    }
   ],
   "metadata": {}
  }
 ]
}